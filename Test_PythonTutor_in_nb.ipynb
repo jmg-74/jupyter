{
 "cells": [
  {
   "cell_type": "markdown",
   "metadata": {},
   "source": [
    "Source :\n",
    "https://www.codekodo.net/documentation/guides/Comment_ex%C3%A9cuter_un_programme_Python_pas_%C3%A0_pas.ipynb\n",
    "\n",
    "(*Je reprends ça ici, pour tester si ça fonctionne sur mon dépôt...*)\n"
   ]
  },
  {
   "cell_type": "code",
   "execution_count": null,
   "metadata": {},
   "outputs": [],
   "source": [
    "# executez cette cellule puis effacez\n",
    "# ou masquez la liste des bibliothèques\n",
    "# chargées afin de faciliter l'utilisation\n",
    "# de la cellule suivante.\n",
    "\n",
    "!pip install metakernel\n",
    "from metakernel import register_ipython_magics\n",
    "register_ipython_magics()"
   ]
  },
  {
   "cell_type": "code",
   "execution_count": null,
   "metadata": {},
   "outputs": [],
   "source": [
    "%%tutor\n",
    "\n",
    "# CODE PYTHON A EXECUTER PAS A PAS\n",
    "# utilisez l'exemple ci-dessous ou\n",
    "# remplacez l'exemple par votre code\n",
    "liste = []\n",
    "for i in range(10):\n",
    "    liste.append(i ** 2)"
   ]
  }
 ],
 "metadata": {
  "kernelspec": {
   "display_name": "Python 3",
   "language": "python",
   "name": "python3"
  },
  "language_info": {
   "codemirror_mode": {
    "name": "ipython",
    "version": 3
   },
   "file_extension": ".py",
   "mimetype": "text/x-python",
   "name": "python",
   "nbconvert_exporter": "python",
   "pygments_lexer": "ipython3",
   "version": "3.6.8"
  }
 },
 "nbformat": 4,
 "nbformat_minor": 2
}
