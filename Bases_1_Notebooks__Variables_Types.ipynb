{
 "cells": [
  {
   "cell_type": "markdown",
   "metadata": {},
   "source": [
    "# Bases en Python - (1°) Les variables\n",
    "On va se rafraichir la mémoire, revoir et approfondir la notion de variable, en programmant en Python.\n",
    "\n",
    "On présente aussi au passage, en les utilisant, les ***notebooks*** (ou calepins) Jupyter: ce document en est un ! Ils permettent d'intercaler textes et codes Python.\n",
    "\n",
    "---\n",
    "\n",
    "## Notebooks : l'essentiel\n",
    "### Distinction entre programme Python et interprétation directe dans un *shell*\n",
    "* l'écriture d'un **script** ou **programme** (un fichier texte `.py`), qu'on peut enregistrer pour le conserver et qu'on exécute dans sa globalité à la demande.\n",
    "* l'exécution immédiate de chaque commande dans un ***shell*** (ou **console**, **terminal**) Python, dès qu'on appuie sur [ENTRÉE].\n",
    "\n",
    "> *On voit qu'on est dans un shell Python car la saisie se fait après une «invite», qui est souvent l'une des  écritures suivantes*:\n",
    "> - `>>>`\n",
    "> - `In[...]`\n",
    "> - `Entrée[...]`\n",
    "\n",
    "### Le notebook, entre programme et *shell*.\n",
    "Il contient différentes *cellules* qui se succèdent. Certaines sont de type «texte avec mise en forme» (codé en *markdown* pour ceux qui connaissent), d'autres sont constituées de code Python. Toutes sont directement modifiables.\n",
    "* **On exécute le code d'une cellule Python avec [CTRL]+[ENTRÉE]**, ou le bouton correspondant, ou le menu.\n",
    "* **Ce qui a été créé reste connu\\*** par les cellules exécutées ensuite: variables, déclarations de fonctions...\n",
    "* **On peut ré-exécuter une cellule**, après l'avoir éventuellement modifiée.\n",
    "* \\* On peut **«tout oublier», en redémarrant le *kernel* (noyau)»**, autrement dit ici l'interpréteur Python.\n",
    "\n",
    "---\n",
    "## Variables\n",
    "### Affectations\n",
    "On donne une valeur à une variable avec `la_variable = une_expression`\n",
    "\n",
    "L'expression à droite du `=` est «évaluée», calculée, *puis* sa valeur est attribuée à la variable à gauche du `=`"
   ]
  },
  {
   "cell_type": "code",
   "execution_count": null,
   "metadata": {
    "collapsed": true
   },
   "outputs": [],
   "source": [
    "# Exemple d'affectations (attention à l'ordre, on ne peut pas écrire 3 = score !!)\n",
    "score = 3\n",
    "bonus = 5\n",
    "score = score + bonus\n",
    "score = score + 1   # Variante équivalente:  score += 1\n",
    "score = score * 2"
   ]
  },
  {
   "cell_type": "markdown",
   "metadata": {},
   "source": [
    "### Affichage d'une valeur de variable, selon le contexte\n",
    "* Pour afficher la valeur d'une variable `x1` en Python, dans **le *shell* (la console)**, il suffit de saisir `x1` puis d'appuyer sur [ENTRÉE]. \n",
    "* Dans un **script (un programme)** on doit utiliser `print(x1)`.\n",
    "\n",
    "**Dans un _notebook_**, l'affichage d'une variable peut se faire **comme dans le *shell*** si l'on saisit son nom **comme dernière commande** avant d'exécuter la cellule. Sinon, on utilisera `print()`...\n",
    "\n",
    "---\n",
    "**⇒** Devine la valeur de la variable `score` à la fin du script de la cellule précédente, puis complète ce programme pour que cette valeur soit affichée en dessous du code (*vérifie alors en exécutant la cellule, on ne répètera plus cette consigne, mais elle restera toujours valable*). \n",
    "\n",
    "Puis fais en sorte que la variable `score` soit affichée cette fois-ci après chaque affectation qui la concerne.\n",
    "\n",
    "Affecte maintenant à la variable `score` la valeur -5 au départ et relance le programme.\n",
    "\n",
    "Finalement, vérifie que la valeur de la variable `score`, ainsi que celle de `bonus`, restent connues dans la cellule suivante"
   ]
  },
  {
   "cell_type": "code",
   "execution_count": null,
   "metadata": {
    "collapsed": true
   },
   "outputs": [],
   "source": [
    "score # Tu essaieras ensuite avec `bonus` ..."
   ]
  },
  {
   "cell_type": "markdown",
   "metadata": {},
   "source": [
    "## Type d'une variable\n",
    "De la nature de l'information désignée par une variable dépend la manière dont l'ordinateur la stocke sous forme binaire et la manipule. \n",
    "\n",
    "Les **types simples** (*au sens «non composé», pas «facile»*) à bien connaître sont:\n",
    "* les **entiers** (positifs ou non, Python ne les différencie pas, contrairement à d'autres langages). Note : on dit _**integer**_ en anglais...\n",
    "* les **flottants** (_**float** in english_). En fait, c'est un abus de langage pour dire «nombre en écriture à virgule flottante». On peut considérer en première approche qu'il s'agit des nombres décimaux, mais on verra que c'est faux ! On s'en sert pour représenter, de manière approchée, les différents nombres réels.\n",
    "* les **chaînes (de caractères)** (_**string**_) dont le contenu se note entre guillemets (simples `'` ou doubles `\"` *quotes*). En Python, un caractère isolé n'a pas de type particulier comme c'est le cas dans d'autres langages, on utilise une chaîne de longueur 1 (*c'est ainsi qu'on nomme le nombre de caractères d'une chaîne*).\n",
    "* les **booléens** (_**boolean**_) ne prennent que deux valeurs: `True` ou `False` (*notez la majuscule*). Le résultat d'un «test», comme  `a > 2` a une valeur booléenne, qu'on peut affecter à une variable: `sup2 = (a > 2)`.\n",
    "* on peut mentionner un type très spécial, `NoneType`, dont la seule valeur possible est **`None`** qui signifie «pas de valeur»! On l'utilisera avec les fonctions, ça n'est pas essentiel pour l'instant.\n",
    "\n",
    ">En Python on n'a pas à déclarer une variable ainsi que son type avant de l'utiliser : le typage est dynamique, c'est à l'exécution, lors de l'affectation, que l'interpréteur du langage prend connaissance de ce type. Comparons avec des langages comme C ou Java qui imposent de déclarer les variables (typage statique):\n",
    ">\n",
    "> En Java, C, C++, déclaration obligatoire : plus lourd, mais plus rigoureux, ça évite certains bogues pas facile à détecter:\n",
    "```java\n",
    "int mon_entier;\n",
    "mon_entier = 42;\n",
    "```\n",
    ">\n",
    "> En Python, sans déclaration préalable:\n",
    "```python\n",
    "mon_entier = 42\n",
    "```\n",
    "\n",
    "---\n",
    "**⇒** La commande Python **`type(a)`** renvoie le type de la variable `a` (*qui s'affiche donc à la suite si on saisit cette commande dans un shell ou en fin de cellule Python dans un notebook*). Essaie-la en modifiant la cellule de code précédente. \n",
    "> En Python, il s'agit plutôt de la **_classe_** d'un *objet* que du *type* d'une *variable*. Cet abus de langage n'est pas gênant à notre niveau, mais le savoir permet de mieux comprendre ce qu'affiche Python...\n",
    "\n",
    "Puis fais afficher le type des différentes variables dans la cellule suivante (*soit une puis une autre, une à la fois, avec à chaque fois un affichage sur la dernière ligne, soit en une seule fois en insérant des `print(type(ma_variable))` dans le code*)."
   ]
  },
  {
   "cell_type": "code",
   "execution_count": null,
   "metadata": {},
   "outputs": [],
   "source": [
    "neg = -3\n",
    "pi_approx = 3.14\n",
    "mystere = 42.0    # Éviter les accents pour nommer les variables\n",
    "grand = 2e5       # Sans espace, pour 2×(10 puissance 5) = 2×10000\n",
    "petit = 1.5e-20\n",
    "\n",
    "txt = \"C'est du blabla !!\"\n",
    "\n",
    "txt2 = 'C\\'est aussi du blabla !!'   \n",
    "# Pour comprendre le rôle du \\ :\n",
    "print(txt2)\n",
    "\n",
    "txt3 = 'Parfois, \"le contraire\" est bien pratique'\n",
    "txt4 = \"Sinon, c'est plus \\\"pénible\\\" à écrire !\"\n",
    "# Devine les valeurs de ces variables avant de les afficher pour vérifier\n",
    "compare = (pi_approx < petit)    # Parenthèses facultatives grâces aux priorités\n",
    "\n",
    "# ATTENTION, pour tester une égalité on DOIT utiliser == et pas = !!\n",
    "comp2 = neg == -1\n",
    "# Output \n",
    "comp2"
   ]
  },
  {
   "cell_type": "markdown",
   "metadata": {},
   "source": [
    "### Opérateurs et valeurs numériques\n",
    "Le type d'une variable influe notamment sur le traitement qui en est fait par les opérateurs. \n",
    "\n",
    "Pour les nombres, entiers ou flottants, on peut utiliser \n",
    "  - `+`, `-`, `*` (multiplication), `/` (division, *qui renvoie __toujours un flottant__*), \n",
    "  - `**` (pour la mise en exposant, *ne pas utiliser `^` qui a une autre signification !*)\n",
    "  - `//` qui renvoie le quotient __entier__\n",
    "  - `%`  pour *modulo*, qui renvoie le reste dans la division euclidienne (entière)\n",
    "\n",
    "--- \n",
    "**⇒** Teste-les, en modifiant les valeurs des variables, pour être sûr de bien les comprendre:"
   ]
  },
  {
   "cell_type": "code",
   "execution_count": null,
   "metadata": {
    "collapsed": true
   },
   "outputs": [],
   "source": [
    "var1 = 15\n",
    "var2 = 5      # On aurait pu écrire en une ligne équivalente:  var1, var2 = 13, 5\n",
    "\n",
    "# Teste avec d'autres opérations\n",
    "var1 / var2   \n",
    "\n",
    "# Tu peux afficher le type du résultat plutôt que sa valeur, en décommentant la ligne suivante\n",
    "#type(var1 / var2)"
   ]
  },
  {
   "cell_type": "markdown",
   "metadata": {},
   "source": [
    "### Fonctions mathématiques et module `math`"
   ]
  },
  {
   "cell_type": "markdown",
   "metadata": {},
   "source": [
    "La plupart des fonctions mathématiques demandent d'importer le module `math` pour être accessibles. On utilise ensuite la «notation pointée» ou non, selon la manière dont l'import a été fait. Ce module fourni aussi des constantes comme `pi`.\n",
    "> Note: «racine carrée» se dit *square root* en anglais...\n",
    "\n",
    "---\n",
    "**⇒** Analyse et teste les différentes approches:"
   ]
  },
  {
   "cell_type": "code",
   "execution_count": null,
   "metadata": {
    "collapsed": true
   },
   "outputs": [],
   "source": [
    "# Avec `import le_module`...\n",
    "import math\n",
    "# ... on utilise la notation pointée\n",
    "racine_de_pi = math.sqrt(math.pi)\n",
    "racine_de_pi"
   ]
  },
  {
   "cell_type": "code",
   "execution_count": null,
   "metadata": {
    "collapsed": true
   },
   "outputs": [],
   "source": [
    "# Variante, en donnant un alias au nom du module\n",
    "import math as mm\n",
    "racine_de_pi = mm.sqrt(mm.pi)\n",
    "racine_de_pi"
   ]
  },
  {
   "cell_type": "code",
   "execution_count": null,
   "metadata": {
    "collapsed": true
   },
   "outputs": [],
   "source": [
    "# Avec `from le_module import la_fonction1, la_fonction2, la_constante`...\n",
    "from math import sqrt, pi\n",
    "# ... on utilise directement le ou les les éléments importés, sans notation pointée\n",
    "racine_de_pi = sqrt(pi)\n",
    "racine_de_pi"
   ]
  },
  {
   "cell_type": "markdown",
   "metadata": {},
   "source": [
    "*On peut même importer d'un coup tout ce que contient un module, mais il vaut mieux l'éviter, car on ne maîtrise plus grand chose : en important deux modules, que se passera-t-il si les deux proposent une fonction ayant le même nom, par exemple ?*"
   ]
  },
  {
   "cell_type": "code",
   "execution_count": null,
   "metadata": {
    "collapsed": true
   },
   "outputs": [],
   "source": [
    "# «Pratique» mais déconseillé !\n",
    "from math import *\n",
    "racine_de_pi = sqrt(pi)\n",
    "racine_de_pi"
   ]
  },
  {
   "cell_type": "markdown",
   "metadata": {},
   "source": [
    "### Opérateurs et chaînes\n",
    "Les chaînes utilisent également `+`, mais la sémantique (*signification à donner à l'action de l'opérateur*) est différente de celle des opérations sur les entiers.\n",
    "\n",
    "On peut même utiliser `*` entre une chaîne et un entier.\n",
    "\n",
    "---\n",
    "**⇒** Découvre leur utilisation par toi-même en expérimentant :"
   ]
  },
  {
   "cell_type": "code",
   "execution_count": null,
   "metadata": {
    "collapsed": true,
    "scrolled": false
   },
   "outputs": [],
   "source": [
    "debut = \"Bravo \"\n",
    "joueur = \"PseudoKiTue\"\n",
    "fin = \", c'est gagné ! \"\n",
    "# On «concatène» ces chaînes, on parle de\n",
    "#     concaténation des chaînes de caractères:\n",
    "phrase = debut + joueur + fin\n",
    "\n",
    "# Avec `print()`, le contenu de la variable sera affiché, sans guillemets\n",
    "print(phrase)\n",
    "\n",
    "phrase = phrase * 3\n",
    "# Ici, sans print(), le nouveau contenu sera affiché entre guillemets simples par Python\n",
    "phrase"
   ]
  },
  {
   "cell_type": "markdown",
   "metadata": {},
   "source": [
    "### Opérateurs et booléens\n",
    "Pour les variables booléennes, on pourra travailler avec **`and`, `or`, `not`** et les **parenthèses** pour gérer les priorités. On en reparlera, mais il est les tester tout de suite permet de s'y habituer...\n",
    "\n",
    "> **ATTENTION** : pour les tests d'égalité on utilise **`==`** et pas `=` qui reste réservé aux affectations !\n",
    "\n",
    "> Les comparaisons au sens large (≤ et ≥) se font avec **`<=`** et **`>=`**, et le signe «est différent de» ≠ se note **`!=`**\n",
    "\n",
    "---\n",
    "**⇒** En (dé)commentant certaines lignes, affiche la valeur de la dernière expression non commentée, pour les tester toutes après avoir trouvé mentalement leur valeur:"
   ]
  },
  {
   "cell_type": "code",
   "execution_count": null,
   "metadata": {
    "collapsed": true
   },
   "outputs": [],
   "source": [
    "un, cinq, six, x = 1, 5, 6, 15\n",
    "vrai_faux = True\n",
    "\n",
    "test = (2 == 1 + 1)   # Parenthèses facultatives, cf. priorités\n",
    "test1 = cinq < six\n",
    "test2 = six == un + cinq\n",
    "test3 = un > six\n",
    "test4 = not(test3)\n",
    "\n",
    "x_pair = (x%2 == 0)\n",
    "x_mult_de_3 = (x%3 == 0)\n",
    "\n",
    "\n",
    "# Valeurs à deviner\n",
    "\n",
    "test4\n",
    "# A la même valeur que\n",
    "test4 is True   # On évite d'écrire  `== True` ou  `== False`...\n",
    "\n",
    "#x_pair\n",
    "#x_mult_de_3\n",
    "#test or False\n",
    "#test1 and test2\n",
    "#test1 or test3\n",
    "#(not test3) and test2   # parenthèses facultatives, cf. priorités\n",
    "#not(test1 or test3)"
   ]
  },
  {
   "cell_type": "markdown",
   "metadata": {},
   "source": [
    "## Transtypage (conversion, *casting*)\n",
    "Quand c'est possible (*dans le cas contraire, «une exception sera levée» et par défaut on aura droit à un message d'erreur*), on peut convertir une valeur d'un type donné en un autre type (on parle de **_cast_**):"
   ]
  },
  {
   "cell_type": "code",
   "execution_count": null,
   "metadata": {
    "collapsed": true
   },
   "outputs": [],
   "source": [
    "mon_flottant = 3.0\n",
    "mon_float2 = 3.99\n",
    "ma_chaine = \"1e5\"\n",
    "ma_chaine_inadaptee = \"1 cm\"\n",
    "\n",
    "# === Flottant vers entier ===\n",
    "mon_entier = int(mon_flottant)\n",
    "print(\"a)\", mon_entier, type(mon_entier))\n",
    "\n",
    "# Ici, on a une troncature de la valeur, mais ça fonctionne\n",
    "mon_entier = int(mon_float2)\n",
    "print(\"b)\", mon_entier, type(mon_entier))\n",
    "\n",
    "# === Numérique ou chaîne vers booléen ===\n",
    "# 0, 0.0 ou \"\" sont traduits en `False`, les autres nombres et chaînes en `True`\n",
    "verite = bool(mon_flottant)\n",
    "print(\"c)\", verite, type(verite))\n",
    "\n",
    "# Attention, la chaîne n'est pas vide !\n",
    "verite = bool(\" \")\n",
    "print(\"d)\", verite, type(verite))\n",
    "\n",
    "# === Chaîne vers numérique ===\n",
    "x = float(ma_chaine)    # Teste avec `int()` : ça coince !\n",
    "print(\"e)\", x, type(x))\n",
    "\n",
    "# === Numérique vers chaîne ===\n",
    "txt = str(mon_flottant)\n",
    "print(\"f)\", txt, type(txt))\n",
    "# sans `print()`, pour faire apparaître les quotes en sortie\n",
    "txt\n",
    "\n",
    "# Essaie de décommenter la ligne suivante \n",
    "#erreur = float(ma_chaine_inadaptee)"
   ]
  },
  {
   "cell_type": "markdown",
   "metadata": {},
   "source": [
    "On ne peut pas concaténer directement des chaînes avec des variables numériques.\n",
    "\n",
    "---\n",
    "**⇒** Après avoir constaté le problème dans l'exemple suivant, utilise le *transtypage* avec `str()` pour le corriger:"
   ]
  },
  {
   "cell_type": "code",
   "execution_count": null,
   "metadata": {
    "collapsed": true
   },
   "outputs": [],
   "source": [
    "x = 42\n",
    "texte = \"x vaut \" + x\n",
    "texte"
   ]
  },
  {
   "cell_type": "markdown",
   "metadata": {},
   "source": [
    "Dans ses versions récentes, Python propose une alternative bien pratique avec les *fstrings* (*formatted strings*). *Pour en savoir plus, voir par exemple sur [le site de Pascal Ortiz](http://pascal.ortiz.free.fr/contents/python/chaines_formatees/index.html)*:"
   ]
  },
  {
   "cell_type": "code",
   "execution_count": null,
   "metadata": {},
   "outputs": [],
   "source": [
    "x, pi5 = 42, 3.14159\n",
    "\n",
    "# Le `f` devant le guillemet indique qu'on a une «fstring»\n",
    "texte = f\"La variable x vaut {x} et pi5 vaut {pi5}, son double vaut {2 * pi5}\"\n",
    "\n",
    "# Syntaxe alternative qu'on peut aussi rencontrer\n",
    "texte = \"La variable x vaut {} et pi5 vaut {}\".format(x, pi5)\n",
    "\n",
    "# Voire, avec des indications concernant l'affichage des valeurs (type, nombre de décimales...)\n",
    "texte = \"La variable x vaut {:d} et pi5 arrondi au centième vaut {:.2f}\".format(x, pi5)\n",
    "\n",
    "texte"
   ]
  },
  {
   "cell_type": "markdown",
   "metadata": {},
   "source": [
    "## À suivre...\n",
    "On en reste là pour ce premier petit parcours. Prends le temps de te **faire un petit résumé** de ce qu'il faut retenir. Et comme toujours, plutôt que de relire, mieux vaut **pratiquer, en le répétant régulièrement** : \n",
    "* Noter sur une **feuille blanche** (sans document) les termes importants, leurs signification, puis vérifier que c'est exact et qu'il n'en manque pas.\n",
    "* Deviner des valeurs ou des types de variables après l'exécution d'un cours script (*par exemple en reprenant ce calepin*), puis vérifier immédiatement en l'exécutant et en affichant ce qu'on cherchait.\n",
    "* S'interroger mutuellement (*vocabulaire, notations, devinettes sur de petits programmes comme on vient de le mentionner...*) entre camarades.\n",
    "* **Expérimenter** régulièrement tout ce qui nous passe par la tête : «Tiens, que se passe-t-il si l'on divise par zéro ? Si l'on soustrait deux chaînes de caractères ? Si l'on additionne un entier et un booléen ? Ou une chaîne et un nombre ? etc.» *On peut travailler dans un notebook Jupyter, ou un IDE ou éditeur de son choix : Pyzo, Thonny, EduPython, IDLE, WinPython...*\n",
    "* **Aller chercher** (*moteurs de recherche, livres, site officiel de Python [https://docs.python.org/3/](https://docs.python.org/3/)...*) ce qui nous manque : «Peut-on transformer une chaîne de caractère comme '3' en une variable entière qui vaut 3 ? Etc.» :"
   ]
  },
  {
   "cell_type": "code",
   "execution_count": null,
   "metadata": {
    "collapsed": true
   },
   "outputs": [],
   "source": [
    "# Exemple un peu «tordu», pour comprendre ce qui se cache \n",
    "#  derrière True et False...\n",
    "mon_booleen = True\n",
    "2 + mon_booleen"
   ]
  },
  {
   "cell_type": "markdown",
   "metadata": {},
   "source": [
    "---\n",
    "\n",
    "---\n",
    "## Bonus : le *Markdown* pour les descriptions dans les *notebooks*\n",
    "Les cellules contenant les descriptions sont éditables en double cliquant dessus (ensuite [CTRL]+[ENTRÉE] les «exécute» là aussi et fait apparaître le rendu). Ça te permet d'ajouter des notes personnelles, des commentaires ou autres dans tes travaux (*pense à enregistrer ton calepin, si besoin sur un autre support avec *File / Download as / Notebook* sur tu dois l'envoyer ou le déposer ailleurs...*)\n",
    "\n",
    "Le langage de description est simple: c'est le *Markdown*, utilisé pour des blogs, des dépôt `git`, etc. On trouve pas mal d'antisèches [ici](https://github.com/adam-p/markdown-here/wiki/Markdown-Cheatsheet) ou [là](https://www.markdownguide.org/cheat-sheet/). *Note que la syntaxe n'est pas totalement unifiée, donc que certaines choses peuvent ne pas fonctionner partout*.\n",
    "\n",
    "---\n",
    "**⇒** Voici quelques exemples, que tu pourras observer, modifier, compléter à ta guise pour devenir rapidement un expert !\n",
    "\n",
    "J'ai du écrire \\-\\-\\- pour indiquer la ligne de séparation ci-dessus. Voici comment structurer un exposé:\n",
    "\n",
    "# Titre principal (niveau 1, comme la balise h1 en HTML)\n",
    "## Sous-titre (niveau 2)\n",
    "### Sous-sous-titre, \n",
    "### Un autre du même niveau, etc.\n",
    "## Un autre sous-titre de niveau 2\n",
    "\n",
    "Le texte peut être mis en _évidence_, autrement dit en *italique*, en l'écrivant entre deux \\_ ou entre deux \\* (pour écrire ces caractères, il faut donc les «échapper» en les faisant précéder d'une barre oblique inverse (*antislash* \\\\).\n",
    "\n",
    "On peut le mettre en __gras__ en **doublant** ces caractères, et même **_combiner_** les deux, sur **un mot _ou alors_ plusieurs**.\n",
    "Les sauts de paragraphes (retours à la ligne) se font en sautant une ligne, un simple retour à la ligne est interprété cmme l'espace.\n",
    "\n",
    "Du code informatique (par exemple, en Python, `n = int(x)`) sera saisi dans une phrase entre *backquotes* ou accents graves, appostrophes inversées ([AltGr]+[7] sur clavier AZERTY et [Maj]+[^] tout en haut à droite sur QWERTZ suisse). On peut aussi insérer des blocs complets (mais alors pourquoi ne pas utiliser les cellules de code exécutables ?)\n",
    "```python\n",
    "def mystere(x):\n",
    "    return x**2 - 2*x + 5\n",
    "```\n",
    "\n",
    "> Et en commençant une ligne par > on crée un bloc de type «citation».\n",
    "\n",
    "> Pas mal pour mettre une partie en évidence, non ?\n",
    "\n",
    "On peut écrire des listes:\n",
    "- Liste à puce,\n",
    "- c'est-à-dire non numérotée.\n",
    "- Il suffit de saisir une - suivie d'espace en début de ligne.\n",
    "- On peut aussi utiliser le symbole \\* à la place. \n",
    "- Et en indentant (décalage horizontal de quelques espaces)\n",
    "  * on a la possiblité\n",
    "  * d'avoir des sous-listes\n",
    "  \n",
    "\n",
    " 1. Avec un numéro suivi d'un point en début de ligne,\n",
    " 1. on obtient une liste numérotée automatiquement (le choix du numéro est quelconque)\n",
    "   - On peut même\n",
    "   - mélanger les deux types de listes:\n",
    "     1. Numérotée comme ici (note que le type de numérotation a automatiquement changé)\n",
    "     2. Non numérotée\n",
    "\n",
    "On peut utiliser des liens hypertextes, [celui-ci est «mort» par exemple](https://www.adresse.du.site), et insérer des images avec une syntaxe assez similaire: ![texte alternatif](http://jm.gervais.free.fr/img/fond.png)\n",
    "\n",
    "Ceux qui les maîtrisent pourront insérer des formules [*LaTeX*](https://fr.wikipedia.org/wiki/LaTeX), bien utiles pour les écritures mathématiques, dans une phrase (entre symboles «dollar») comme $\\pi\\approx\\frac{355}{113}$, ou comme un bloc indépendant isolé sur sa ligne (entre doubles «dollars»): $$d_1=\\sqrt{x_1^2+y_1^2}$$"
   ]
  }
 ],
 "metadata": {
  "kernelspec": {
   "display_name": "Python 3",
   "language": "python",
   "name": "python3"
  },
  "language_info": {
   "codemirror_mode": {
    "name": "ipython",
    "version": 3
   },
   "file_extension": ".py",
   "mimetype": "text/x-python",
   "name": "python",
   "nbconvert_exporter": "python",
   "pygments_lexer": "ipython3",
   "version": "3.6.8"
  }
 },
 "nbformat": 4,
 "nbformat_minor": 2
}
