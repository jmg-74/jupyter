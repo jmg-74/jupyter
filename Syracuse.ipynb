{
 "cells": [
  {
   "cell_type": "markdown",
   "metadata": {},
   "source": [
    "# Suite de Syracuse\n",
    "On part d'un entier $n$. Ensuite, à chaque étape, on remplace $n$ par\n",
    "- $\\frac{n}{2}$ si $n$ est pair\n",
    "- $3n+1$ sinon\n",
    "\n",
    "Une conjecture, non démontrée à ce jour, affirme qu'on arrive toujours à 1 (puis 4, 2, 1, 4, 2, 1, etc.) On considère ainsi la suite \"terminée\" quand on trouve 1.\n",
    "\n",
    "On appelle souvent \"durée de vol\" le nombre d'étapes pour atteindre 1, et \"altitude (ou hauteur) de vol\" le plus grand nombre atteint entre le nombre *n* de départ et 1."
   ]
  },
  {
   "cell_type": "code",
   "execution_count": 3,
   "metadata": {
    "collapsed": true
   },
   "outputs": [],
   "source": [
    "from matplotlib import pyplot as plt\n",
    "\n",
    "def suivant(n):\n",
    "    \"\"\"\n",
    "    Renvoie le terme suivant dans la suite de Syracuse\n",
    "    \"\"\"\n",
    "    # assert type(n) is int and n > 0\n",
    "    return n // 2 if n % 2 == 0 else 3 * n + 1\n",
    "\n",
    "def syracuse(n):\n",
    "    \"\"\"\n",
    "    Itérateur sur la suite de Syracuse, partant de n\n",
    "    \"\"\"\n",
    "    while 1:\n",
    "        yield n\n",
    "        n = suivant(n)\n",
    "\n",
    "def hauteur_vol(n):\n",
    "    \"\"\"\n",
    "    Renvoie la \"hauteur de vol\" de n dans la suite de Syracuse\n",
    "    \"\"\"\n",
    "    h = n\n",
    "    for i in syracuse(n):\n",
    "        if i == 1 :\n",
    "            return h\n",
    "        if i > h:\n",
    "            h = i\n",
    "            \n",
    "def hauteur_max_until(n):\n",
    "    \"\"\"\n",
    "    Renvoie le couple (i,h) avec la hauteur max. h et le premier\n",
    "    entier associé i, dans la suite de Syracuse, pour les entiers\n",
    "    inférieurs ou égaux à n\n",
    "    \"\"\"\n",
    "    h_max = n\n",
    "    n_hmax = n\n",
    "    for i in range(1, n+1):\n",
    "        h = hauteur_vol(i)\n",
    "        if h > h_max:\n",
    "            h_max = h\n",
    "            n_hmax = i\n",
    "    return n_hmax, h_max\n",
    "\n",
    "def graph_hauteur(n):\n",
    "    \"\"\"\n",
    "    Représente les hauteurs de vol en fonction de l'entier, de 1 à n\n",
    "    \"\"\"\n",
    "    x = [i for i in range(1, n + 1)]\n",
    "    y = [hauteur_vol(i) for i in range(1, n + 1)]\n",
    "    plt.scatter(x, y, color='red')\n",
    "    plt.title(\"Hauteurs de vol\")\n",
    "    plt.ylabel(\"Hauteur\")\n",
    "    plt.xlabel(\"n\")\n",
    "    plt.show()\n",
    "    \n",
    "def duree_vol(n):\n",
    "    \"\"\"\n",
    "    Renvoie la \"durée de vol\" de n dans la suite de Syracuse\n",
    "    \"\"\"\n",
    "    d = 0\n",
    "    for i in syracuse(n):\n",
    "        if i == 1 :\n",
    "            return d\n",
    "        d += 1\n",
    "        \n",
    "def duree_max_until(n):\n",
    "    \"\"\"\n",
    "    Renvoie le couple (i,d) avec la durée max. d et le premier\n",
    "    entier associé i, dans la suite de Syracuse, pour les entiers\n",
    "    inférieurs ou égaux à n\n",
    "    \"\"\"\n",
    "    d_max = 0\n",
    "    n_dmax = n\n",
    "    for i in range(1, n+1):\n",
    "        d = duree_vol(i)\n",
    "        if d > d_max:\n",
    "            d_max = d\n",
    "            n_dmax = i\n",
    "    return n_dmax, d_max\n",
    "\n",
    "def graph_duree(n):\n",
    "    \"\"\"\n",
    "    Représente les durées de vol en fonction de l'entier, de 1 à n\n",
    "    \"\"\"\n",
    "    x = [ i for i in range(1, n + 1) ]\n",
    "    y = [duree_vol(i) for i in range(1, n + 1) ]\n",
    "    plt.scatter(x, y, color='green', s=1)\n",
    "    plt.title(\"Durées de vol\")\n",
    "    plt.ylabel(\"Durée\")\n",
    "    plt.xlabel(\"n\")\n",
    "    plt.show()"
   ]
  },
  {
   "cell_type": "markdown",
   "metadata": {},
   "source": [
    "Quelques représentations graphiques pour illustrer l'aspect irrégulier des données"
   ]
  },
  {
   "cell_type": "code",
   "execution_count": 8,
   "metadata": {},
   "outputs": [
    {
     "name": "stdout",
     "output_type": "stream",
     "text": [
      "Analyse graphique des hauteurs, puis durées de vol, pour 42\n"
     ]
    },
    {
     "data": {
      "image/png": "[encoded data removed]",
      "text/plain": [
       "<Figure size 432x288 with 1 Axes>"
      ]
     },
     "metadata": {},
     "output_type": "display_data"
    },
    {
     "data": {
      "image/png": "[encoded data removed]",
      "text/plain": [
       "<Figure size 432x288 with 1 Axes>"
      ]
     },
     "metadata": {},
     "output_type": "display_data"
    }
   ],
   "source": [
    "N = 42\n",
    "print(\"Analyse graphique des hauteurs, puis durées de vol, pour\", N)\n",
    "graph_hauteur(N)\n",
    "graph_duree(N)"
   ]
  }
 ],
 "metadata": {
  "kernelspec": {
   "display_name": "Python 3",
   "language": "python",
   "name": "python3"
  },
  "language_info": {
   "codemirror_mode": {
    "name": "ipython",
    "version": 3
   },
   "file_extension": ".py",
   "mimetype": "text/x-python",
   "name": "python",
   "nbconvert_exporter": "python",
   "pygments_lexer": "ipython3",
   "version": "3.6.8"
  }
 },
 "nbformat": 4,
 "nbformat_minor": 2
}
