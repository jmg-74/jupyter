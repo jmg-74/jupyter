{
  "nbformat": 4,
  "nbformat_minor": 0,
  "metadata": {
    "colab": {
      "name": "1 - NSI - 1ère - Écriture d’un entier positif.ipynb",
      "version": "0.3.2",
      "provenance": [],
      "collapsed_sections": [],
      "include_colab_link": true
    },
    "kernelspec": {
      "name": "python3",
      "display_name": "Python 3"
    }
  },
  "cells": [
    {
      "cell_type": "markdown",
      "metadata": {
        "id": "view-in-github",
        "colab_type": "text"
      },
      "source": [
        "<a href=\"https://colab.research.google.com/github/codekodo/NSI-1ere-Representation-des-donnees/blob/master/1_-_NSI_-_1%C3%A8re_-_%C3%89criture_d%E2%80%99un_entier_positif.ipynb\" target=\"_parent\"><img src=\"https://colab.research.google.com/assets/colab-badge.svg\" alt=\"Open In Colab\"/></a>"
      ]
    },
    {
      "cell_type": "markdown",
      "metadata": {
        "id": "y4_WV8NzjpFK",
        "colab_type": "text"
      },
      "source": [
        "# ÉCRITURE D'UN ENTIER POSITIF\n",
        "\n",
        "## 1. Le système décimal\n",
        "\n",
        "Pour que vous compreniez le fonctionnement du binaire, et des systèmes de comptage en général (plus communément appelés bases), je vais commencer par faire une petite réintroduction à la base 10 que vous connaissez tous.\n",
        "\n",
        "En effet, tout le monde sait compter en base 10 (décimal). Mais comment ça marche ? Comment est construit notre système ? Pour répondre à cette question à l'apparence simple, oubliez tout et reprenons depuis le début : comment avez-vous appris à compter à l'école ?\n",
        "\n",
        "Vous penserez peut-être que la base 10 vient du fait qu'on a 10 doigts, mais en tout cas deux choses sont sûres :\n",
        "\n",
        "* il y a **10 chiffres** : 0, 1, 2, 3, 4, 5, 6, 7, 8, 9.\n",
        "* avec ces derniers, on peut compter jusqu'à 9.\n",
        "\n",
        "Et si l'on veut aller au-delà de 9, il faut **changer de rang**.\n",
        "\n",
        "Cela signifie que si le rang des unités est plein, il faut passer à celui des dizaines, puis des centaines, milliers et j'en passe.\n",
        "\n",
        "Par exemple : à 19, le rang des unités est \"saturé\" (plein), car il contient le chiffre 9, et il n'y a pas (dans la base 10) de valeur plus élevée. Il faut donc incrémenter le rang périphérique puis réinitialiser l'état de celui des unités. Ce qui signifie : j'ai 19, je ne peux pas mettre plus de 9 à droite, donc j'ajoute 1 à celui de gauche et je remets à zéro celui de droite.\n",
        "\n",
        "<center>\n",
        "    \n",
        "![alt text](https://pixees.fr/informatiquelycee/n_site/img/binaire_1.png)\n",
        "    \n",
        "</center>\n",
        "\n",
        "\n",
        "Comme je disais tout à l'heure, le nombre entier va être composé de rangs (unités, dizaines, centaines, etc). Chaque rang vaut le rang précédent multiplié par l'indice de la base. Une centaine vaut dix dizaines, et une dizaine vaut 10 unités. Par exemple, dans l'image ci-dessus, on peut voir le nombre 18510 (ici, le 10 signifie qu'il s'agit d'un nombre, en base 10). Dans ce nombre, on peut voir trois rangs : centaines, dizaines et unités. Pour n'importe quelle base, la valeur d'un rang est égale à bn, où b est l'indice de la base (ici, 10) et n la position du rang. Ici, les unités ont la position 0, les dizaines la position 1 et les centaines la position 2. Nous pouvons donc écrire :\n",
        "\n",
        "$$185 = 1∗10^2 + 8∗10^1 + 5∗10^0$$\n",
        "\n",
        "Ce que je viens de faire, c'est **décomposer** 185 **en puissance de 10** (unités, dizaines, centaines, etc).\n",
        "\n",
        "Un nombre est égal à la somme des valeurs de ses rangs, et on peut décomposer n'importe quel nombre en puissance de sa base.\n",
        "\n"
      ]
    },
    {
      "cell_type": "markdown",
      "metadata": {
        "id": "n40fjTyAymXV",
        "colab_type": "text"
      },
      "source": [
        "## 2. Le binaire\n",
        "\n",
        "Le binaire, c'est le système de comptage des ordinateurs. Pourquoi le binaire et pas le décimal comme les humains ? Et bien c'est très simple : un ordinateur est composé de circuits électroniques, et donc de composants électriques. Le plus simple pour compter est donc d'utiliser un système en base 2 (le binaire) car on peut représenter ses deux valeurs possibles (0 et 1) par un signal électrique : 1, y'a du courant, 0, y'en a pas (c'est la version simple).\n",
        "\n",
        "Je vous ai parlé ci-dessus de **rangs**. En binaire, c'est pareil à la différence qu'on utilise le terme **bit**, qui est la contraction de \"binary digit\", littéralement \"chiffre binaire\". Par exemple, le nombre `10011` occupe 5 bits. Là où tout se complique, c'est que comme je l'ai expliqué, chaque rang en binaire ne peut avoir que deux valeurs (binaire = base 2) différentes : 0 ou 1. Pour la base 10, chaque rang représente une puissance de 10, pour la base 2, chaque rang occupe une puissance de 2. Voici comment compter en binaire jusqu'à 10 :\n",
        "\n",
        " <table>\n",
        "      <tr>\n",
        "      \t<th>Nombre en décimal</th>\n",
        "        <th>Nombre en binaire</th>\n",
        "        <th>Le pourquoi du comment</th>\n",
        "      </tr>\n",
        "      <tr>\n",
        "      \t<td>0</td>\n",
        "        <td>0</td>\n",
        "        <td>Pour l'instant, ça va.</td>\n",
        "      </tr>\n",
        "      <tr>\n",
        "      \t<td>1</td>\n",
        "        <td>1</td>\n",
        "        <td>Là encore, c'est simple.</td>\n",
        "       </tr>\n",
        "       <tr>\n",
        "       <td>2</td>\n",
        "       <td>10</td>\n",
        "       <td>Le premier rang ayant été rempli, on passe au suivant !</td>\n",
        "       </tr>\n",
        "       <tr>\n",
        "       <td>3</td>\n",
        "       <td>11</td>\n",
        "       <td>On re-remplit le rang 1.</td>\n",
        "       </tr>\n",
        "       <tr>\n",
        "       <td>4</td>\n",
        "       <td>100</td>\n",
        "       <td>Le rang 2 est plein, le rang 1 aussi, qu'à cela ne tienne, on passe au suivant.</td>\n",
        "       </tr>\n",
        "       <tr>\n",
        "       <td>5</td>\n",
        "       <td>101</td>\n",
        "       <td rowspan=\"3\">On continue en suivant la même méthode.</td>\n",
        "       </tr>\n",
        "       <tr>\n",
        "       <td>6</td>\n",
        "       <td>110</td>\n",
        "       </tr>\n",
        "       <tr>\n",
        "       <td>7</td>\n",
        "       <td>111</td>\n",
        "       </tr>\n",
        "       <tr>\n",
        "       <td>8</td>\n",
        "       <td>1000</td>\n",
        "       <td>On commence le rang 4.</td>\n",
        "       </tr>\n",
        "       <tr>\n",
        "       <td>9</td>\n",
        "       <td>1001</td>\n",
        "       <td rowspan=\"2\">On continue comme tout à l'heure.</td>\n",
        "       </tr>\n",
        "       <tr>\n",
        "       <td>10</td>\n",
        "       <td>1010</td>\n",
        "       </tr>\n",
        "       <tr>\n",
        "       <td colspan=\"4\">...</td>\n",
        "       </tr>\n",
        " </table>\n",
        "\n",
        "Retenez juste ceci : entamer le rang suivant quand l'actuel est plein."
      ]
    },
    {
      "cell_type": "markdown",
      "metadata": {
        "id": "TjWCjARtzPsY",
        "colab_type": "text"
      },
      "source": [
        "> ---\n",
        "\n",
        "> **Entraînement**\n",
        "\n",
        "> 1. Combien de valeurs peut-on coder avec 1 bit ?\n",
        "> 2. Combien de valeurs peut-on coder avec 2 bits ?\n",
        "> 3. Combien de valeurs peut-on coder avec 3 bits ?\n",
        "> 4. Combien de valeurs peut-on coder avec n bits ?\n",
        "\n",
        "> ---"
      ]
    },
    {
      "cell_type": "markdown",
      "metadata": {
        "id": "_Q8ojBIZeCQM",
        "colab_type": "text"
      },
      "source": [
        "**Réponses**  *(répondre dans cette cellule)*"
      ]
    },
    {
      "cell_type": "markdown",
      "metadata": {
        "id": "6hqG8-inzS67",
        "colab_type": "text"
      },
      "source": [
        "Comme on a pu le voir, compter jusqu'à 10 ou 20 reste aisé, mais imaginons un instant que je vous demandasse d'écrire 185 en binaire ? Vous allez faire chaque rang, un par un ?\n",
        "\n",
        "## 3. Conversion décimale binaire\n",
        "\n",
        "Pour l'instant, on n'a compté que jusqu'à 10. Mais pour les plus grands nombres, la méthode précédente peut se révéler fastidieuse\n",
        "\n",
        "**La méthode**\n",
        "\n",
        "Il existe bien sûr plusieurs méthodes de conversion, mais nous allons étudier la plus simple et la plus rapide. Il s'agit de la méthode euclidienne.\n",
        "\n",
        "Cette méthode, en plus d'être facile à utiliser en programmation (c'est un algorithme) est une des meilleures lorsqu'il s'agit de traiter les grands nombres.\n",
        "\n",
        "Voici la méthode :\n",
        "* on prend le nombre en base 10 (forme normale).\n",
        "* on le divise par 2 et on note le reste de la division (soit 1 soit 0)\n",
        "* on refait la même chose avec le quotient précédent, et on met de nouveau le reste de côté.\n",
        "* on réitère la division, jusqu'à ce que le quotient soit 0.\n",
        "* le nombre en binaire apparaît alors : il suffit de prendre tous les restes de bas en haut.\n",
        "\n",
        "Et l'exemple :\n",
        "\n",
        "\\begin{align}\n",
        "\\color{blue}{185} ÷ 2 &=\t\\color{green}{92}\t+\t\\color{red}{1} \\\\\n",
        "\\color{green}{92}\t÷ 2 &=\t\\color{brown}{46}\t+\t\\color{red}{0} \\\\\n",
        "\\color{brown}{46}\t÷ 2 &=\t\\color{orange}{23}\t+\t\\color{red}{0} \\\\\n",
        "\\color{orange}{23}\t÷ 2 &=\t\\color{purple}{11}\t+\t\\color{red}{1} \\\\\n",
        "\\color{purple}{11}\t÷ 2 &=\t~~\\color{blue}{5}\t+\t\\color{red}{1} \\\\\n",
        "\\color{blue}{5}\t÷ 2 &=\t~~\\color{green}{2}\t+\t\\color{red}{1} \\\\\n",
        "\\color{green}{2}\t÷ 2 &=\t~~\\color{brown}{1}\t+\t\\color{red}{0} \\\\\n",
        "\\color{brown}{1}\t÷ 2 &=\t~~0\t+\t\\color{red}{1}\n",
        "\\end{align}\n",
        "\n",
        "**Attention, il faut bien lire de bas en haut !**\n",
        "\n",
        "**185** en base 10 vaut donc **10111001** en binaire."
      ]
    },
    {
      "cell_type": "markdown",
      "metadata": {
        "id": "GRnXTezAX8da",
        "colab_type": "text"
      },
      "source": [
        "> ---\n",
        "\n",
        "> **Entraînement**\n",
        "\n",
        "> Convertir $42_{10}$ en base 2\n",
        "\n",
        "> ---"
      ]
    },
    {
      "cell_type": "markdown",
      "metadata": {
        "id": "hsdMR6MoLfnX",
        "colab_type": "text"
      },
      "source": [
        "**Réponse**  *(répondre dans cette cellule)*"
      ]
    },
    {
      "cell_type": "markdown",
      "metadata": {
        "id": "iKoBs8EjLi4M",
        "colab_type": "text"
      },
      "source": [
        "## 4. Conversion binaire décimale\n",
        "\n",
        "Je vous rassure tout de suite : c'est plus simple dans ce sens-là que dans l'autre.\n",
        "\n",
        "Prenons un nombre au hasard, tel que 11010011. Il s'étale sur 8 rangs, et comme dit précédemment, chaque rang correspond à une puissance de deux.\n",
        "Le premier rang (en partant de la **droite**) est le rang 0, le second est le 1, etc.\n",
        "\n",
        "Pour convertir le tout en décimale, on procède de la manière suivante : on multiplie par 20 la valeur du rang 0, par 21 la valeur du rang 1, par 22 la valeur du rang 2, [...], par 210 la valeur du rang 10, etc.\n",
        "\n",
        "Après ça, il ne reste plus qu'à remplacer les puissances de 2 par leurs valeurs et de calculer la somme : (**Attention à bien partir de la droite !**)\n",
        "\n",
        "$11010011_{binaire} = 1∗1+1∗2+0∗4+0∗8+1∗16+0∗32+1∗64+1∗128=211_{décimal}$"
      ]
    },
    {
      "cell_type": "markdown",
      "metadata": {
        "id": "b6x3GJ7BewX7",
        "colab_type": "text"
      },
      "source": [
        "> ---\n",
        "\n",
        "> **Entraînement**\n",
        "\n",
        "> Convertir $10011001_2$ en base 10\n",
        "\n",
        "> ---"
      ]
    },
    {
      "cell_type": "markdown",
      "metadata": {
        "id": "RzRJPiBJPmby",
        "colab_type": "text"
      },
      "source": [
        "**Réponse**  *(répondre dans cette cellule)*"
      ]
    },
    {
      "cell_type": "markdown",
      "metadata": {
        "id": "jA6hVxaPPm2X",
        "colab_type": "text"
      },
      "source": [
        "## 5. L'hexadécimal\n",
        "\n",
        "Le binaire, c'est bien pratique : on peut coder des nombres uniquement avec des 0 et des 1. C'est bien pour les signaux électriques et tout le bazar, mais dans la vie de tous les jours c'est pas bien facile d'utilisation. On utilise couramment la base 10. Le problème c'est qu'en informatique, tout est basé sur le binaire, et étant une base d'indice 2, c'est plus aisé d'encoder les informations sur un nombre multiple de 2. On utilise donc souvent la base 16, appelé **système hexadécimal** (hexa = 6, déci = 10, 16 = 6 + 10) car 16 est un multiple de 2, et qu'il permet de représenter 8 bits avec seulement 2 chiffres. Ça paraît simple, mais il y a un autre problème : en base 10, on utilise 10 chiffres. En base 2 (binaire) on utilise seulement 2 chiffres : 0 et 1. Mais du coup, en base 16, il faut 16 chiffres. OK, 0 1 2 3 4 5 6 7 8 9.. quoi après ? On prend des lettres de l'alphabet.\n",
        "\n",
        "Ce qui donne :\n",
        "\n",
        "$0~1~2~3~4~5~6~7~8~9~\\text{A B C D E F}$\n",
        "\n",
        "On peut établir une liste de correspondances entre la base 10 et la base 16 (voire même la base 2) :\n",
        "\n",
        "<table>\n",
        "\t<tbody><tr>\n",
        "\t\t<th>Binaire (base 2)</th>\n",
        "\t\t<th>Décimal (base 10)</th>\n",
        "\t\t<th>Hexadécimal (base 16)</th>\n",
        "\t</tr>\n",
        "\t<tr><td>0</td><td>0</td><td>0</td></tr>\n",
        "\t<tr><td>1</td><td>1</td><td>1</td></tr>\n",
        "\t<tr><td>10</td><td>2</td><td>2</td></tr>\n",
        "\t<tr><td>11</td><td>3</td><td>3</td></tr>\n",
        "\t<tr><td>100</td><td>4</td><td>4</td></tr>\n",
        "\t<tr><td>101</td><td>5</td><td>5</td></tr>\n",
        "\t<tr><td>110</td><td>6</td><td>6</td></tr>\n",
        "\t<tr><td>111</td><td>7</td><td>7</td></tr>\n",
        "\t<tr><td>1000</td><td>8</td><td>8</td></tr>\n",
        "\t<tr><td>1001</td><td>9</td><td>9</td></tr>\n",
        "\t<tr><td>1010</td><td>10</td><td>A</td></tr>\n",
        "\t<tr><td>1011</td><td>11</td><td>B</td></tr>\n",
        "\t<tr><td>1100</td><td>12</td><td>C</td></tr>\n",
        "\t<tr><td>1101</td><td>13</td><td>D</td></tr>\n",
        "\t<tr><td>1110</td><td>14</td><td>E</td></tr>\n",
        "\t<tr><td>1111</td><td>15</td><td>F</td></tr>\n",
        " </tbody></table>\n",
        "\n",
        "Comme vous pouvez le voir, le plus grand chiffre en hexadécimal est **F**, et il correspond à **15** en décimal et **1111** en binaire : **F est donc encodé sur 4 bits** (F$_{hex}$ = 1111$_{bin}$, **4 chiffres binaires = 4 bits**).\n",
        "\n",
        "Pour convertir un nombre binaire en base 16, on regroupe les bits 4 à 4, chaque groupe donnant un chiffre hexadécimal. À l'inverse, passer d'un numbre hexadécimal à sa représentation binaire se fait en remplaçant chaque chiffre pour son équivalent sur 4 bits.\n",
        "\n",
        "Ainsi, 11011001$_2$ = 1101 1001$_2$ = D9$_{16}$, tandis que 7F$_{16$}$ = 0111 1111$_2$ = 01111111$_2$.\n",
        "\n",
        "Attention, si le nombre binaire de départ n'a pas un nombre de bits multiple de 4, il faut ajouter des zéros en tête (ce qui ne change pas sa valeur) afin de pouvoir les regrouper 4 par 4."
      ]
    },
    {
      "cell_type": "markdown",
      "metadata": {
        "id": "wR1qdM9-eioz",
        "colab_type": "text"
      },
      "source": [
        "> ---\n",
        "\n",
        "> **Entraînement**\n",
        "\n",
        "> 1. Convertir 101111011001$_2$ en base 16\n",
        "> 2. Convertir 111011$_2$ en base 16\n",
        "> 3. Convertir 1A3E$_{16}$ en base 2\n",
        "\n",
        "> ---"
      ]
    },
    {
      "cell_type": "markdown",
      "metadata": {
        "id": "TDdzh_RrdYLP",
        "colab_type": "text"
      },
      "source": [
        "**Réponses**  *(répondre dans cette cellule)*\n",
        "\n",
        "\n",
        "\n"
      ]
    },
    {
      "cell_type": "markdown",
      "metadata": {
        "id": "IEO5pSwqdYX8",
        "colab_type": "text"
      },
      "source": [
        "## 6. Convertir un nombre décimal en hexadécimal\n",
        "\n",
        "Pour convertir un nombre décimal en hexadécimal, la méthode est similaire au binaire, sauf que cette fois on divise par 16.\n",
        "\n",
        "\\begin{align}\n",
        "\\color{purple}{185}\t÷ 16 &=\t\\color{green}{11}\t+\t\\color{red}{9}\t\\rightarrow \\color{brown}{9} \\\\\n",
        "\\color{green}{11}\t÷ 16 &=\t\\color{blue}{0}\t+\t\\color{red}{11}\t\\rightarrow \\color{brown}{\\text{B}}\n",
        "\\end{align}\n",
        "\n",
        "**Attention, il faut bien lire de bas en haut !**\n",
        "\n",
        "**185** en base 10 vaut donc **B9** en hexadécimal."
      ]
    },
    {
      "cell_type": "markdown",
      "metadata": {
        "id": "5Vz5y0LVfDcq",
        "colab_type": "text"
      },
      "source": [
        "> ---\n",
        "\n",
        "> **Entraînement**\n",
        "\n",
        "> Convertir 1387$_{10}$ en base 16\n",
        "\n",
        "> ---"
      ]
    },
    {
      "cell_type": "markdown",
      "metadata": {
        "id": "sLSwmTaOfIsT",
        "colab_type": "text"
      },
      "source": [
        "**Réponse**  *(répondre dans cette cellule)*"
      ]
    },
    {
      "cell_type": "markdown",
      "metadata": {
        "id": "Mfid0lyrfJPi",
        "colab_type": "text"
      },
      "source": [
        "## 7. Convertir un nombre hexadécimal en décimal\n",
        "\n",
        "Le principe est le même que pour la conversation \"binaire en décimal\" sauf qu'au lieu d'utiliser des $2^n$ on utilise des $16^n$.\n",
        "\n",
        "Exemple :\n",
        "\n",
        "\\begin{align}\n",
        "12\\text{B}7_{16} &=1×163+2×162+11×161+7×160 \\\\\n",
        "&=1×4096+2×256+11×16+7 \\\\\n",
        "&=4096+512+176+7\\\\\n",
        "&=4791\n",
        "\\end{align}\n",
        "\n",
        "Vous avez remarqué que quand on trouve un B dans le nombre écrit en hexadécimal, on le remplace par un 11 dans le calcul. C'est exactement la même chose quand on trouve :\n",
        "\n",
        "* un A, on le remplace par un 10\n",
        "* un C, on le remplace par un 12\n",
        "* un D, on le remplace par un 13\n",
        "* un E, on le remplace par un 14\n",
        "* un F, on le remplace par un 15"
      ]
    },
    {
      "cell_type": "markdown",
      "metadata": {
        "id": "YdY_ZtCVfb_S",
        "colab_type": "text"
      },
      "source": [
        "> ---\n",
        "\n",
        "> **Entraînement**\n",
        "\n",
        "> Convertir 1B87$_{16}$ en base 10\n",
        "\n",
        "> ---\n",
        "\n"
      ]
    },
    {
      "cell_type": "markdown",
      "metadata": {
        "id": "w9d09Tc1feQK",
        "colab_type": "text"
      },
      "source": [
        "**Réponse**  *(répondre dans cette cellule)*"
      ]
    },
    {
      "cell_type": "markdown",
      "metadata": {
        "id": "bHPu73Wefebh",
        "colab_type": "text"
      },
      "source": [
        "## 8. Généralisation pour une base $b$\n",
        "\n",
        "Nous avons vu ci-dessus comment convertir un nombre en base 10 en un nombre en base 16. Pour convertir un nombre $n$ (en base 10) en sa représentation en base $b$, il faut suivre l'algorithme suivant :\n",
        "\n",
        "* On appelle $D$ la liste des chiffres (le résultat).\n",
        "* Tant que $n>0$\n",
        "    * Faire la division euclidienne de n par $b$.\n",
        "    * Ajouter le reste à $D$\n",
        "    * Mettre le quotient dans $n$\n",
        "* Inverser l'ordre de $D$\n",
        "\n",
        "Soit $x$ la représentation du nombre en base 10, $r$ la représentation du nombre en base $b$, $r$ étant écrit en utilisant $n$ chiffres : $c_0$, $c_1$ ... $c_{n−1}$, nous avons :\n",
        "\n",
        "$$r = c_{n-1}c_{n-2}\\ldots c_{2}c_{1}c_{0}$$\n",
        "\n",
        "$$x = \\sum\\limits_{i=0}^{n-1} c_i b^i = c_{n-1}b^{n-1} + c_{n-2}b^{n-2} + \\ldots + c_{2}b^{2} + c_{1}b^{1} + c_{0}b^{0}$$"
      ]
    },
    {
      "cell_type": "markdown",
      "metadata": {
        "id": "aW7gWraujNl5",
        "colab_type": "text"
      },
      "source": [
        "---\n",
        "\n",
        "***A propos de ce document***\n",
        "* Auteur : David Roche\n",
        "* Source : https://pixees.fr/informatiquelycee/n_site/nsi_prem_base_2_16.html\n",
        "* Licence : [Creative Commons BY-SA](https://creativecommons.org/licenses/by-sa/2.0/)\n",
        "* Adaptation au format calepin : Laurent Abbal "
      ]
    }
  ]
}
