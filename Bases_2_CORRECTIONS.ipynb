{
 "cells": [
  {
   "cell_type": "markdown",
   "metadata": {},
   "source": [
    "## Bases en Python - (2°) Premiers points sur les fonctions\n",
    "**Intérêt** des fonctions: **réutilisation** du travail déjà effectué sans «réinventer la roue» sans cesse, **lisibilité** du code grâce à un **découpage d'un problème en sous-tâches** plus simples, facilitation du **travail en équipe**."
   ]
  },
  {
   "cell_type": "code",
   "execution_count": null,
   "metadata": {},
   "outputs": [],
   "source": [
    "# Ex. basique (on aurait pu se contenter d'un `return a**2 + b**2`)\n",
    "\n",
    "def somme_carres(a, b):\n",
    "    \"\"\"Renvoie la somme des carrés des deux arguments.\n",
    "    \"\"\"\n",
    "    s = a**2 + b**2\n",
    "    \n",
    "    return s\n",
    "\n",
    "# Ex. de vérification d'un appel de cette fonction\n",
    "somme_carres(2, 3) == 2*2 + 3*3"
   ]
  },
  {
   "cell_type": "code",
   "execution_count": null,
   "metadata": {},
   "outputs": [],
   "source": [
    "# Ex. d'utilisation de `help()` et de la DocString (il faut avoir exécuté la cellule précédente)\n",
    "\n",
    "help(somme_carres)  # Note l'utilisation du nom de la fonction sans ses parenthèses"
   ]
  },
  {
   "cell_type": "code",
   "execution_count": null,
   "metadata": {},
   "outputs": [],
   "source": [
    "# Même remarque. De plus, l'affichage est légèrement différent \n",
    "#  et pas forcément «à la suite», mais suivant l'installation, dans une autre fenêtre...\n",
    "?somme_carres"
   ]
  },
  {
   "cell_type": "markdown",
   "metadata": {},
   "source": [
    "### Exemple\n",
    "La fonction **renvoie** la chaîne de caractère \n",
    "```python\n",
    "\"Salut Geekos, bon boulot !\"\n",
    "```\n",
    "quand on lui donne en argument la chaîne `\"Geekos\"`:"
   ]
  },
  {
   "cell_type": "code",
   "execution_count": null,
   "metadata": {},
   "outputs": [],
   "source": [
    "def felicitation(pseudo):\n",
    "    \"\"\"Renvoie le message de bienvenue incluant le pseudo (chaîne de caractères)\n",
    "    \n",
    "    La fonction attend un argument qui est une chaîne, mais ne vérifie pas que c'est le cas.\n",
    "    \"\"\"\n",
    "    txt = \"Salut \" + pseudo + \", bon boulot !\"\n",
    "    \n",
    "    # Ou\n",
    "    #txt = f\"Salut {pseudo}, bon boulot !\"\n",
    "    \n",
    "    return txt\n",
    "\n",
    "\n",
    "# Vérification\n",
    "\n",
    "# On aurait pu condenser en une seule étape avec \n",
    "#felicitation(\"Geekos\")\n",
    "\n",
    "pseudo4 = \"Geekos\"\n",
    "felicitation(pseudo4)"
   ]
  },
  {
   "cell_type": "markdown",
   "metadata": {},
   "source": [
    "## Quelques raffinements\n",
    "> *Pour les plus rapides ou curieux, ça n'est pas la priorité si vous avez un peu de mal à suivre...*\n",
    "\n",
    "### Arguments facultatifs\n",
    "Exemple: cette fonction utilise des arguments facultatifs. Elle renvoie une chaîne comme\n",
    "```python\n",
    "\"Salut Geekos, quelle aventure ! Ton score est de 57 et tu avais 3 adversaire(s).\"\n",
    "```\n",
    "si le premier argument `pseudo` vaut `\"Geekos\"`, si le second vaut `57` et le dernier `3`."
   ]
  },
  {
   "cell_type": "code",
   "execution_count": null,
   "metadata": {},
   "outputs": [],
   "source": [
    "def msg_final(pseudo, score=0, nb_adversaires=1):\n",
    "    txt = f\"Salut {pseudo}, quelle aventure ! \"\n",
    "    txt += f\"Ton score est de {score} et tu avais {nb_adversaires} adversaire(s).\"\n",
    "    \n",
    "    return txt\n",
    "\n",
    "# Tests\n",
    "print(msg_final(\"Geekos\", 57, 3))\n",
    "\n",
    "print(msg_final(\"Geekos\", 57))\n",
    "\n",
    "print(msg_final(\"Geekos\"))\n",
    "\n",
    "# Il faut nommer les arguments, si ce n'est pas le dernier \n",
    "#  des arguments facultatifs qu'on n'indique pas\n",
    "print(msg_final(\"Geekos\", nb_adversaires=3))"
   ]
  },
  {
   "cell_type": "markdown",
   "metadata": {},
   "source": [
    "### Fonction passée comme argument (plutôt difficile)\n",
    "À l'aide de `somme_3_images()` on calcule la somme des cubes de 1, 2 et 3, d'abord en définissant une fonction `cube(x)`, puis en utilisant une fonction lambda."
   ]
  },
  {
   "cell_type": "code",
   "execution_count": null,
   "metadata": {},
   "outputs": [],
   "source": [
    "def cube(x):\n",
    "    return x**3  # ou x*x*x\n",
    "\n",
    "def somme_3_images(x1, x2, x3, fonction):\n",
    "    return fonction(x1) + fonction(x2) + fonction(x3)\n",
    "\n",
    "# Test 1 avec la fonction `cube()` définie avant\n",
    "somme_3_images(1, 2, 3, cube)"
   ]
  },
  {
   "cell_type": "code",
   "execution_count": null,
   "metadata": {},
   "outputs": [],
   "source": [
    "# Test 2 avec une \"fonction lambda\" (ou \"anonyme\")\n",
    "\n",
    "# Cellule indépendante de la précédente, \n",
    "#   car on redéfinit `somme_3_images()` (de manière identique)\n",
    "\n",
    "somme_3_images(1, 2, 3, lambda x : x**3)"
   ]
  },
  {
   "cell_type": "markdown",
   "metadata": {},
   "source": [
    "## Portée des variables\n",
    "\n",
    "### Variable globale ou locale\n",
    "\n",
    "*Exemples où l'on modifie la valeur d'une variable `score` à l'aide de fonctions*..."
   ]
  },
  {
   "cell_type": "code",
   "execution_count": null,
   "metadata": {},
   "outputs": [],
   "source": [
    "# Version 1 avec déclaration d'une variable à modifier dans une fonction comme globale\n",
    "\n",
    "def modifie_score(ajout):\n",
    "    global score\n",
    "    # Fonctionne grâce à la ligne précédente, mais déconseillé\n",
    "    #  car source d'erreurs difficiles à détecter\n",
    "    score = score + ajout\n",
    "    \n",
    "score = 0\n",
    "print(f\"Au départ, score = {score}\")\n",
    "modifie_score(10)\n",
    "print(f\"Après ajout, score = {score}\")"
   ]
  },
  {
   "cell_type": "code",
   "execution_count": null,
   "metadata": {},
   "outputs": [],
   "source": [
    "# Version 2, préférable : fonction à valeur de retour, \n",
    "# qu'on affecte à la variable globale à modifier\n",
    "\n",
    "def nouveau_score(score_initial, ajout):\n",
    "    # Aucune variable globale n'est affectée\n",
    "    return score_initial + ajout\n",
    "    \n",
    "score = 0\n",
    "print(f\"Au départ, score = {score}\")\n",
    "score = nouveau_score(score, 10)\n",
    "print(f\"Après ajout, score = {score}\")"
   ]
  }
 ],
 "metadata": {
  "kernelspec": {
   "display_name": "Python 3",
   "language": "python",
   "name": "python3"
  },
  "language_info": {
   "codemirror_mode": {
    "name": "ipython",
    "version": 3
   },
   "file_extension": ".py",
   "mimetype": "text/x-python",
   "name": "python",
   "nbconvert_exporter": "python",
   "pygments_lexer": "ipython3",
   "version": "3.6.8"
  }
 },
 "nbformat": 4,
 "nbformat_minor": 2
}
