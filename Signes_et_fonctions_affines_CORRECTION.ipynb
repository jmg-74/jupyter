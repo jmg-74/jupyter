{
 "cells": [
  {
   "cell_type": "markdown",
   "metadata": {},
   "source": [
    "# Études de signes et fonctions affines\n",
    "> ## MODE D'EMPLOI\n",
    "> Si tu n'as jamais utilisé de _notebook Jupyter_ comme celui-ci, voici quelques informations utiles:\n",
    "> * Le contenu du document est composé de \"cellules\" les unes sous les autres, qui sont de type '**texte**', ou alors \"**code Python**\".\n",
    "\n",
    "> * **Chaque cellule peut être modifiée** directement dans ton navigateur: clique dans le contenu (double-clic nécessaire pour le texte. Tu retrouves alors son \"codage\" (* pour pouvoir le mettre en page, à l'aide de quelques symboles supplémentaires, c'est le format MarkDown pour les curieuses et curieux, mais inutile de s'en préoccuper ici, il ne t'est pas forcément utile de modifier ce texte.*).\n",
    "\n",
    "> * **Chaque cellule peut être \"exécutée\"** (Par le menu `Cell` / `Run Cells`, ou avec **[MAJ]+[ENTRÉE]** en principe, sinon essaie avec [CTRL], ou [CMD] sur Mac). Le code Python, est alors exécuté et le résultat éventuel affiché juste en dessous de la cellule. Pour le texte, on repasse du code à l'affichage normal.\n",
    "\n",
    "> * **Les valeurs des variables et les fonctions** qui ont été définies **restent en mémoire** et peuvent être utilisées dans d'autres cellules. On peut tout effacer pour repartir à zéro (sans effacer le contenu du *notebook*): menu `Kernel` / `Restart`.\n",
    "\n",
    "> Tu devrais en savoir assez, rien de bien compliqué une fois qu'on a pratiqué un peu ! À la fin, **tu pourras même sauvegarder** ton travail sur ta machine si tu le souhaites (`File` / `Download as` / ...). Seul le format \"Notebook .ipynb\" te permet de continuer à travailler comme ici, mais ça demande de disposer d'un \"serveur Jupyter\", ce qui est rarement le cas. Mais tu peux choisir le format \"**HTML**\" pour garder une belle page lisible dans tout navigateur."
   ]
  },
  {
   "cell_type": "markdown",
   "metadata": {},
   "source": [
    "## Introduction\n",
    "Tu as sûrement déjà compris qu'il était indispensable de maîtriser les études de **signes de fonctions affines**, ou de **produits**, de **quotients** de telles fonctions.\n",
    "\n",
    "Dans ce *notebook*, tu vas jouer un peu avec Python, de manière à ce qu'il détermine des **tableaux de signes**. Comme ça, tu pourras t'entraîner tout seul et vérifier tes résultats de manière autonome (*remarque juste que les valeurs de la variable pour lesquelles la fonction s'annule peuvent être arrondies par Python, alors qu'on indique les valeurs exactes en pratique*) !\n",
    "\n",
    "C'est parti ! Je te guide pas à pas..."
   ]
  },
  {
   "cell_type": "markdown",
   "metadata": {},
   "source": [
    "## 1. Sens de variation de la fonction : $x\\mapsto m x + p$\n",
    "\n",
    "Dans la suite, on voudra récupérer une valeur dite booléenne (qui vaut `True` pour \"vrai\" ou `False` pour \"faux\", sans oublier la majuscule) qui indique si la fonction est strictement croissante ou non.\n",
    "\n",
    "**_Ta mission_** :\n",
    "* Compléter le code suivant, pour que la fonction renvoie la bonne valeur. \n",
    "* Puis, en exécutant la cellule, vérifier que la valeur renvoyée par la fonction est `False` pour les valeurs données au départ, $-3$ et $2$, puisque $x\\mapsto-3x+2$ n'est pas croissante. \n",
    "* Enfin, teste avec d'autres valeurs en modifiant puis en ré-exécutant la cellule, par exemple en vérifiant que tu obtiens `True` avec $5$ et $3$."
   ]
  },
  {
   "cell_type": "code",
   "execution_count": 1,
   "metadata": {},
   "outputs": [
    {
     "data": {
      "text/plain": [
       "False"
      ]
     },
     "execution_count": 1,
     "metadata": {},
     "output_type": "execute_result"
    }
   ],
   "source": [
    "def est_strict_croissante(m, p):\n",
    "    \"\"\"\n",
    "    Renvoie `True` si et seulement si la fonction  x ⟼ m x + p  est strictement croissante.\n",
    "    \"\"\"\n",
    "    if m > 0 :\n",
    "        rep = True\n",
    "    else:\n",
    "        rep = False\n",
    "        \n",
    "    return rep\n",
    "\n",
    "\n",
    "# Exemple de vérification\n",
    "est_strict_croissante(-3, 2)"
   ]
  },
  {
   "cell_type": "markdown",
   "metadata": {},
   "source": [
    ">**_Interlude_**: pour voir à quoi sert la \"**_docstring_**\", cette chaîne de caractères insérée au tout début de la définition d'une fonction, exécute la cellule suivante (la précédente doit avoir été exécutée avant sans erreur). On note la chaîne entre guillemets triples, ainsi on peut inclure des guillemets dans le contenu et les retours à la lignes sont pris en compte. *C'est une très bonne habitude d'en écrire une pour ses propres fonctions*..."
   ]
  },
  {
   "cell_type": "code",
   "execution_count": 2,
   "metadata": {},
   "outputs": [
    {
     "name": "stdout",
     "output_type": "stream",
     "text": [
      "Help on function est_strict_croissante in module __main__:\n",
      "\n",
      "est_strict_croissante(m, p)\n",
      "    Renvoie `True` si et seulement si la fonction  x ⟼ m x + p  est strictement croissante.\n",
      "\n"
     ]
    }
   ],
   "source": [
    "help(est_strict_croissante)  # Pas de parenthèses après le nom de la fonction ici /!\\ "
   ]
  },
  {
   "cell_type": "markdown",
   "metadata": {},
   "source": [
    "## 2. Tableau de variation d'une fonction affine non constante\n",
    "(*On a exclu le cas des fonctions constantes, car on n'a pas besoin de Python pour déterminer leur signe*...)\n",
    "### 2.1. Premier cas : on connaît son sens de variation et quand elle s'annule\n",
    "On t'a préparé le terrain, car le travail sur les chaînes de caractères n'est pas un objectif prioritaire en maths. Note simplement qu'on concatène (on \"colle à la suite\") des chaînes avec le symbole `+` et que le `\\n` indique un retour à la ligne quand on affiche la chaîne, avec la fonction Python `print()`.\n",
    "\n",
    "**_Ta mission_** :\n",
    "\n",
    "Complète le code avec `\"─\"` ou `\"+\"`, sachant que la variable `signe1` contient la chaîne contenant comme unique caractère le signe qu'on lira en première position, à gauche, dans la ligne \"du f(x)\", et que `signe2` contient le signe suivant.\n",
    "\n",
    "La valeur de retour pourra être la chaîne qui s'affiche ainsi :\n",
    "```\n",
    "   x  │-∞       x0       +∞    avec  x0 = -3.14\n",
    "──────┼────────────────────\n",
    " f(x) │    +    0     ─\n",
    " ```"
   ]
  },
  {
   "cell_type": "code",
   "execution_count": 3,
   "metadata": {},
   "outputs": [
    {
     "name": "stdout",
     "output_type": "stream",
     "text": [
      "   x  │-∞       x0       +∞    avec  x0 = -3.14\n",
      "──────┼────────────────────\n",
      " f(x) │    +    0     ─\n"
     ]
    }
   ],
   "source": [
    "def tableau_fonc_affine(x0, est_croissante):\n",
    "    \"\"\"\n",
    "    Renvoie le tableau de signe d'une fonction affine non constante, comme chaîne de caractères.\n",
    "    \n",
    "    . La fonction s'annule en quand la variable vaut `x0`.\n",
    "    . Le paramètre `est_croissante` vaut `True` si la fonction est croissante, `False` sinon.\n",
    "    \"\"\"\n",
    "    # Ligne 1 du tableau, valeurs de la variable x\n",
    "    tab  = \"   x  │-∞       x0       +∞    avec  x0 = \"\n",
    "    tab += str(x0) + \"\\n\"\n",
    "    \n",
    "    # Ligne 2 de séparation\n",
    "    tab += \"──────┼────────────────────\\n\"\n",
    "    \n",
    "    # Ligne 3 pour le signe de f(x)\n",
    "    if est_croissante:\n",
    "        signe1 = \"─\"\n",
    "        signe2 = \"+\"\n",
    "    else: \n",
    "        signe1 = \"+\"\n",
    "        signe2 = \"─\"\n",
    "    tab += \" f(x) │    \" + signe1 + \"    0     \" + signe2\n",
    "    \n",
    "    return tab\n",
    "\n",
    "\n",
    "# Exemple d'affichage du résultat\n",
    "print( tableau_fonc_affine(-3.14, False) )"
   ]
  },
  {
   "cell_type": "markdown",
   "metadata": {},
   "source": [
    "### 2.2 Seconde version : on part des coefficients *m* et *p*\n",
    "Jusque là, on génère un affichage correct, mais l'utilisateur doit lui-même indiquer quand la fonction s'annule et si elle est croissante ou non ! *Pas si intéressant que ça*...\n",
    "\n",
    "**_Ta mission_** :\n",
    "\n",
    "Compléter le code de cette nouvelle fonction, plus intéressante en pratique, puisqu'il suffit de donner les coefficients $m$ et $p$ si $f(x) = m x + p$, pour qu'elle renvoie le tableau de signes de $f(x)$ en fonction de $x$. \n",
    "\n",
    "Elle utilise la fonction précédente, histoire de ne pas refaire le travail déjà effectué !"
   ]
  },
  {
   "cell_type": "code",
   "execution_count": 4,
   "metadata": {},
   "outputs": [
    {
     "name": "stdout",
     "output_type": "stream",
     "text": [
      "   x  │-∞       x0       +∞    avec  x0 = 0.6\n",
      "──────┼────────────────────\n",
      " f(x) │    +    0     ─\n"
     ]
    }
   ],
   "source": [
    "def tableau_signes(m, p):\n",
    "    \"\"\"\n",
    "    Renvoie le tableau de signe de la fonction x ⟼ m x + p non constante, comme chaîne de caractères.\n",
    "    \"\"\"\n",
    "    # Cas (en principe exclu) de la fonction constante : \n",
    "    # Les plus motivé·e·s pourront renvoyer le tableau avec uniquement un +\n",
    "    #  ou uniquement un ─, plutôt que la chaîne vide renvoyée ici...\n",
    "    if m == 0:\n",
    "        return \"Je ne traite pas les fonctions constantes\"\n",
    "    \n",
    "    # L'exécution ne se poursuit ici que si `m` est différent de 0.\n",
    "    \n",
    "    # Valeur où la fonction s'annule\n",
    "    x0 = -p / m  \n",
    "    \n",
    "    # Sens de variation\n",
    "    if m > 0 :\n",
    "        croissante = True\n",
    "    else:\n",
    "        croissante = False\n",
    "    \n",
    "    # Synthèse: on construit le tableau de signes\n",
    "    tab = tableau_fonc_affine(x0, croissante)\n",
    "    \n",
    "    return tab\n",
    "\n",
    "\n",
    "# Exemple d'affichage (essaie avec d'autres arguments)\n",
    "print( tableau_signes(-5, 3) )"
   ]
  },
  {
   "cell_type": "markdown",
   "metadata": {},
   "source": [
    "## 3. Signe d'un produit de deux fonctions affines\n",
    "Tu passes au niveau supérieur, bravo ! \n",
    "### 3.1 Préliminaires\n",
    "Je te fournis tout d'abord une fonction qui renvoie la chaîne donnant l'expression de la fonction affine $x \\mapsto m x + p$, comme `\"3x-2\"` ou `\"-x+3\"`, à partir des coefficients $m$ et $p$. Tu peux la tester pour bien comprendre ce qu'elle renvoie, mais analyser son code n'est pas indispensable ici (*même si ça n'est pas interdit, j'ai utilisé pour cela un code peu compact, pas trop \"pythonique\", pour qu'il reste accessible*).\n",
    "\n",
    "**Exécute la cellule suivante** pour que cette fonction soit définie (*on l'utilise dans la suite*)."
   ]
  },
  {
   "cell_type": "code",
   "execution_count": 5,
   "metadata": {},
   "outputs": [
    {
     "data": {
      "text/plain": [
       "'-x + 7.3'"
      ]
     },
     "execution_count": 5,
     "metadata": {},
     "output_type": "execute_result"
    }
   ],
   "source": [
    "def expression_affine(m, p):\n",
    "    \"\"\"\n",
    "    Renvoie la chaîne \"m x + p\" à partir des valeurs numériques de `m` et `p`\n",
    "    \"\"\"\n",
    "    # Cas des fonctions constantes\n",
    "    if m == 0:\n",
    "        return str(p)  # Traduction \"nombre\" vers \"chaîne\" = \"string\"\n",
    "    \n",
    "    # 1x = x  et  -1x = -x\n",
    "    if m == 1: \n",
    "        mm = \"\"\n",
    "    elif m == -1:\n",
    "        mm = '-'\n",
    "    else:\n",
    "        mm = str(m)\n",
    "        \n",
    "    # Cas des fonctions linéaires\n",
    "    if p == 0:\n",
    "        return mm + \"x\"\n",
    "    \n",
    "    # signe intermédiaire (sera suivi d'1 espace)\n",
    "    if p < 0:\n",
    "        signe = \"-\"\n",
    "    else:\n",
    "        signe = \"+\"\n",
    "    \n",
    "    return mm + \"x \" + signe + \" \" + str(abs(p)) # Val. absolue de p\n",
    "\n",
    "\n",
    "# Exemple\n",
    "expression_affine(-1, 7.3)"
   ]
  },
  {
   "cell_type": "markdown",
   "metadata": {},
   "source": [
    "### 3.2 Ordre d'affichage des fonctions affines dans le tableau\n",
    "Au final, on donnera les coefficients $m$, $p$, $m'$ et $p'$, tels que $f(x) = (m x + p)(m' x + p')$.\n",
    "\n",
    "Tu sais que $(m x + p)(m' x + p') = (m' x + p')(m x + p)$. On choisit, pour simplifier la programmation, d'afficher d'abord la ligne du signe de $u(x) = (m x + p)$ ou de $v(x) = (m' x + p')$ qui s'annule pour la plus petite valeur. Et ensuite seulement, sur la ligne suivante, celui de l'autre fonction, avant le signe de $f(x)$.\n",
    "\n",
    "Ainsi, on pourra toujours disposer le tableau ainsi, où les `*` sont des signes qu'il nous restera à déterminer (et où $u(x)$, $v(x)$, $f(x)$ seront remplacés par leurs expressions) :\n",
    "```\n",
    "  x   │-∞        x0         x1      +∞    avec  x0 = -3.14  et x1 = 5.2\n",
    "──────┼───────────────────────────────\n",
    " u(x) │     *    0     *         * \n",
    " v(x) │     *          *    0    *\n",
    " f(x) │     *    0     *    0    *\n",
    "```\n",
    "\n",
    "**_Ta mission_** :\n",
    "\n",
    "Complète la fonction suivante, pour qu'elle renvoie `True` si et seulement si $u(x) = (m x + p)$ s'annule pour une plus petite valeur de la variable que la la valeur qui annule $v(x) = (m' x + p')$. "
   ]
  },
  {
   "cell_type": "code",
   "execution_count": 6,
   "metadata": {},
   "outputs": [
    {
     "data": {
      "text/plain": [
       "True"
      ]
     },
     "execution_count": 6,
     "metadata": {},
     "output_type": "execute_result"
    }
   ],
   "source": [
    "def u_avant_v(m, p, mm, pp):\n",
    "    \"\"\"\n",
    "    Renvoie `True` si le signe de u(x) = m x + p doit être affiché avant celui de v(x) = mm x + pp'.\n",
    "    \"\"\"\n",
    "    # Valeur qui annule u(x) = m x + p\n",
    "    xu = -p / m\n",
    "    # Valeur qui annule v(x) = mm x + pp\n",
    "    xv = -pp / mm\n",
    "    \n",
    "    return xu < xv\n",
    "\n",
    "# Exemple\n",
    "u_avant_v(2, 3, -4, 5)"
   ]
  },
  {
   "cell_type": "markdown",
   "metadata": {},
   "source": [
    "### 3.3 « Lignes intermédiaires » des signes de $u(x)$ et $v(x)$\n",
    "Pour la suite, on se crée des étapes intermédiaires: on va fabriquer la chaîne de caractères associée à chacune des fonctions intermédiaires. Comme ça n'est pas très intéressant, je l'ai fait pour toi. À nouveau, on ne s'occupe pas des cas particuliers de fonctions constantes. On ne traite également que le cas où les deux fonctions ne s'annulent pas pour la même valeur de la variable.\n",
    "\n",
    "**Exécute les deux cellules suivantes**, pour définir les fonctions (et voir ce qu'elles renvoient)."
   ]
  },
  {
   "cell_type": "code",
   "execution_count": 7,
   "metadata": {},
   "outputs": [
    {
     "data": {
      "text/plain": [
       "' u(x) │     ─     0     +           +'"
      ]
     },
     "execution_count": 7,
     "metadata": {},
     "output_type": "execute_result"
    }
   ],
   "source": [
    "def signe1(u, m, p):\n",
    "    \"\"\"\n",
    "    Renvoie la chaîne de caractères de la 1re ligne intermédiaire du tableau de signe, pour u(x) = mx+p.\n",
    "    \n",
    "    . `u` est la chaîne de 6 caractères espaces compris de l'en-tête de ligne, comme \" u(x) \".\n",
    "    . `m` et `p` sont des variables numériques.\n",
    "    \"\"\"\n",
    "    if m < 0:\n",
    "        signe1 = \"+\"\n",
    "        signe2 = \"─\"\n",
    "    else:\n",
    "        signe1 = \"─\"\n",
    "        signe2 = \"+\"\n",
    "    \n",
    "    return u + \"│     \" + signe1 + \"     0     \" + signe2 + \"           \" + signe2\n",
    "\n",
    "\n",
    "#Exemple\n",
    "signe1(\" u(x) \", 3, 5) "
   ]
  },
  {
   "cell_type": "code",
   "execution_count": 8,
   "metadata": {},
   "outputs": [
    {
     "data": {
      "text/plain": [
       "' v(x) │     +           +     0     ─'"
      ]
     },
     "execution_count": 8,
     "metadata": {},
     "output_type": "execute_result"
    }
   ],
   "source": [
    "def signe2(u, m, p):\n",
    "    \"\"\"\n",
    "    Renvoie la chaîne de caractères de la 2e ligne intermédiaire du tableau de signe, pour u(x) = mx+p.\n",
    "    \n",
    "    . `u` est la chaîne de 6 caractères espaces compris de l'en-tête de ligne, comme \" u(x) \".\n",
    "    . `m` et `p` sont des variables numériques.\n",
    "    \"\"\"\n",
    "    if m < 0:\n",
    "        signe1 = \"+\"\n",
    "        signe2 = \"─\"\n",
    "    else:\n",
    "        signe1 = \"─\"\n",
    "        signe2 = \"+\"\n",
    "    \n",
    "    return u + \"│     \" + signe1 + \"           \" + signe1 + \"     0     \" + signe2\n",
    "\n",
    "\n",
    "#Exemple\n",
    "signe2(\" v(x) \", -2, 5)"
   ]
  },
  {
   "cell_type": "markdown",
   "metadata": {},
   "source": [
    "### 3.3 Signe de la dernière ligne\n",
    "On procède un peu de la même manière pour le signe de $f(x)$. Là encore, je te fournis la fonction. J'ai utilisé le fait que pour le produit de deux fonctions affines, le premier et le dernier signe sur la ligne sont les mêmes. Saurais-tu expliquer pourquoi ? \n",
    "\n",
    "**_Ta mission_** :\n",
    "\n",
    "**Complète la déclaration de la seconde fonction**, qui renvoie le tableau de signe complet. Je te rappelle qu'on ne gère pas pour l'instant le cas où les deux fonctions \"intermédiaires\" s'annuelent au même endroit.\n",
    "\n",
    "Puis **teste cette fonction**: observe ce qu'elle renvoie pour $f(x) = (3x+2)(5x-3)$, puis pour $f(x) = (-3x-2)(5x+3)$, puis pour $f(x) = (-3x+2)(5x-3)$ par exemple..."
   ]
  },
  {
   "cell_type": "code",
   "execution_count": 9,
   "metadata": {},
   "outputs": [
    {
     "name": "stdout",
     "output_type": "stream",
     "text": [
      "Pour x0 = -0.6666666666666666 et x1 = 0.6,\n",
      " u(x) = 3x + 2,\n",
      " v(x) = 5x - 3 et\n",
      " f(x) = (3x + 2)(5x - 3) :\n",
      "\n",
      "  x   │-∞        x0           x1       +∞\n",
      "──────┼──────────────────────────────────\n",
      " u(x) │     ─     0     +           +\n",
      " v(x) │     ─           ─     0     +\n",
      " f(x) │     +     0     ─     0     +\n"
     ]
    }
   ],
   "source": [
    "def signe_f(f, signe_ext):\n",
    "    \"\"\"\n",
    "    Renvoie la chaîne de caractères de la dernière ligne du tableau. \n",
    "    \n",
    "    . `f` est  la chaîne de 6 caractères espaces compris de l'en-tête de ligne, comme \" f(x) \".\n",
    "    . `signe_ext` est la chaîne d'un caractère, le signe \"à l'extérieur\", à savoir \n",
    "       pour les plus petites et pour les plus grandes valeurs de la variable.\n",
    "    \"\"\"\n",
    "    if signe_ext == \"+\":\n",
    "        signe_in = \"─\"\n",
    "    else:\n",
    "        signe_in = \"+\"\n",
    "    \n",
    "    return f + \"│     \" + signe_ext + \"     0     \" + signe_in + \"     0     \" + signe_ext\n",
    "\n",
    "\n",
    "def tableau_signes(m, p, mm, pp):\n",
    "    \"\"\"\n",
    "    Renvoie la chaîne de caractères contenant le tableau de signes de f(x) = (m x + p)(mm x + pp)\n",
    "    \"\"\"\n",
    "    # Valeur qui annule u(x) = m x + p\n",
    "    x0 =  -p / m\n",
    "    # Valeur qui annule V(x) = mm x + pp\n",
    "    x1 =  -pp / mm\n",
    "    \n",
    "    # Si les deux fonctions u et v s'annulent au meme endroit, non géré ici\n",
    "    if x0 == x1:\n",
    "        return \"Je ne sais pas (encore) faire !\"\n",
    "    \n",
    "    # Échanger u et v, si v doit être affichée avant u\n",
    "    if x1 < x0:\n",
    "        m, p, mm, pp = mm, pp, m, p\n",
    "        x0, x1 = x1, x0\n",
    "    \n",
    "    # Construction de la chaîne à renvoyer\n",
    "    # . Avant le tableau\n",
    "    tab  = \"Pour x0 = \" + str(x0) + \" et x1 = \" + str(x1) + \",\\n\"\n",
    "    tab += \" u(x) = \" + expression_affine(m, p) + \",\\n\"\n",
    "    tab += \" v(x) = \" + expression_affine(mm, pp) + \" et\\n\"\n",
    "    tab += \" f(x) = (\" + expression_affine(m, p) + \")(\" + expression_affine(mm, pp) + \") :\\n\\n\"\n",
    "    # . Tableau\n",
    "    tab += \"  x   │-∞        x0           x1       +∞\\n\"\n",
    "    tab += \"──────┼──────────────────────────────────\\n\"\n",
    "    tab += signe1(\" u(x) \", m, p) + \"\\n\"\n",
    "    tab += signe2(\" v(x) \", mm, pp) + \"\\n\"\n",
    "    # Deux fonctions de même sens de variation signifie\n",
    "    #  que leur signe \"pour les très grandes valeurs de x\"\n",
    "    #  est le même, donc pour le produit f(x) on a \"+\"\n",
    "    if (m > 0 and mm > 0) or (m < 0 and mm < 0):\n",
    "        signe_ext = \"+\"\n",
    "    else:\n",
    "        signe_ext = \"─\"\n",
    "    tab += signe_f(\" f(x) \", signe_ext)\n",
    "    \n",
    "    return tab\n",
    "    \n",
    "    \n",
    "# Exemple\n",
    "print( tableau_signes(3, 2, 5, -3) )"
   ]
  },
  {
   "cell_type": "markdown",
   "metadata": {},
   "source": [
    "## Bonus\n",
    "### Lien avec la représentation graphique\n",
    "Le code fourni juste après permet de représenter la fonction $f$. \n",
    "* Utilise-le pour représenter la fonction $f$ que tu étudies et vérifier la cohérence avec le tableau précédent.\n",
    "* Tu peux étudier le code de cette fonction, qui utilise la bibliothèque `matplotlib` fréquemment utilisée pour les représentations graphiques en science. Il fait appel aux tableaux de valeurs (type `list` en Python) qui ne sont au programme qu'en première, mais ça n'interdit pas d'essayer de comprendre ce qui se passe..."
   ]
  },
  {
   "cell_type": "code",
   "execution_count": 10,
   "metadata": {},
   "outputs": [
    {
     "data": {
      "image/png": "[encoded data removed]",
      "text/plain": [
       "<Figure size 432x288 with 1 Axes>"
      ]
     },
     "metadata": {},
     "output_type": "display_data"
    }
   ],
   "source": [
    "import matplotlib.pyplot as plt\n",
    "\n",
    "# Commande suivante spécifique aux notebook, \n",
    "# inutile avec une utilisation habituelle de Python\n",
    "%matplotlib inline\n",
    "\n",
    "def trace(m, p, mm, pp, x_min=None, x_max=None):\n",
    "    \"\"\"\n",
    "    Représente f(x) = (m x + p)(mm x + pp), pour x de x_min à x_max s'ils sont fournis.\n",
    "    \"\"\"\n",
    "    # Cas des fonctions \"intermédiaires\" constantes non pris en charge (pour l'instant)\n",
    "    assert m != 0 and mm != 0, \"Cas avec m ou mm nul non pris en charge\"\n",
    "    \n",
    "    # Choisir x_min et x_max s'ils ne sont pas donnés\n",
    "    if x_min is None  and  x_max is None:\n",
    "        x_min, x_max = -p/m, -pp/mm\n",
    "        if x_max < x_min:\n",
    "            x_min, x_max = x_max, x_min\n",
    "        delta_x = x_max - x_min\n",
    "        if delta_x == 0:\n",
    "            x_min, x_max = x_min * 0.8, x_max * 1.2\n",
    "        else:\n",
    "            x_min, x_max = x_min - 0.2 * delta_x,  x_max + 0.2 * delta_x\n",
    "            \n",
    "    # On fabrique la liste des abscisses pour 1001 points\n",
    "    if x_max < x_min : # Étourdi ?\n",
    "        x_min, x_max = x_max, x_min\n",
    "    delta_x = x_max - x_min\n",
    "    x_tab = [x_min + i * delta_x / 1000  for i in range(1001)]\n",
    "    # Maintenant, les ordonnées associées\n",
    "    y_tab = [(m * x + p) * (mm * x + pp)  for x in x_tab]\n",
    "    \n",
    "    # Courbe\n",
    "    plt.plot(x_tab, y_tab)\n",
    "    # Axe des abscisses\n",
    "    plt.plot([x_min, x_max], [0, 0], linewidth=2)\n",
    "\n",
    "    # Légendes, quadrillage\n",
    "    plt.xlabel('x')\n",
    "    f_de_x = \"f(x) = (\" + expression_affine(m, p) + \")(\" + expression_affine(mm, pp) + \")\"\n",
    "    plt.ylabel(f_de_x)\n",
    "    plt.grid(color='gray', alpha=0.4, ls='--')\n",
    "       \n",
    "    # Intersections avec l'axe des abscisses (valeurs affichées arrondies si besoin)\n",
    "    haut = max(y_tab) - min(y_tab)\n",
    "    x0, x1 = -p/m, -pp/mm\n",
    "    if m != 0 and x_min < -p/m < x_max:\n",
    "        plt.scatter(-p/m, 0, marker='o', color='r')\n",
    "        plt.text(x0, -haut/15, f\"{x0:.3g}\", color='r')\n",
    "    if mm != 0 and x_min < -pp/mm < x_max:\n",
    "        plt.scatter(-pp/mm, 0, marker='o', color='r')\n",
    "        plt.text(x1, -haut/15, f\"{x1:.3g}\", color='r')\n",
    "\n",
    "    # En dehors d'un notebook, il faudrait ajouter\n",
    "    #plt.show()\n",
    "    \n",
    "    \n",
    "# Exemple pour  f(x) = (m x + p)(mm x + pp)\n",
    "m, p = -3, 2\n",
    "mm, pp = 5, -3\n",
    "trace(m, p, mm, pp)"
   ]
  },
  {
   "cell_type": "markdown",
   "metadata": {},
   "source": [
    "### Cas où $u(x)$ et $v(x)$ s'annulent au même endroit\n",
    "Si tu es à l'aise, tu peux ajouter dans la définition de la fonction `tableau_signes()` précédente la gestion du cas où `x0` et `x1` ont la même valeur (les deux fonctions intermédiaires dont le produit vaut $f$ s'annulent au même endroit). Pense à utiliser découper le problème en tâches plus simples, utilise des fonctions qui assurent une partie du travail et qui sont ensuite appelées par `tableau_signes()`. Tu peux les ajouter dans la même cellule, ou en insérer d'autres avant, ce qui te permet de tester indépendamment tes fonctions plus facilement (menu `Insert` / `Insert cell above` pour créer une nouvelle cellule au dessus de celle qui est sélectionnée).\n",
    "\n",
    "**(_Pour la correction, on reprend ici, de manière indépedante, une définition de cette fontion qui prend en charge le cas indiqué. Cette définition « écrase » la précédente_)**"
   ]
  },
  {
   "cell_type": "code",
   "execution_count": 11,
   "metadata": {},
   "outputs": [
    {
     "name": "stdout",
     "output_type": "stream",
     "text": [
      "Pour x0 = -0.6666666666666666,\n",
      " u(x) = 3x + 2,\n",
      " v(x) = -6x - 4 et\n",
      " f(x) = (3x + 2)(-6x - 4), on obtient\n",
      "\n",
      "  x   │-∞        x0        +∞\n",
      "──────┼──────────────────────\n",
      " u(x) │     ─    0    +\n",
      " v(x) │     +    0    ─\n",
      " f(x) │     ─    0    ─\n"
     ]
    }
   ],
   "source": [
    "def signe3(u, m, p):\n",
    "    \"\"\"\n",
    "    Renvoie la ligne intermédiaire du tableau pour u(x)=mx+p si u et v s'annulent au même endroit.\n",
    "    \n",
    "    . `u` est la chaîne de 6 caractères espaces compris de l'en-tête de ligne, comme \" u(x) \".\n",
    "    . `m` et `p` sont des variables numériques.\n",
    "    \"\"\"\n",
    "    if m < 0:\n",
    "        signe1 = \"+\"\n",
    "        signe2 = \"─\"\n",
    "    else:\n",
    "        signe1 = \"─\"\n",
    "        signe2 = \"+\"\n",
    "\n",
    "    return u + \"│     \" + signe1 + \"    0    \" + signe2 \n",
    "\n",
    "\n",
    "def tableau_cas_partic(m, p, mm, pp):\n",
    "    \"\"\"\n",
    "    Renvoie le tableau de signe pour le cas où (m x + p) et (mm x + pp) s'annulent au même endroit.\n",
    "    \"\"\"\n",
    "    # Vérification qu'on est bien dans ce cas...\n",
    "    assert m != 0 and mm != 0 and m * pp - mm * p == 0, \"Je ne traite pas ce cas particulier\"\n",
    "\n",
    "    x0 = -p / m\n",
    "    \n",
    "    # Produit de deux fonctions croissantes \n",
    "    #  ou de deux fonctions décroissantes\n",
    "    #  autrement dit à coefficient directeur de même signe ?\n",
    "    #  (donc ici les deux fonctions sont de même signe)\n",
    "    if m * mm > 0:\n",
    "        signef = \"+\"\n",
    "    else: \n",
    "        signef = \"─\"\n",
    "    # Remarque: les quatre lignes précédentes\n",
    "    #  peuvent être remplacées par l'unique suivante:\n",
    "    signef = \"+\" if  m * mm > 0  else \"─\"\n",
    "    \n",
    "    # Construction de la chaîne à renvoyer\n",
    "    # . Avant le tableau\n",
    "    tab  = \"Pour x0 = \" + str(x0)+ \",\\n\"\n",
    "    tab += \" u(x) = \" + expression_affine(m, p) + \",\\n\"\n",
    "    tab += \" v(x) = \" + expression_affine(mm, pp) + \" et\\n\"\n",
    "    tab += \" f(x) = (\" + expression_affine(m, p) + \")(\" + expression_affine(mm, pp) + \"), \"\n",
    "    tab += \"on obtient\\n\\n\"\n",
    "    # . Tableau\n",
    "    tab += \"  x   │-∞        x0        +∞\\n\"\n",
    "    tab += \"──────┼──────────────────────\\n\"\n",
    "    tab += signe3(\" u(x) \", m, p) + \"\\n\"\n",
    "    tab += signe3(\" v(x) \", mm, pp) + \"\\n\"\n",
    "    tab += \" f(x) │     \" + signef + \"    0    \" + signef\n",
    "    \n",
    "    return tab\n",
    "    \n",
    "        \n",
    "def tableau_signes(m, p, mm, pp):\n",
    "    \"\"\"\n",
    "    Renvoie la chaîne de caractères contenant le tableau de signes de f(x) = (m x + p)(mm x + pp)\n",
    "    \"\"\"\n",
    "    # Valeur qui annule u(x) = m x + p\n",
    "    x0 =  -p / m\n",
    "    # Valeur qui annule V(x) = mm x + pp\n",
    "    x1 =  -pp / mm\n",
    "    \n",
    "    # Si les deux fonctions u et v s'annulent au meme endroit, non géré ici\n",
    "    if x0 == x1:\n",
    "        return tableau_cas_partic(m, p, mm, pp)\n",
    "    \n",
    "    # Échanger u et v, si v doit être affichée avant u\n",
    "    if x1 < x0:\n",
    "        m, p, mm, pp = mm, pp, m, p\n",
    "        x0, x1 = x1, x0\n",
    "    \n",
    "    # Construction de la chaîne à renvoyer\n",
    "    # Avant le tableau\n",
    "    tab  = \"Pour x0 = \" + str(x0) + \" et x1 = \" + str(x1) + \",\\n\"\n",
    "    tab += \" u(x) = \" + expression_affine(m, p) + \",\\n\"\n",
    "    tab += \" v(x) = \" + expression_affine(mm, pp) + \" et\\n\"\n",
    "    tab += \" f(x) = (\" + expression_affine(m, p) + \")(\" + expression_affine(mm, pp) + \"), \"\n",
    "    tab += \"on obtient\\n\\n\"\n",
    "    # Tableau\n",
    "    \n",
    "    return tab\n",
    "    \n",
    "    \n",
    "# Exemple\n",
    "print( tableau_signes(3, 2, -6, -4) )"
   ]
  },
  {
   "cell_type": "code",
   "execution_count": 12,
   "metadata": {},
   "outputs": [
    {
     "data": {
      "image/png": "[encoded data removed]",
      "text/plain": [
       "<Figure size 432x288 with 1 Axes>"
      ]
     },
     "metadata": {},
     "output_type": "display_data"
    }
   ],
   "source": [
    "trace(3, 2, -6, -4)"
   ]
  }
 ],
 "metadata": {
  "kernelspec": {
   "display_name": "Python 3",
   "language": "python",
   "name": "python3"
  },
  "language_info": {
   "codemirror_mode": {
    "name": "ipython",
    "version": 3
   },
   "file_extension": ".py",
   "mimetype": "text/x-python",
   "name": "python",
   "nbconvert_exporter": "python",
   "pygments_lexer": "ipython3",
   "version": "3.6.8"
  }
 },
 "nbformat": 4,
 "nbformat_minor": 2
}
