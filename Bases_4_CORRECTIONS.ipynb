{
 "cells": [
  {
   "cell_type": "markdown",
   "metadata": {},
   "source": [
    "# Bases en Python - (4°) Boucles\n",
    "Leur but est de gérer les répétitions d'instructions similaires. On les classe en deux catégories, **à retenir sans aucune hésitation**:\n",
    "\n",
    "- **Boucles bornées** (ou **«boucles \"pour...\"»**) quand le nombre de répétitions est connu dès l'entrée dans la première «boucle» (lors de la première **itération**). On utilise l'instruction `for` en Python comme dans pas mal de langage (*mais pas toujours avec la même syntaxe...*).\n",
    "- **Boucles non bornées** (ou **«boucles \"tant que...\"»**) dans le cas général. En Python notamment, on utilise le `while`.\n",
    "\n",
    "---\n",
    "## -I- Boucles bornées : avec `for`"
   ]
  },
  {
   "cell_type": "code",
   "execution_count": null,
   "metadata": {},
   "outputs": [],
   "source": [
    "###### EXEMPLES - SYNTHÈSE #####\n",
    "\n",
    "# Dans les exemples on utilise l'instruction `pass` qui ne fait rien (!)\n",
    "#  mais évite d'avoir une boucle vide et donc un message d'erreur...\n",
    "\n",
    "for i in range(4):          # 0, 1, 2, 3 (et pas 4) : 4 valeurs en tout\n",
    "    # Etc. instructions à répéter\n",
    "    #      pour chaque valeur de i\n",
    "    pass\n",
    "\n",
    "    \n",
    "for i in range(0, 4):       # Idem 0, 1, 2, 3 (et pas 4)\n",
    "    pass\n",
    "\n",
    "for i in range(1, 7):       # De 1 compris à 7 non compris : 1, 2, 3, 4, 5, 6\n",
    "    pass\n",
    "\n",
    "for i in range(1, 21, 5):   # De 5 en 5 : 1, 6, 11, 16 (et pas 21, non compris)\n",
    "    pass\n",
    "\n",
    "for i in range(1, 20, 5):   # Idem, on s'arrête à 16, \"juste avant d'atteindre ou dépasser 20\"\n",
    "    pass\n",
    "\n",
    "for recule in range(5, 2, -1):  # À reculons : 5, 4, 3 (et pas 2, exclu)\n",
    "    pass\n",
    "\n",
    "for step in range(10, 3):   # Boucle vide, aucune itération : dès la 1re valeur potentielle, on est trop grand !\n",
    "    print(\"Je ne m'afficherai pas :-( !!\")"
   ]
  },
  {
   "cell_type": "markdown",
   "metadata": {},
   "source": [
    "### Travaux Pratiques\n",
    "**⇒** Définis une fonction qui affiche la table de multiplication de l'entier `n` (de 1×n=... à 9×n=...).\n",
    "\n",
    "Puis utilise cette fonction pour faire afficher les tables de 2, puis 3, 4, etc. jusqu'à celle de 7, en évitant au maximum les répétitions d'instructions quasi-identiques (*habitude à conserver systématiquement en programmation*)."
   ]
  },
  {
   "cell_type": "code",
   "execution_count": null,
   "metadata": {},
   "outputs": [],
   "source": [
    "def ecrit_table(n):\n",
    "    \"\"\"Affiche la table de n, ligne par ligne, de 1×n à 9×n\n",
    "    \"\"\"\n",
    "    for i in range(1,10):\n",
    "        print(i, \"fois\", n, \"égale\", i*n)\n",
    "        # Ou avec les \"chaînes formattées\", des versions récentes de Python\n",
    "        #print(f\"{i} fois {n} égale {i*n}\")\n",
    "    # On ajoute l'affichage d'une ligne vide à la fin\n",
    "    print()\n",
    "    \n",
    "# Un exemple, pour vérifier, tu peux en essayer d'autres\n",
    "ecrit_table(5)"
   ]
  },
  {
   "cell_type": "code",
   "execution_count": null,
   "metadata": {},
   "outputs": [],
   "source": [
    "# ------------------------------------------------------ #\n",
    "# Il faut avoir exécuté la cellule précédente,           #\n",
    "#  pour que la fonction `ecrit_table(n)` soit définie !  #\n",
    "# ------------------------------------------------------ #\n",
    "\n",
    "# Et maintenant, affichage des tables de 2 à 7\n",
    "# (On pouvait aussi répondre sans utiliser de fonction, vu la consigne)\n",
    "def tables(de, a):\n",
    "    \"\"\"Affiche les tables de multiplications, depuis celle de `de` jusqu'à celle de `a`.\n",
    "    \"\"\"\n",
    "    # Si l'ordre est incorrect, on inverse les arguments\n",
    "    if a < de:\n",
    "        a, de = de, a\n",
    "    for nb in range(de, a+1):\n",
    "        ecrit_table(nb)\n",
    "    \n",
    "tables(2, 7)"
   ]
  },
  {
   "cell_type": "markdown",
   "metadata": {},
   "source": [
    "**⇒** Définis une fonction qui prend en argument un entier `n` positif et renvoie la somme des carrés des entiers de 0 à `n`.\n",
    "\n",
    "**Bonus**\n",
    "\n",
    "Une formule mathématique indique que cette somme vaut n(n+1)(2n+1)/6. On ne la démontrera pas ici, mais tu peux construire une fonction `verif_fle_somme_carres(maxi)` qui vérifie que la formule est juste (en comparant avec le résultat renvoyé par la fonction précédente), pour les entiers de 0 à `maxi` : elle renverra `True` si c'est le cas, ou `False` sinon."
   ]
  },
  {
   "cell_type": "code",
   "execution_count": null,
   "metadata": {},
   "outputs": [],
   "source": [
    "def somme_carres(n):\n",
    "    \"\"\"Renvoie la somme des carrés des entiers naturels de 0 à `n`\n",
    "    \n",
    "    On ne vérifie pas dans la fonction que `n` est un entier\n",
    "    \"\"\"\n",
    "    som_car = 0\n",
    "    for i in range(n+1):\n",
    "        som_car = som_car + i**2\n",
    "        \n",
    "    return som_car\n",
    "    \n",
    "# Exemple\n",
    "somme_carres(42)"
   ]
  },
  {
   "cell_type": "code",
   "execution_count": null,
   "metadata": {},
   "outputs": [],
   "source": [
    "# BONUS (il faut avoir exécuté la cellule précédente...)\n",
    "def verif_fle_somme_carres(maxi):\n",
    "    \"\"\"Renvoie `True` si la formule suivante est vraie pour tout n de 0 à `maxi`, ou `False` sinon.\n",
    "    \n",
    "    . Formule à vérifier: \"la somme des carrés de 0 à n est égale à n(n+1)(2n+1)/6\"\n",
    "    . L'argument `maxi` doit être entier, mais cette fonction ne le vérifie pas.\n",
    "    \"\"\"\n",
    "    reponse = True\n",
    "    for i in range(maxi+1):\n",
    "        # Cas où une erreur est détectée\n",
    "        if somme_carres(i) != i*(i+1)*(2*i+1)/6:\n",
    "            reponse = False\n",
    "            # Facultatif, mais évite de continuer à boucler si c'est faux:\n",
    "            #  `break` fait sortir prématurément de la boucle\n",
    "            break\n",
    "        # Dans le cas contraire, rien à faire, on passe à l'itération suivante\n",
    "        \n",
    "    return reponse\n",
    "    \n",
    "# Exemple\n",
    "verif_fle_somme_carres(1000)"
   ]
  },
  {
   "cell_type": "markdown",
   "metadata": {},
   "source": [
    "*En fait, la solution fournie manque de rigueur, elle pourrait échouer si `maxi` est un grand nombre (indépendemment de la durée nécessaire), vois-tu pourquoi ?*"
   ]
  },
  {
   "cell_type": "code",
   "execution_count": null,
   "metadata": {},
   "outputs": [],
   "source": [
    "# BONUS BIS : avec while, envisageable étant donné qu'on n'est \n",
    "#             pas sûr d'aller jusqu'au nombre `maxi`\n",
    "\n",
    "def verif_fle_somme_carres(maxi):\n",
    "    \"\"\"Renvoie `True` si la formule suivante est vraie pour tout n de 0 à `maxi`, ou `False` sinon.\n",
    "    \n",
    "    . Formule à vérifier: \"la somme des carrés de 0 à n est égale à n(n+1)(2n+1)/6\"\n",
    "    . L'argument `maxi` doit être entier, mais cette fonction ne le vérifie pas.\n",
    "    \"\"\"\n",
    "    reponse = True\n",
    "    i = 0\n",
    "    # On peut écrire `reponse` plutôt que `reponse == True` ou `reponse is True`, \n",
    "    #  puisque cette variable est booléenne et vaut donc déjà soit `True` soit `False`...\n",
    "    while i <= maxi and reponse:\n",
    "        if somme_carres(i) != i*(i+1)*(2*i+1)/6:\n",
    "            reponse = False\n",
    "        i = i + 1\n",
    "        \n",
    "    return reponse\n",
    "\n",
    "# Exemple\n",
    "verif_fle_somme_carres(1000)"
   ]
  },
  {
   "cell_type": "markdown",
   "metadata": {},
   "source": [
    "## -II- Boucles bornées : avec `while`\n",
    "\n",
    "### Travaux Pratiques\n",
    "\n",
    "***Jeu du «nombre mystère»***\n",
    "\n",
    "Le programme choisit un entier aléatoire de 1 à 100, puis le joueur propose des valeurs. \n",
    "\n",
    "Quand ce nombre est deviné, le programme affiche «gagné !» (*en bonus, tu pourras faire afficher en combien de tentatives*). Sinon, il affiche «C'est plus» ou «C'est moins» selon le cas.\n",
    "\n",
    "Ici, la boucle doit s'effectuer au moins une fois. On a fait le choix d'utiliser une variable booléenne `continuer` initialisée à `True`. Il faudra donc la basculer à `False` pour stopper les itérations quand le nombre est deviné."
   ]
  },
  {
   "cell_type": "code",
   "execution_count": null,
   "metadata": {},
   "outputs": [],
   "source": [
    "from random import randint\n",
    "\n",
    "# Avec `randint` du module `random`, les deux bornes sont \"comprises\", \n",
    "#  ne confonds pas avec `range()`...\n",
    "nb_mystere = randint(1, 100)\n",
    "\n",
    "continuer = True\n",
    "nb_tentatives = 0\n",
    "\n",
    "while continuer:\n",
    "    tentative = int(input(\"Ta valeur devinée = \"))\n",
    "    nb_tentatives += 1\n",
    "    \n",
    "    if tentative > nb_mystere:\n",
    "        print(\"C'est moins !\")\n",
    "    elif tentative < nb_mystere:\n",
    "        print(\"C'est plus !\")\n",
    "    # Seul cas restant : égalité\n",
    "    else:\n",
    "        print(\"GAGNÉ !\")\n",
    "        # On ne doit plus \"boucler\"\n",
    "        continuer = False\n",
    "    \n",
    "print(\"C'est terminé !\")"
   ]
  },
  {
   "cell_type": "markdown",
   "metadata": {},
   "source": [
    " ***Nombre moyen de lancers de deux dés pour obtenir un double 6, sur `n_essais` tentatives***"
   ]
  },
  {
   "cell_type": "code",
   "execution_count": null,
   "metadata": {},
   "outputs": [],
   "source": [
    "from random import randint\n",
    "\n",
    "def nb_lancers_pour_double_6():\n",
    "    \"\"\"Renvoie, sur une série simulée, le nombre de lancers nécessaires pour obtenir le double 6.\n",
    "    \"\"\"\n",
    "    de1 = randint(1,6)\n",
    "    de2 = randint(1,6)\n",
    "    nb_lancers = 1\n",
    "    while de1 != 6 or de2 !=6 : \n",
    "        de1 = randint(1,6)\n",
    "        de2 = randint(1,6)\n",
    "        nb_lancers += 1\n",
    "        \n",
    "    return nb_lancers\n",
    "    \n",
    "# Relance plusieurs fois pour constater l'aspect aléatoire du résultat en retour\n",
    "nb_lancers_pour_double_6()"
   ]
  },
  {
   "cell_type": "code",
   "execution_count": null,
   "metadata": {},
   "outputs": [],
   "source": [
    "def moy_double_six(n_essais):\n",
    "    \"\"\"Renvoie le nombre moyen de lancers de deux dés jusqu'à obtenir un double 6, sur `n_essais` essais.\n",
    "    \n",
    "    L'argument doit être un entier strictement positif, la fonction ne le vérifie pas.\n",
    "    \"\"\"\n",
    "    somme = 0\n",
    "    for num_serie in range(n_essais):\n",
    "        somme = somme + nb_lancers_pour_double_6()\n",
    "        \n",
    "    return somme / n_essais\n",
    "\n",
    "# Exemple : moyenne du nombre de lancers pour otenir le double 6, sur une simulation de 2000 séries.\n",
    "moy_double_six(2000)"
   ]
  }
 ],
 "metadata": {
  "kernelspec": {
   "display_name": "Python 3",
   "language": "python",
   "name": "python3"
  },
  "language_info": {
   "codemirror_mode": {
    "name": "ipython",
    "version": 3
   },
   "file_extension": ".py",
   "mimetype": "text/x-python",
   "name": "python",
   "nbconvert_exporter": "python",
   "pygments_lexer": "ipython3",
   "version": "3.6.8"
  }
 },
 "nbformat": 4,
 "nbformat_minor": 2
}
