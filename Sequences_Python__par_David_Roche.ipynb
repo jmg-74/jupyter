{
 "cells": [
  {
   "cell_type": "markdown",
   "metadata": {},
   "source": [
    ">**Ce document est sous licence Creative Common BY SA. \n",
    ">L'auteur du contenu est David Roche**, enseignant au lycée Guillaume Fichet de Bonneville, en Haute-Savoie [*cf.* https://pixees.fr/informatiquelycee/n_site/nsi_prem_pythonSequence.html].\n",
    ">\n",
    ">(*Retranscription en notebook Jupyter et modifications mineures par Jean-Marc Gervais, enseignant au lycée Jean Monnet d'Annemasse, en Haute-Savoie*).\n",
    "\n",
    "***\n",
    "**Note**: cliquer dans une «cellule» de code (`In[...]` indiqué à gauche) puis appuyer sur **[CTRL]+[ENTRÉE] permet d'exécuter** les instructions Python qui y sont inscrites. On peut modifier ou compléter ce code et re-exécuter le programme. \n",
    "\n",
    "Tant qu'on reste sur la page de ce *notebook* et qu'on n'a pas redémarré le *kernel*, les valeurs affectées aux variables sont conservées d'une cellule à l'autre.\n",
    "***\n",
    "\n",
    "# Les séquences en Python\n",
    "\n",
    "Il est possible de «stocker» plusieurs grandeurs dans une même structure, ce type de structure est appelé une **séquence**. De façon plus précise, nous définirons une séquence comme un ensemble fini et ordonné d'éléments indicés de $0$ à $n-1$ (si cette séquence comporte $n$ éléments).\n",
    "\n",
    "Rassurez-vous, nous reviendrons ci-dessous sur cette définition. Nous allons étudier plus particulièrement 2 types de séquences : les **tuples** et les **tableaux** (*il en existe d'autres que nous n'évoquerons pas ici*). \n",
    "\n",
    "## Les tuples en Python\n",
    "\n",
    "Comme déjà dit ci-dessus, un tuple est une séquence. Voici un exemple très simple :"
   ]
  },
  {
   "cell_type": "code",
   "execution_count": null,
   "metadata": {
    "collapsed": true
   },
   "outputs": [],
   "source": [
    "mon_tuple = (5, 8, 6, 9)"
   ]
  },
  {
   "cell_type": "markdown",
   "metadata": {},
   "source": [
    "Dans le code ci-dessus, la variable `mon_tuple` référence un tuple, ce tuple est constitué des entiers 5, 8, 6 et 9. Comme indiqué dans la définition, chaque élément du tuple est indicé (il possède un **indice**):\n",
    "- le premier élément du tuple (l'entier 5) possède l'indice 0\n",
    "- le deuxième élément du tuple (l'entier 8) possède l'indice 1\n",
    "- le troisième élément du tuple (l'entier 6) possède l'indice 2\n",
    "- le quatrième élément du tuple (l'entier 9) possède l'indice 3\n",
    "\n",
    "Comment accéder à l'élément d'indice $i$ dans un tuple ?\n",
    "\n",
    "Simplement en utilisant la «notation entre crochets» :\n",
    "\n",
    "### À faire vous-même 1\n",
    "Testez le code suivant (*tentez répondre aux questions qui suivent avant !*)"
   ]
  },
  {
   "cell_type": "code",
   "execution_count": null,
   "metadata": {
    "collapsed": true
   },
   "outputs": [],
   "source": [
    "mon_tuple = (5, 8, 6, 9)\n",
    "a = mon_tuple[2]"
   ]
  },
  {
   "cell_type": "markdown",
   "metadata": {},
   "source": [
    "Quelle est la valeur référencée par la variable `a` (saisir `a` sur dernière ligne puis appuyer sur [CTRL]+[ENTRÉE] *dans la cellule permet de vérifier*) ?\n",
    "\n",
    "La variable `mon_tuple` référence le tuple `(5, 8, 6, 9)`, \n",
    "la variable `a` référence l'entier 6 car cet entier 6 est bien le troisième élément du tuple, il possède donc l'indice 2\n",
    "\n",
    "**ATTENTION** : dans les séquences **les indices commencent toujours à 0** (le premier élément de la séquence a pour indice 0), oublier cette particularité est une source d'erreur «classique».\n",
    "    \n",
    "### À faire vous-même 2\n",
    "Complétez le code ci-dessous (en remplaçant les ..) afin qu'après l'exécution de ce programme la variable `a` référence l'entier 8."
   ]
  },
  {
   "cell_type": "code",
   "execution_count": null,
   "metadata": {
    "collapsed": true
   },
   "outputs": [],
   "source": [
    "mon_tuple = (5, 8, 6, 9)\n",
    "a = mon_tuple[..]"
   ]
  },
  {
   "cell_type": "markdown",
   "metadata": {},
   "source": [
    "Un tuple ne contient pas forcément des nombres entiers, il peut aussi contenir des nombres décimaux, des chaînes de caractères, des booléens...\n",
    "\n",
    "### À faire vous-même 3\n",
    "Quel est le résultat attendu après l'exécution du programme suivant ?\n",
    "Vérifiez votre hypothèse en testant ce programme."
   ]
  },
  {
   "cell_type": "code",
   "execution_count": null,
   "metadata": {
    "collapsed": true
   },
   "outputs": [],
   "source": [
    "mon_tuple = (\"le\", \"monde\", \"bonjour\")\n",
    "print(mon_tuple[2] + \" \" + mon_tuple[0] + \" \" + mon_tuple[1] + \"!\")"
   ]
  },
  {
   "cell_type": "markdown",
   "metadata": {},
   "source": [
    "Grâce au tuple, une fonction peut renvoyer plusieurs valeurs :\n",
    "\n",
    "### À faire vous-même 4\n",
    "Analysez puis testez le code suivant :"
   ]
  },
  {
   "cell_type": "code",
   "execution_count": null,
   "metadata": {
    "collapsed": true
   },
   "outputs": [],
   "source": [
    "def add(a, b):\n",
    "    c = a + b\n",
    "    return (a, b, c)\n",
    "mon_tuple = add(5, 8)\n",
    "print(f\"{mon_tuple[0]} + {mon_tuple[1]} = {mon_tuple[2]}\")"
   ]
  },
  {
   "cell_type": "markdown",
   "metadata": {},
   "source": [
    "Il faut bien comprendre dans l'exemple ci-dessus que la variable `mon_tuple` référence un tuple (puisque la fonction `add` renvoie un tuple), d'où la «notation entre crochets» utilisée avec `mon_tuple` (`mon_tuple[1]`...)\n",
    "\n",
    "La console permet d'afficher les éléments présents dans un tuple simplement (idem dans une cellule de *notebook* Jupyter, avec une saisie sur la dernière ligne de la cellule Python) :\n",
    "### À faire vous-même 5\n",
    "Après avoir exécuté le programme ci-dessous, saisissez `mon_tuple` dans la console."
   ]
  },
  {
   "cell_type": "code",
   "execution_count": null,
   "metadata": {
    "collapsed": true
   },
   "outputs": [],
   "source": [
    "# Affectation\n",
    "mon_tuple = (5, 8, 6, 9)\n",
    "\n",
    "# Affichage de la valeur de la variable, donc des éléments du tuple\n",
    "mon_tuple"
   ]
  },
  {
   "cell_type": "markdown",
   "metadata": {},
   "source": [
    "Il est possible d'assigner à des variables les valeurs contenues dans un tuple :\n",
    "### À faire vous-même 6"
   ]
  },
  {
   "cell_type": "code",
   "execution_count": null,
   "metadata": {
    "collapsed": true
   },
   "outputs": [],
   "source": [
    "a, b, c, d = (5, 8, 6, 9)"
   ]
  },
  {
   "cell_type": "markdown",
   "metadata": {},
   "source": [
    "Quelle est la valeur référencée par la variable `a` ? La variable `b` ? La variable `c` ? La variable `d` ? Vérifiez votre réponse en saisissant le nom de chaque variable à la fin de la cellule précédente, avant d'appuyer sur [CTRL]+[ENTRÉE].\n",
    "\n",
    "\n",
    "## Les tableaux en Python\n",
    "\n",
    "*ATTENTION* : Dans la suite nous allons employer le terme «**tableau**». Pour parler de ces «tableaux» les concepteurs de Python ont choisi d'utiliser le terme de «**list**» («liste» en français). Pour éviter toute confusion, notamment par rapport à des notions qui seront abordées en terminale, le choix a été fait d'employer «tableau» à la place de «liste» (dans la documentation vous rencontrerez le terme «list», cela ne devra pas vous pertuber)\n",
    "\n",
    "Il n'est **pas possible de modifier un tuple après sa création** (on parle d'**objet immutable**), si vous essayez de modifier un tuple existant, l'interpréteur Python vous renverra une erreur. **Les tableaux** sont, comme les tuples, des séquences, mais à la différence des tuples, ils **sont modifiables** (on parle d'**objets «mutables»**).\n",
    "\n",
    "Pour créer un tableau, il existe différentes méthodes : une de ces méthodes ressemble beaucoup à la création d'un tuple : "
   ]
  },
  {
   "cell_type": "code",
   "execution_count": null,
   "metadata": {
    "collapsed": true
   },
   "outputs": [],
   "source": [
    "mon_tab = [5, 8, 6, 9]"
   ]
  },
  {
   "cell_type": "markdown",
   "metadata": {},
   "source": [
    "Notez la présence des **crochets** à la place des parenthèses.\n",
    "\n",
    "Un tableau est une séquence, il est donc possible de «récupérer» un élément d'un tableau à l'aide de son indice (de la même manière que pour un tuple).\n",
    "\n",
    "## À faire vous-même 7\n",
    "\n",
    "Quelle est la valeur référencée par la variable `ma_variable` après l'exécution du programme ci-dessous ? (comme précédemment, saisir le nom de la variable puis appuyer sur [CTRL]+[ENTRÉE] permet de vérifier votre réponse)."
   ]
  },
  {
   "cell_type": "code",
   "execution_count": null,
   "metadata": {
    "collapsed": true
   },
   "outputs": [],
   "source": [
    "mon_tab = [5, 8, 6, 9]\n",
    "ma_variable = mon_tab[2]"
   ]
  },
  {
   "cell_type": "markdown",
   "metadata": {},
   "source": [
    "N.B. Il est possible de saisir directement `mon_tab[2]` dans la cellule sans passer par l'intermédiaire de la variable `ma_variable`.\n",
    "\n",
    "Il est possible de modifier un tableau à l'aide de la «notation entre crochets» :\n",
    "\n",
    "## À faire vous-même 8\n",
    "\n",
    "Quel est le contenu du tableau référencé par la variable `mon_tab` après l'exécution du programme ci-dessous ? (Vérification en exécutant la cellule comme précédemment)"
   ]
  },
  {
   "cell_type": "code",
   "execution_count": null,
   "metadata": {
    "collapsed": true
   },
   "outputs": [],
   "source": [
    "mon_tab = [5, 8, 6, 9]\n",
    "mon_tab[2] = 15"
   ]
  },
  {
   "cell_type": "markdown",
   "metadata": {},
   "source": [
    "Comme vous pouvez le constater avec l'exemple ci-dessus, l'élément d'indice 2 (le nombre entier 6) a bien été remplacé par le nombre entier 15.\n",
    "\n",
    "Il est aussi possible d'ajouter un élément en fin de tableau à l'aide de la **méthode `append`** :\n",
    "\n",
    "## À faire vous-même 9\n",
    "\n",
    "Quel est le contenu du tableau référencé par la variable `mon_tab` après l'exécution du programme ci-dessous ? (Vérification sur place comme précédemment, on ne le répètera plus...)"
   ]
  },
  {
   "cell_type": "code",
   "execution_count": null,
   "metadata": {
    "collapsed": true
   },
   "outputs": [],
   "source": [
    "mon_tab = [5, 8, 6, 9]\n",
    "mon_tab.append(15)"
   ]
  },
  {
   "cell_type": "markdown",
   "metadata": {},
   "source": [
    "L'**instruction `del`** permet de supprimer un élément d'un tableau en utilisant son index :\n",
    "\n",
    "## À faire vous-même 10\n",
    "Quel est le contenu du tableau référencé par la variable `mon_tab` après l'exécution du programme ci-dessous ?"
   ]
  },
  {
   "cell_type": "code",
   "execution_count": null,
   "metadata": {
    "collapsed": true
   },
   "outputs": [],
   "source": [
    "mon_tab = [5, 8, 6, 9]\n",
    "del mon_tab[1]"
   ]
  },
  {
   "cell_type": "markdown",
   "metadata": {},
   "source": [
    "La **fonction `len`** permet de connaitre le nombre d’éléments présents dans une séquence (tableau et tuple)\n",
    "\n",
    "## À faire vous-même 11\n",
    "Quelle est la valeur référencée par la variable `nb_len` après l'exécution du programme ci-dessous ?"
   ]
  },
  {
   "cell_type": "code",
   "execution_count": null,
   "metadata": {
    "collapsed": true
   },
   "outputs": [],
   "source": [
    "mon_tab = [5, 8, 6, 9]\n",
    "nb_ele = len(mon_tab)"
   ]
  },
  {
   "cell_type": "markdown",
   "metadata": {},
   "source": [
    "*Une petite parenthèse : on pourrait s'interroger sur l'intérêt d'utiliser un tuple puisque le tableau permet plus de choses ! La réponse est simple : les opérations sur les tuples sont plus «rapides». Quand vous savez que votre tableau ne sera pas modifié, il est préférable d'utiliser un tuple à la place d'un tableau.*\n",
    "\n",
    "## La boucle \"for\" : parcourir les éléments d'un tableau\n",
    "\n",
    "La boucle  `for... in...` permet de parcourir chacun des éléments d’une séquence (tableau ou tuple) :\n",
    "\n",
    "### À faire vous-même 12\n",
    "\n",
    "Analysez puis testez le code suivant :"
   ]
  },
  {
   "cell_type": "code",
   "execution_count": null,
   "metadata": {
    "collapsed": true
   },
   "outputs": [],
   "source": [
    "mon_tab = [5, 8, 6, 9]\n",
    "for element in mon_tab:\n",
    "    print(element)"
   ]
  },
  {
   "cell_type": "markdown",
   "metadata": {},
   "source": [
    "Quelques explications : comme son nom l'indique, la boucle `for` est une boucle ! Nous «sortirons» de la boucle une fois que tous les éléments du tableau mon_tab auront été parcourus. `element` est une variable qui va :\n",
    "- au premier tour de boucle, référencer le premier élément du tableau (l'entier 5)\n",
    "- au deuxième tour de boucle, référencer le deuxième élément du tableau (l'entier 8)\n",
    "- au troisième tour de boucle, référencer le troisième élément du tableau (l'entier 6)\n",
    "- au quatrième tour de boucle, référencer le quatrième élément de le tableau (l'entier 9)\n",
    "\n",
    "Une chose importante à bien comprendre : le choix du nom de la variable qui va référencer les éléments du tableau les uns après les autres (element) est totalement arbitraire, il est possible de choisir un autre nom sans aucun problème, le code suivant aurait donné exactement le même résultat : "
   ]
  },
  {
   "cell_type": "code",
   "execution_count": null,
   "metadata": {
    "collapsed": true
   },
   "outputs": [],
   "source": [
    "mon_tab = [5, 8, 6, 9]\n",
    "for toto in mon_tab:\n",
    "    print (toto)"
   ]
  },
  {
   "cell_type": "markdown",
   "metadata": {},
   "source": [
    "Dans la boucle `for... in...` il est possible d’utiliser la fonction prédéfinie `range` à la place d’un tableau d’entiers :\n",
    "\n",
    "### À faire vous-même 13\n",
    "\n",
    "Analysez puis testez le code suivant :"
   ]
  },
  {
   "cell_type": "code",
   "execution_count": null,
   "metadata": {
    "collapsed": true
   },
   "outputs": [],
   "source": [
    "for element in range(0, 5):\n",
    "    print (element)"
   ]
  },
  {
   "cell_type": "markdown",
   "metadata": {},
   "source": [
    "Comme vous pouvez le constater, `range(0,5)` est, au niveau de la boucle `for..in`, équivalent au tableau `[0,1,2,3,4]`. Le code ci-dessous donnerait le même résultat que le programme vu dans le «À faire vous-même 12» : "
   ]
  },
  {
   "cell_type": "code",
   "execution_count": null,
   "metadata": {
    "collapsed": true
   },
   "outputs": [],
   "source": [
    "mon_tab = [0, 1, 2, 3, 4]\n",
    "for element in mon_tab:\n",
    "    print (element)"
   ]
  },
  {
   "cell_type": "markdown",
   "metadata": {},
   "source": [
    "**ATTENTION** : si vous avez dans un programme `range(a,b)`, `a` est la borne inférieure et `b` a borne supérieure. Vous ne devez surtout pas perdre de vu que **la borne inférieure est incluse**, mais que **la borne supérieure est exclue**.\n",
    "\n",
    "Il est possible d'utiliser la méthode `range` pour `remplir` un tableau :\n",
    "\n",
    "### À faire vous-même 14\n",
    "\n",
    "Quel est le contenu du tableau référencé par la variable mon_tab après l'exécution du programme ci-dessous ?"
   ]
  },
  {
   "cell_type": "code",
   "execution_count": null,
   "metadata": {
    "collapsed": true
   },
   "outputs": [],
   "source": [
    "mon_tab = []\n",
    "for element in range(0, 5):\n",
    "    mon_tab.append(element)"
   ]
  },
  {
   "cell_type": "markdown",
   "metadata": {},
   "source": [
    "## Créer un tableau par compréhension\n",
    "\n",
    "Nous avons vu qu'il était possible de «remplir» un tableau en renseignant les éléments du tableau les uns après les autres : "
   ]
  },
  {
   "cell_type": "code",
   "execution_count": null,
   "metadata": {
    "collapsed": true
   },
   "outputs": [],
   "source": [
    "mon_tab = [5, 8, 6, 9]"
   ]
  },
  {
   "cell_type": "markdown",
   "metadata": {},
   "source": [
    "ou encore à l'aide de la méthode `append` (voir «À faire vous-même 13»).\n",
    "\n",
    "Il est aussi possible d'obtenir exactement le même résultat qu'au «À faire vous-même 13» en une seule ligne grâce à la compréhension de tableau :\n",
    "\n",
    "### À faire vous-même 15\n",
    "\n",
    "Quel est le contenu du tableau référencée par la variable mon_tab après l'exécution du programme ci-dessous ?"
   ]
  },
  {
   "cell_type": "code",
   "execution_count": null,
   "metadata": {
    "collapsed": true
   },
   "outputs": [],
   "source": [
    "mon_tab = [p for p in range(0, 5)]"
   ]
  },
  {
   "cell_type": "markdown",
   "metadata": {},
   "source": [
    "Les compréhensions de tableau permettent de rajouter une condition (`if`) :\n",
    "\n",
    "### À faire vous-même 16\n",
    "\n",
    "Quel est le contenu du tableau référencé par la variable mon_tab après l'exécution du programme ci-dessous ?"
   ]
  },
  {
   "cell_type": "code",
   "execution_count": null,
   "metadata": {
    "collapsed": true
   },
   "outputs": [],
   "source": [
    "l = [1, 7, 9, 15, 5, 20, 10, 8]\n",
    "mon_tab = [p for p in l if p > 10]"
   ]
  },
  {
   "cell_type": "markdown",
   "metadata": {},
   "source": [
    "Autre possibilité, utiliser des composants «arithmétiques» :\n",
    "### À faire vous-même 17\n",
    "Quel est le contenu du tableau référencé par la variable `mon_tab` après l'exécution du programme ci-dessous ?"
   ]
  },
  {
   "cell_type": "code",
   "execution_count": null,
   "metadata": {
    "collapsed": true
   },
   "outputs": [],
   "source": [
    "l = [1, 7, 9, 15, 5, 20, 10, 8]\n",
    "mon_tab = [p**2 for p in l if p < 10]"
   ]
  },
  {
   "cell_type": "markdown",
   "metadata": {},
   "source": [
    "Rappel : `p**2` permet d’obtenir la valeur de `p` élevée au carrée ($p^2$).\n",
    "\n",
    "Comme vous pouvez le remarquer, nous obtenons un tableau `mon_tab` qui contient tous les éléments du tableau `l` élevés au carré à condition que ces éléments de `l` soient inférieurs à 10. Comme vous pouvez le constater, la compréhension de tableau permet d'obtenir des combinaisons relativement complexes.\n",
    "\n",
    "## Travailler sur des \"tableaux de tableaux\"\n",
    "\n",
    "Chaque élément d'un tableau peut être un tableau, on parle de tableau de tableau.\n",
    "\n",
    "Voici un exemple de tableau de tableau : "
   ]
  },
  {
   "cell_type": "code",
   "execution_count": null,
   "metadata": {
    "collapsed": true
   },
   "outputs": [],
   "source": [
    "m = [[1, 3, 4], [5 ,6 ,8], [2, 1, 3], [7, 8, 15]]"
   ]
  },
  {
   "cell_type": "markdown",
   "metadata": {},
   "source": [
    "Le premier élément du tableau ci-dessus est bien un tableau (`[1, 3, 4]`), le deuxième élément est aussi un tableau (`[5, 6, 8]`)...\n",
    "\n",
    "Il est souvent plus pratique de présenter ces «tableaux de tableaux» comme suit :"
   ]
  },
  {
   "cell_type": "code",
   "execution_count": null,
   "metadata": {
    "collapsed": true
   },
   "outputs": [],
   "source": [
    "m = [[1, 3, 4],\n",
    "     [5, 6, 8],\n",
    "     [2, 1, 3],\n",
    "     [7, 8, 15]]"
   ]
  },
  {
   "cell_type": "markdown",
   "metadata": {},
   "source": [
    "Nous obtenons ainsi quelque chose qui ressemble beaucoup à un \"objet mathématique\" très utilisé : une **matrice**.\n",
    "\n",
    "Il est évidemment possible d'utiliser les indices de position avec ces «tableaux de tableaux». Pour cela nous allons considérer notre tableau de tableaux comme une matrice, c'est à dire en utilisant les notions de «ligne» et de «colonne». Dans la matrice ci-dessus :\n",
    "\n",
    "En ce qui concerne les lignes :\n",
    "- 1, 3, 4 constituent la première ligne\n",
    "- 5, 6, 8 constituent la deuxième ligne\n",
    "- 2, 1, 3 constituent la troisième ligne\n",
    "- 7, 8, 15 constituent la quatrième ligne\n",
    "En ce qui concerne les colonnes :\n",
    "- 1, 5, 2, 7 constituent la première colonne\n",
    "- 3, 6, 1, 8 constituent la deuxième colonne\n",
    "- 4, 8, 3, 15 constituent la troisième colonne\n",
    "\n",
    "Pour cibler un élément particulier de la matrice, on utilise la notation avec «doubles crochets» : **`m[ligne][colonne]`** (sans perdre de vu que **la première ligne et la première colonne ont pour indice 0**)\n",
    "\n",
    "### À faire vous-même 18\n",
    "\n",
    "Quelle est la valeur référencée par la variable `a` après l'exécution du programme ci-dessous ?"
   ]
  },
  {
   "cell_type": "code",
   "execution_count": null,
   "metadata": {
    "collapsed": true
   },
   "outputs": [],
   "source": [
    "m = [[1, 3, 4],\n",
    "     [5, 6, 8],\n",
    "     [2, 1, 3],\n",
    "     [7, 8, 15]]\n",
    "\n",
    "a = m[1][2]"
   ]
  },
  {
   "cell_type": "markdown",
   "metadata": {},
   "source": [
    "Comme vous pouvez le constater, la variable a référence bien l'entier situé à la 2e ligne (indice 1) et à la 3e colonne (indice 2), c'est-à-dire 8.\n",
    "\n",
    "### À faire vous-même 19\n",
    "Quel est le contenu du tableau référencé par la variable `mm` après l'exécution du programme ci-dessous (*si nécessaire, affichez d'abord la valeur de `mm` sans exécuter la dernière ligne, pour bien comprendre*) ?"
   ]
  },
  {
   "cell_type": "code",
   "execution_count": null,
   "metadata": {
    "collapsed": true
   },
   "outputs": [],
   "source": [
    "m = [1, 2, 3]\n",
    "mm = [m, m, m]\n",
    "m[0] = 100"
   ]
  },
  {
   "cell_type": "markdown",
   "metadata": {},
   "source": [
    "Comme vous pouvez le constater, **la modification du tableau référencé par la variable `m` entraine la modification du tableau référencé par la variable `mm`** (alors que nous n'avons pas directement modifié le tableau référencé par `mm`). Il faut donc être très prudent lors de ce genre de manipulation afin d'éviter des modifications non désirées.\n",
    "\n",
    "Il est possible de parcourir l'ensemble des éléments d'une matrice à l'aide d'une «double boucle `for`» :\n",
    "\n",
    "### À faire vous-même 20\n",
    "\n",
    "Analysez puis testez le code suivant :"
   ]
  },
  {
   "cell_type": "code",
   "execution_count": null,
   "metadata": {
    "collapsed": true
   },
   "outputs": [],
   "source": [
    "m = [[1, 3, 4],\n",
    "     [5, 6, 8],\n",
    "     [2, 1, 3],\n",
    "     [7, 8, 15]]\n",
    "\n",
    "nb_colonne = 3\n",
    "nb_ligne = 4\n",
    "\n",
    "for i in range(0, nb_ligne):\n",
    "    for j in range(0, nb_colonne):\n",
    "        a = m[i][j]\n",
    "        print(a)"
   ]
  }
 ],
 "metadata": {
  "kernelspec": {
   "display_name": "Python 3",
   "language": "python",
   "name": "python3"
  },
  "language_info": {
   "codemirror_mode": {
    "name": "ipython",
    "version": 3
   },
   "file_extension": ".py",
   "mimetype": "text/x-python",
   "name": "python",
   "nbconvert_exporter": "python",
   "pygments_lexer": "ipython3",
   "version": "3.6.8"
  }
 },
 "nbformat": 4,
 "nbformat_minor": 2
}
