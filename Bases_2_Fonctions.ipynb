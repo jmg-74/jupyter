{
 "cells": [
  {
   "cell_type": "markdown",
   "metadata": {},
   "source": [
    "# Bases en Python - (2°) Premiers points sur les fonctions\n",
    "Voici deux idées centrales en programmation: la **réutilisation** du travail déjà effectué sans «réinventer la roue» sans cesse (*sans forcément se soucier, une fois la validité du résultat vérifiée, de la manière dont ce travail est traité*) et le **découpage d'un problème en sous-tâches** plus simples (*approche descendante*). \n",
    "\n",
    "Les fonctions sont incontournables dans les deux cas.\n",
    "\n",
    "---\n",
    "## Vue d'ensemble\n",
    "### Concept\n",
    "On peut les voir comme des outils qu'on peut se fabriquer, s'échanger, ou comme des boîtes (qu'on ouvrira ou non selon son but) ou machines, qui\n",
    "- prennent *en entrée* des données, zéro, un ou plusieurs **arguments** (valeurs des **paramètres** de la fonction, c'est ainsi qu'on nomme les variables qui reçoivent ces ces valeurs ; on assimile souvent le deux termes par abus de langage)\n",
    "- effectuent si besoin un travail\n",
    "- **renvoient une valeur unique** (on dit aussi **retourner** une valeur) *en sortie*. *On nuancera cette unicité plus tard...*)\n",
    "\n",
    "### Étape 1 = définition\n",
    "Pour créer une fonction, on commence par la **définir** (on dit aussi la **déclarer**): on indique à Python ce qu'il devra faire, quand on lui demandera d'utiliser cette fonction. On utilise la syntaxe \n",
    "```python\n",
    "def ma_fonction(arg1, arg2):\n",
    "    # instruction 1,\n",
    "    # instruction 2, etc.\n",
    "    return le_resultat\n",
    "``` \n",
    "où \n",
    "- `ma_fonction` est le nom qu'on lui a choisi, **les parenthèses sont systématiques** même en l'absence d'argument et où `arg1`, `arg2` sont les noms choisis librement pour les paramètres, ici au nombre de deux. \n",
    "- La saisie des **`:`** finaux fait qu'au retour à la ligne, dans la plupart des éditeurs, l'écriture du code est indentée, décalée (en général de 4 espaces) vers la droite. Le **bloc d'instructions** mis en évidence par cette **indentation** est celui qui sera exécuté quand on invoquera la fonction (*quand on s'en servira*). \n",
    "- L'instruction `return` est suivie de la valeur à renvoyer. Elle mettra fin immédiatement à l'exécution de la fonction. \n",
    "\n",
    ">**Remarque** : certaines fonctions ne font qu'exécuter un travail, «sans renvoyer de valeur». Par exemple émettre un son, afficher un texte ou une image. Elles sont (étaient ?) parfois appelées des **procédures**. \n",
    "\n",
    ">En réalité, en Python, une fonction renvoie toujours une valeur, qui sera automatiquement `None` pour ces fonctions particulières : si la fin du bloc d'instructions est atteinte sans rencontrer l'instruction `return`, ou encore si l'on rencontre dans le code `return` seul (ou `return None`, ce qui est équivalent), cela provoque une sortie immédiate de la fonction et la valeur «vide» `None` sera renvoyée.\n",
    "\n",
    "> On utilise donc généralement ces fonctions sans utiliser leur valeur de retour. C'est ce qu'on a déjà fait en utilisant `print()` qui produit un affichage, mais «ne renvoie rien» (on n'a pas saisi : `ma_var = print(\"etc.\")`)\n",
    "\n",
    "À l'exécution du code Python, rien de visible ne se produit lors cette définition, mais le nom de la fonction créée a été relié en mémoire à une séquence d'instructions, ce qui la rend réutilisable par la suite.\n",
    "\n",
    "---\n",
    "**⇒** Exécute la cellule suivante, qui définit quelques fonctions. \n",
    "\n",
    "Complète la définition de la `somme_carres(a, b)` qui renvoie la somme des carrés des arguments (*supposés numériques, sans quoi il y aura une erreur, mais on ne s'en occupe pas ici*). On rappelle que le carré de `x` se note `x**2` (ou `x*x` bien sûr). Ensuite, exécute à nouveau le code de la cellule."
   ]
  },
  {
   "cell_type": "code",
   "execution_count": null,
   "metadata": {
    "collapsed": true
   },
   "outputs": [],
   "source": [
    "def somme_3_inverses(x, y, z):\n",
    "    # Aucun traitement des erreurs possibles pour l'instant, \n",
    "    #  par exemple la division par zéro, ou des arguments non numériques..\n",
    "    res = 1/x + 1/y + 1/z\n",
    "    return res\n",
    "\n",
    "def som_3_inv(x, y, z):\n",
    "    # Version plus compacte, équivalente\n",
    "    return 1/x + 1/y + 1/z\n",
    "\n",
    "def jourbon():\n",
    "    # Exemple sans argument, et «sans valeur de retour», certes peu utile !\n",
    "    print(\"Hello, world !\")\n",
    "\n",
    "def somme_carres(a, b):\n",
    "    # À toi de jouer : efface cette instruction qui \n",
    "    #  indique... de ne rien faire ! \n",
    "    #  (Mais qui évite une erreur, car sans elle le bloc \n",
    "    #  d'instructions attendu ne serait jamais trouvé)\n",
    "    #\n",
    "    # N'oublie pas le `return`\n",
    "    pass"
   ]
  },
  {
   "cell_type": "markdown",
   "metadata": {},
   "source": [
    "### Étape 2 = appel(s)\n",
    "Une fois définie, on peut **appeler** la fonction, c'est-à-dire demander qu'elle soit effectuée, avec des paramètres donnés.\n",
    "\n",
    "---\n",
    "**⇒** Vérifie par toi même :"
   ]
  },
  {
   "cell_type": "code",
   "execution_count": null,
   "metadata": {
    "collapsed": true
   },
   "outputs": [],
   "source": [
    "som_3_inv(1, 2, -5) + somme_carres(3, 4)"
   ]
  },
  {
   "cell_type": "markdown",
   "metadata": {},
   "source": [
    "### Imbrications\n",
    "On peut appeler une fonction dans le **corps** d'une autre, c'est-à-dire dans le bloc d'instructions qui la définit.\n",
    "\n",
    "On va le faire ici en utilisant \n",
    "- d'une part notre fonction `somme_carres()` et \n",
    "- d'autre part la fonction `sqrt()` du module `math` de Python. C'est dans ce module qu'est la définition de cette fonction, qu'on ignore ici : pour l'utiliser il nous suffit de connaître sa **signature**, à savoir qu'elle prend *un* argument numérique positif et qu'elle renvoie un flottant, qui sera une valeur approchée de sa racine carrée. _Un module est souvent essentiellement composé de définitions répondant à un besoin donné ; on pourra en construire soi-même, mais rien ne presse_...\n",
    "\n",
    "--- \n",
    "**⇒** Analyse ce petit exemple :"
   ]
  },
  {
   "cell_type": "code",
   "execution_count": null,
   "metadata": {
    "collapsed": true
   },
   "outputs": [],
   "source": [
    "from math import sqrt\n",
    "\n",
    "# 1°) Définition\n",
    "def norme_vect(x_vect, y_vect):\n",
    "    return sqrt(somme_carres(x_vect, y_vect))\n",
    "\n",
    "\n",
    "# 2°) Un appel : norme d'un vecteur du plan de coordonnées (3; -4)\n",
    "norme_vect(3, -4)"
   ]
  },
  {
   "cell_type": "markdown",
   "metadata": {},
   "source": [
    "## *Docstring* et aide intégrée\n",
    "### Importance de la lisibilité du code\n",
    "On doit **choisir un nom «parlant»** pour nos fonctions (et variables), ça facilite la relecture et donc le partage de code, le déboggage. Mais dès qu'une fonction n'est pas «évidente», il est bon d'ajouter une chaîne de caractère en tout début de définition, documentant cette fonction. \n",
    "\n",
    "Cette **_docstring_** est traditionnellement notée entre guillemets triples (**`\"\"\"`**) ce qui permet d'écrire directement le contenu avec des retours à la lignes qui seront pris en compte (sans quoi on devrait les insères à l'aide du «caractère» codé `\\n`) et de saisir sans problème les *simple* et *double quotes* (`'` et `\"`). \n",
    "\n",
    "Il est conseillé (voir [PEP 257](https://www.python.org/dev/peps/pep-0257/) de débuter par une courte description sur une ligne. Puis, si besoin, de compléter après un saut de ligne avec davantage de détails, expliquant par exemple le rôle des arguments. En reprenant l'exemple précédent, ce pourrait être, même si tant de détail paraît superflu ici:"
   ]
  },
  {
   "cell_type": "code",
   "execution_count": null,
   "metadata": {
    "collapsed": true
   },
   "outputs": [],
   "source": [
    "from math import sqrt   # Superflu si on l'a déjà fait avant\n",
    "\n",
    "def norme_vect(x_vect, y_vect):\n",
    "    \"\"\"Renvoie la norme du vecteur du plan de coordonnées (x_vect ; y_vect)\n",
    "    \n",
    "    On considère bien sûr que le repère est orthonormé et que \n",
    "     les arguments sont numériques (ce qui n'est pas vérifié par la fonction).\n",
    "    La valeur de retour est un flottant, souvent une valeur approchée, \n",
    "     donc on l'utilisera avec précaution dans des tests.\n",
    "    \"\"\"\n",
    "    return sqrt(somme_carres(x_vect, y_vect))"
   ]
  },
  {
   "cell_type": "markdown",
   "metadata": {},
   "source": [
    "L'intérêt est que toute personne qui dispose de cette fonction (à qui on a pu la fournir via un module par exemple) pourra se documenter dessus sans quitter son éditeur. On peut d'ailleurs le faire avec celles fournies par Python et c'est un bon réflexe à avoir, car on dispose ainsi d'une excellente source d'information !\n",
    "\n",
    "### `help()` et `?`\n",
    "\n",
    "--- \n",
    "**⇒** Observe le résultat sur ces cellules, sachant que **`help()`** est toujours disponible, contrairement au **`?`** (en principe réservé à l'interpréteur interactif IPython, notamment utilisé dans ce *notebook* Jupyter, mais pas disponible si votre *invite* de *shell* apparaît comme `>>>`):"
   ]
  },
  {
   "cell_type": "code",
   "execution_count": null,
   "metadata": {
    "collapsed": true
   },
   "outputs": [],
   "source": [
    "help(norme_vect)  # Noter l'utilisation du nom de la fonction sans ses parenthèses"
   ]
  },
  {
   "cell_type": "code",
   "execution_count": null,
   "metadata": {
    "collapsed": true
   },
   "outputs": [],
   "source": [
    "help(sqrt)  #  À importer avant si besoin"
   ]
  },
  {
   "cell_type": "code",
   "execution_count": null,
   "metadata": {
    "collapsed": true
   },
   "outputs": [],
   "source": [
    "# Même remarque. De plus, l'affichage est légèrement différent et pas forcément «à la suite»\n",
    "norme_vect?\n",
    "# Ou:  ?norme_vect"
   ]
  },
  {
   "cell_type": "markdown",
   "metadata": {},
   "source": [
    "### Exemple\n",
    "**⇒** À toi de jouer : complète la définition de la fonction pour qu'elle **renvoie** la chaîne de caractère \n",
    "```python\n",
    "\"Salut Geekos, bon boulot !\"\n",
    "```\n",
    "quand on lui donne en argument la chaîne `\"Geekos\"`.\n",
    "\n",
    "Et ajoute une petite *docstring*, que tu feras afficher à l'aide d'une des méthodes précédentes."
   ]
  },
  {
   "cell_type": "code",
   "execution_count": null,
   "metadata": {
    "collapsed": true
   },
   "outputs": [],
   "source": [
    "def felicitation(pseudo):\n",
    "    # À toi de jouer !\n",
    "    pass\n",
    "\n",
    "# On vérifie : comme pour une variable, dans un shell ou sur la dernière ligne \n",
    "#  exécutée dans une cellule de blocnote, la valeur de retour d'un appel de fonction\n",
    "#  est affichée si ça n'est pas `None`.\n",
    "\n",
    "pseudo4 = \"Geekos\"\n",
    "felicitation(pseudo4)\n",
    "\n",
    "# On aurait pu condenser en une seule étape avec \n",
    "#felicitation(\"Geekos\")"
   ]
  },
  {
   "cell_type": "markdown",
   "metadata": {},
   "source": [
    "## Quelques raffinements\n",
    "*Pour les plus rapides ou curieux, en attendant de tous passer à la partie suivante sur la «portée des variables»*\n",
    "### Arguments facultatifs\n",
    "À la suite des arguments classiques, on peut en indiquer d'autres lors de la déclaration, qui seront facultatifs et prendrons une valeur par défaut s'ils ne sont pas fournis.\n",
    "\n",
    "---\n",
    "**⇒** Code cette nouvelle fonction, qui renvoie une chaîne comme\n",
    "```python\n",
    "\"Salut Geekos, quelle aventure ! Ton score est de 57 et tu avais 3 adversaire(s).\"\n",
    "```\n",
    "si le premier argument `pseudo` vaut `\"Geekos\"`, si le second vaut `57` et le dernier `3`."
   ]
  },
  {
   "cell_type": "code",
   "execution_count": null,
   "metadata": {
    "collapsed": true
   },
   "outputs": [],
   "source": [
    "def msg_final(pseudo, score=0, nb_adversaires=1):\n",
    "    txt = \"Salut \"\n",
    "    # etc.\n",
    "    return txt\n",
    "\n",
    "# Test\n",
    "msg_final(\"Geekos\", 57, 3)\n",
    "# Ou, pour l'afficher sans ses guillemets \n",
    "#print(msg_final(\"Geekos\", 57, 3))"
   ]
  },
  {
   "cell_type": "markdown",
   "metadata": {},
   "source": [
    "Mais l'intérêt des valeurs après les signes `=` était qu'on aurait pu ne pas mentionner ces arguments (ou une partie d'entre eux, à condition de donner ceux qu'on fournit dans le bon ordre) :"
   ]
  },
  {
   "cell_type": "code",
   "execution_count": null,
   "metadata": {
    "collapsed": true
   },
   "outputs": [],
   "source": [
    "msg_final(\"Toi\", 42)"
   ]
  },
  {
   "cell_type": "code",
   "execution_count": null,
   "metadata": {
    "collapsed": true
   },
   "outputs": [],
   "source": [
    "msg_final(\"L4m3r\")"
   ]
  },
  {
   "cell_type": "markdown",
   "metadata": {},
   "source": [
    "Et on peut même ne pas tenir compte de l'ordre parmi les paramètres facultatifs, à condition de les nommer lors de l'appel :"
   ]
  },
  {
   "cell_type": "code",
   "execution_count": null,
   "metadata": {
    "collapsed": true
   },
   "outputs": [],
   "source": [
    "msg_final(\"Triple Buse\", nb_adversaires=2)"
   ]
  },
  {
   "cell_type": "markdown",
   "metadata": {},
   "source": [
    "### Création de ses propres modules\n",
    "Quand on a traité un problème donné, qui peut être une sous-tâche ciblée d'un ensemble plus conséquent, isoler le code correspondant permet de gagner en lisibilité et de mieux s'organiser. On regroupe alors ces définitions dans un module, qu'on aura plus qu'à importer au besoin.\n",
    "\n",
    "Il s'agit en fait d'un fichier python classique, qu'on peut déposer dans un répertoire atteint par le *path* Python (donné par une variable système spécifique créee à l'installation de Python) comme c'est le cas pour le module `math`. Pour ses propres projets, ou pour des modules moins polyvalents, on peut simplement déposer ce fichier dans le même dossier que celui du script qui doit l'importer. Ou pour mieux s'organiser dans un sous dossier en créant des paquets (*packages*), [c'est à peine plus compliqué](https://docs.python.org/fr/3/tutorial/modules.html)...\n",
    "\n",
    "En général, on insère à la fin du fichier module une partie qui sera exécutée seulement quand on appelle directement ce fichier comme n'importe quel programme (*c'est alors le programme principal et la variable `__name__` générée automatiquement par Python vaut `\"__main__\"`*), à des fins de tests ou de démonstration des possibilités:\n",
    "```python\n",
    "# Contenu de mon_module.py\n",
    "\n",
    "# Définitions diverses constituant le module\n",
    "def une_fonction():\n",
    "    #etc\n",
    "def une_autre(a, z):\n",
    "    #etc\n",
    "    \n",
    "UNE_CONSTANTE = 42\n",
    "\n",
    "# Partie à exécuter en cas d'appel direct\n",
    "#  à recopier tel quel pour l'instant, \n",
    "#  si besoin, on expliquera bientôt ce `if`\n",
    "if __name__ == \"__main__\":\n",
    "    print(\"Résultat pour une_fonction(7):\")\n",
    "    print(une_fonction(7))\n",
    "    # etc.\n",
    "```\n",
    "\n",
    "---\n",
    "**⇒** *Tu ne pourras pas travailer dans ce notebook pour cette partie*... \n",
    "\n",
    "Avec ton éditeur favori, crée un petit module `module0.py` contenant l'une des fonctions créées lors de ces travaux pratiques, ainsi qu'une partie qui s'exécute quand on l'appelle directement montrant un exemple d'utilisation de cette fonction. Appelle-le directement comme un fichier classique pour vérifier que tout est correct à ce stade.\n",
    "\n",
    "Ensuite, crée un fichier `programme_principal.py` dans le même dossier. Inscrit uniquement `import module0` dans le code et exécute-le, pour constater que rien d'apparent ne se passe. Tu peux quand même faire un appel à la fonction définie dans le module maintenant, vérifie-le. Pour terminer, ajoute des appels à cette fonction dans ce programme et relance-le."
   ]
  },
  {
   "cell_type": "markdown",
   "metadata": {},
   "source": [
    "### Affectation d'une fonction à une variable\n",
    "Cela peut paraître étrange au premier abord. Mais on distinguera \n",
    "- l'appel de la fonction, notée avec ses parenthèses comme `msg_final(\"ZeBest\", 123)`\n",
    "- la désignation de cette fonction son nom sans les parenthèses, comme `msg_final`, qu'on peut considérer comme une variable «de type fonction» (**_function_**)."
   ]
  },
  {
   "cell_type": "code",
   "execution_count": null,
   "metadata": {
    "collapsed": true
   },
   "outputs": [],
   "source": [
    "type(msg_final)\n",
    "\n",
    "# Essaie aussi avec\n",
    "#type(print)"
   ]
  },
  {
   "cell_type": "markdown",
   "metadata": {},
   "source": [
    "Du coup, on peut la fournir en argument à une autre fonction !"
   ]
  },
  {
   "cell_type": "code",
   "execution_count": null,
   "metadata": {
    "collapsed": true
   },
   "outputs": [],
   "source": [
    "def f_affine(x):\n",
    "    return 2*x + 3\n",
    "\n",
    "def inv(x):\n",
    "    return 1/x\n",
    "\n",
    "def somme_3_images(x1, x2, x3, fonction):\n",
    "    return fonction(x1) + fonction(x2) + fonction(x3)a\n",
    "\n",
    "# Tests\n",
    "a, b, c = 1, 2, 3\n",
    "print(\"Avec f_affine et 1, 2, 3:\", somme_3_images(a, b, c, f_affine))\n",
    "print(\"Avec inv et 1, 2, 3:\", somme_3_images(a, b, c, inv))\n",
    "# On peut même fournir une fonction «anonyme» avec la syntaxe `lambda x:image_de_x`\n",
    "print(\"Avec la fonction carré et 1, 2, 3:\", somme_3_images(a, b, c, lambda x:x**2))"
   ]
  },
  {
   "cell_type": "markdown",
   "metadata": {},
   "source": [
    "--- \n",
    "**⇒** Calcule à l'aide de `somme_3_images()` la somme des cubes de 1, 2 et 3 (*dans la cellule ci-dessus par exemple*), d'abord en définissant une fonction `cube(x)`, puis en utilisant une fonction lambda."
   ]
  },
  {
   "cell_type": "markdown",
   "metadata": {},
   "source": [
    "## Portée des variables\n",
    "On aborde ici **l'un des points les plus sensibles**, il est indispensable de prendre le temps de bien comprendre et pour cela, une fois de plus, d'expérimenter dans tous les sens...\n",
    "\n",
    "### Variable globale ou locale\n",
    "Quand une variable est «créée» lors de sa première affectation, Python mémorise le lien entre le nom qu'on lui a donné et la valeur, autrement dit l'emplacement qu'il a choisi en mémoire vive ainsi que le type de la variable, qui indique la façon de coder cette valeur en mémoire. Cette valeur peut être modifiée par la suite (*et même le type de la variable, en Python, même si ça n'est pas forcément une bonne pratique*). La variable est alors dite **globale**, elle est visible dans tout le programme.\n",
    "\n",
    "Quand une variable est créée dans le corps d'une fonction, ou qu'il s'agit d'un de ses arguments, c'est différent. Python considère que la **portée** de cette variable se limite à l'appel de cette fonction : après exécution, la variable a disparu ! On dit qu'elle est **locale** à la fonction. \n",
    "\n",
    "Cela permet d'utiliser des noms de variables dans le corps des fonctions sans craindre qu'une variable de même nom existant déjà en dehors en soit modifiée à tort. En effet, \n",
    "- par défaut, seules les variables définies dans le corps d'une fonction ou étant un des paramètres sont modifiables par cette fonction.\n",
    "- en cas d'homonymie lors de sa définition (*une variable locale et une variable globale définie hors fonction ont le même nom*), la fonction considère que l'on parle de *sa* variable locale.\n",
    "\n",
    "---\n",
    "**⇒** Analyse le code suivant en détail, devine ce qui va s'afficher, avant de l'exécuter pour vérifier que tu as compris."
   ]
  },
  {
   "cell_type": "code",
   "execution_count": null,
   "metadata": {
    "collapsed": true
   },
   "outputs": [],
   "source": [
    "# Deux variables globales\n",
    "p = 1.618\n",
    "x = 1\n",
    "\n",
    "def ma_fonc(x):\n",
    "    # Impossible à ce stade d'exécuter  `p = p + 1`\n",
    "    #  car cela signifierait modifier la variable p globale\n",
    "    # Essaie de décommenter la ligne suivante pour voir ce qui se passe\n",
    "    #p = p + 1\n",
    "    \n",
    "    # L'affectation suivante crée une variable `p` locale :\n",
    "    #  il ne s'agit pas d'une modification, mais une affectation directe\n",
    "    p = 566\n",
    "    \n",
    "    # On peut donc ensuite modifier cette variable locale\n",
    "    \n",
    "    # Et `x` désigne ici le paramètre de la fonction, une variable\n",
    "    # variable locale (et non la variable globale définie en dehors)\n",
    "    # il peut donc être modifié localement.\n",
    "    x = x * 10\n",
    "    p = x + p\n",
    "    print(f\". En fin d'exécution de la fonction, les variables locales sont p={p} et x={x}\")\n",
    "    return p\n",
    "\n",
    "print(f\". Avant exécution, les variables globales valent p={p} et x={x}\")\n",
    "# Appel avec le paramètre valant 10 :\n",
    "print(f\". Valeur de retour de la fonction, pour l'appel avec l'argument x={10} : {ma_fonc(10)}\")\n",
    "print(f\". Après exécution, les variables globales valent p={p} et x={x}\")\n",
    "print(\"  et les autres n'existent plus !\")\n",
    "\n",
    "print()  # provoque un saut de ligne\n",
    "print(f\". Avant exécution, les variables globales valent p={p} et x={x}\")\n",
    "# Appel avec le paramètre valant... la valeur de la variable globale x, soit 1\n",
    "#  *** Voir la remarque ci-dessous ***\n",
    "print(f\". Valeur de retour de la fonction, pour l'appel `ma_fonc(x)` avec l'argument x={x} : {ma_fonc(x)}\")\n",
    "print(f\". Après exécution, les variables globales valent p={p} et x={x}\")"
   ]
  },
  {
   "cell_type": "markdown",
   "metadata": {},
   "source": [
    ">**Remarque importante**: on dit que les arguments sont **passés par valeur** à la fonction. Cela signifie que la fonction recopie d'abord cette valeur et l'attribue à sa variable locale qui sert de paramètre, avant de s'exécuter. C'est pourquoi lors du dernier appel ci-dessus, la variable globale `x` n'est pas modifiée.\n",
    "\n",
    "> Certains langages permettent un **passage par référence** : on indique que la variable fournie transmet non pas sa *valeur*, mais *l'endroit où y accéder en mémoire* et le type associé. Ainsi, une variable globale pourra être modifiée dans le corps de la fonction. (*Ça ressemble à ce qui se passe avec d'autres types de variables qu'on rencontrera ultérieurement, en Python !*)\n",
    "\n",
    "Python permet, à condition de le déclarer explicitement avec le mot-clé `global` au début du corps d'une fonction, de considérer qu'on désigne une variable globale et donc modifiable par la fonction.\n",
    "\n",
    "De même, une variable globale peut être lue (pas modifiée) par une fonction sans utiliser `global`, si le corps de cette fonction ne contient pas de variable homonyme. \n",
    "\n",
    "Ce sont des **pratiques qu'on déconseille** le plus souvent, car cela conduit facilement à des bogues, parfois difficiles à identifier, et nuit à la réutilisation du code.\n",
    "\n",
    "---\n",
    "**⇒** Constate que le code suivant est incorrect. Puis ajoute la ligne `global score` au début de la déclaration de la fonction, pour corriger le problème."
   ]
  },
  {
   "cell_type": "code",
   "execution_count": null,
   "metadata": {
    "collapsed": true
   },
   "outputs": [],
   "source": [
    "def modifie_score(ajout):\n",
    "    # Pour l'instant, ça coince : à corriger ici !\n",
    "    # Regarde le message d'erreur : on ne peut pas référencer `score`,\n",
    "    #  c'est-à-dire utiliser ce nom de variable, avant de lui avoir\n",
    "    #  affecté (assigné) une valeur pour la définir.\n",
    "    score = score + ajout\n",
    "    # (pas de valeur de retour ici)\n",
    "    \n",
    "score = 0\n",
    "print(f\"Au départ, score = {score}\")\n",
    "modifie_score(10)\n",
    "print(f\"Après ajout, score = {score}\")"
   ]
  },
  {
   "cell_type": "markdown",
   "metadata": {},
   "source": [
    "Dans l'exemple précédent, une meilleure pratique aurait été d'utiliser une fonction qui renvoie une valeur, qu'on réaffecte à la variable à modfiier : "
   ]
  },
  {
   "cell_type": "code",
   "execution_count": null,
   "metadata": {
    "collapsed": true
   },
   "outputs": [],
   "source": [
    "def nouveau_score(score_initial, ajout):\n",
    "    # Aucune variable globale n'est affectée\n",
    "    return score_initial + ajout\n",
    "    \n",
    "score = 0\n",
    "print(f\"Au départ, score = {score}\")\n",
    "score = nouveau_score(score, 10)\n",
    "print(f\"Après ajout, score = {score}\")"
   ]
  }
 ],
 "metadata": {
  "kernelspec": {
   "display_name": "Python 3",
   "language": "python",
   "name": "python3"
  },
  "language_info": {
   "codemirror_mode": {
    "name": "ipython",
    "version": 3
   },
   "file_extension": ".py",
   "mimetype": "text/x-python",
   "name": "python",
   "nbconvert_exporter": "python",
   "pygments_lexer": "ipython3",
   "version": "3.6.8"
  }
 },
 "nbformat": 4,
 "nbformat_minor": 2
}
