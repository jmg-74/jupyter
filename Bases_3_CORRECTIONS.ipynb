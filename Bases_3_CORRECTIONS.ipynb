{
 "cells": [
  {
   "cell_type": "markdown",
   "metadata": {},
   "source": [
    "# Bases en Python - (3°) Instructions conditionnelles\n",
    "\n",
    "C'est souvent assez simple, il n'y avait donc pas d'exemples basique à construire... On montre donc rapidement l'utilisation de l'opérateur ternaire, puis l'essentiel est un bilan du TP sur le 421, qui mérite d'être étudié : *avais-tu pensé à toutes ces approches ? En as-tu inventé d'autres ?*\n",
    "\n",
    "### Exemple avec l'opérateur ternaire\n",
    "\n",
    "Pour mettre un `s` au pluriel, quand c'est nécessaire"
   ]
  },
  {
   "cell_type": "code",
   "execution_count": null,
   "metadata": {
    "collapsed": true
   },
   "outputs": [],
   "source": [
    "# Vérifie avec différentes valeurs pour `score`\n",
    "score = 0\n",
    "pluriel = \"s\" if score > 1 else \"\"\n",
    "msg = f\"Tu as {score} point\" + pluriel\n",
    "\n",
    "msg"
   ]
  },
  {
   "cell_type": "markdown",
   "metadata": {},
   "source": [
    "### Travaux pratiques : le 421\n",
    "Tu devais une fonction qu'on notera `bingo421(a, b, c)`, qui prend en arguments les valeurs de chacun des trois entiers (trois dés dans le jeu du 421), et qui renvoie `True` dans le cas où l'on a obtenu un «421» c'est-à-dire un 4, un 2 et un 1 dans un ordre quelconque, et `False` sinon. \n",
    "\n",
    "Par exemple `bingo421(1, 4, 2)` renvoie `True`, mais `bingo421(4, 2, 2)` ou `bingo421(5, 4, 6)` renvoient `False`.\n",
    "\n",
    "> **Rappel** si besoin : on évite d'écrirer des lignes trop longues en Python. \n",
    "\n",
    "> Mais si l'une d'elles peut difficilement être raccourcie, on peut revenir à la ligne sans que l'interpréteur Python ne le prenne en compte, en «échappant» le caractère de retour. Il suffit pour cela de terminer la ligne par un `\\` C'est ce qu'on fait dans la première solution. \n",
    "\n",
    "> On aurait aussi pu ouvrir juste après le `if` une parenthèse. Ensuite, Python accepte qu'on revienne à la ligne puisqu'il peut analyser qu'on n'a pas refermé la parenthèse et donc pas terminé l'expression..."
   ]
  },
  {
   "cell_type": "code",
   "execution_count": null,
   "metadata": {
    "collapsed": true
   },
   "outputs": [],
   "source": [
    "# Version 1, explicite mais très \"lourde\", répétitive...\n",
    "\n",
    "def bingo421(a, b, c):\n",
    "    \"\"\"Renvoie `True` si les trois valeurs sont composées d'un 4, d'un 2 et d'un 1 et `False` sinon\n",
    "    \n",
    "    L'ordre des valeurs n'a pas d'importance. \n",
    "    La fonction suppose que ces nombres sont des entiers de 1 à 6, mais ne le vérifie pas.\n",
    "    \"\"\"\n",
    "    if (a==4 and b==2 and c==1) or (a==4 and b==1 and c==2) \\\n",
    "    or (a==2 and b==4 and c==1) or (a==2 and b==1 and c==4) \\\n",
    "    or (a==1 and b==4 and c==2) or (a==1 and b==2 and c==4):\n",
    "        return True\n",
    "    else:\n",
    "        return False\n",
    "    \n",
    "# Test:        \n",
    "bingo421(1, 2, 4)"
   ]
  },
  {
   "cell_type": "code",
   "execution_count": null,
   "metadata": {
    "collapsed": true
   },
   "outputs": [],
   "source": [
    "# Version 1 bis, idem, mais avec la parenthèse qui englobe les conditions, \n",
    "#                      au lieu du `\\`\n",
    "\n",
    "# Pour alléger, on n'inclut plus la docstring à partir de cette variante...\n",
    "\n",
    "def bingo421(a, b, c):\n",
    "    \"\"\"Renvoie `True` si les trois valeurs sont composées d'un 4, d'un 2 et d'un 1 et `False` sinon\n",
    "    \n",
    "    L'ordre des valeurs n'a pas d'importance. \n",
    "    La fonction suppose que ces nombres sont des entiers de 1 à 6, mais ne le vérifie pas.\n",
    "    \"\"\"\n",
    "    if ((a==4 and b==2 and c==1) or (a==4 and b==1 and c==2)\n",
    "        or (a==2 and b==4 and c==1) or (a==2 and b==1 and c==4)\n",
    "        or (a==1 and b==4 and c==2) or (a==1 and b==2 and c==4) ):\n",
    "            return True\n",
    "    else:\n",
    "            return False"
   ]
  },
  {
   "cell_type": "code",
   "execution_count": null,
   "metadata": {
    "collapsed": true
   },
   "outputs": [],
   "source": [
    "# Version 1 ter, similaire, mais où l'on renvoie directement la valeur booléenne du test\n",
    "\n",
    "def bingo421(a, b, c):\n",
    "    return (a==4 and b==2 and c==1) or (a==4 and b==1 and c==2) \\\n",
    "             or (a==2 and b==4 and c==1) or (a==2 and b==1 and c==4) \\\n",
    "             or (a==1 and b==4 and c==2) or (a==1 and b==2 and c==4)"
   ]
  },
  {
   "cell_type": "code",
   "execution_count": null,
   "metadata": {
    "collapsed": true
   },
   "outputs": [],
   "source": [
    "# Version 2, avec tests imbriqués, toujours \"lourde\"...\n",
    "\n",
    "# L'un des inconvénients est que l'on n'est pas facilement certain\n",
    "#  d'avoir une valeur de retour dans tous les cas.\n",
    "\n",
    "def bingo421(a, b, c):\n",
    "    if a == 4:\n",
    "        if b == 2: \n",
    "            if c == 1:\n",
    "                return True\n",
    "            else: \n",
    "                return False\n",
    "        elif b == 1:\n",
    "            if c == 2:\n",
    "                return True\n",
    "            else:\n",
    "                return False\n",
    "        else:\n",
    "            return False\n",
    "    elif a == 2:\n",
    "        if b == 4: \n",
    "            if c == 1:\n",
    "                return True\n",
    "            else: \n",
    "                return False\n",
    "        elif b == 1:\n",
    "            if c == 4:\n",
    "                return True\n",
    "            else:\n",
    "                return False\n",
    "        else:\n",
    "            return False\n",
    "    elif a == 1:\n",
    "        if b == 2: \n",
    "            if c == 4:\n",
    "                return True\n",
    "            else: \n",
    "                return False\n",
    "        elif b == 4:\n",
    "            if c == 2:\n",
    "                return True\n",
    "            else:\n",
    "                return False\n",
    "        else:\n",
    "            return False\n",
    "    else:\n",
    "        return False    "
   ]
  },
  {
   "cell_type": "code",
   "execution_count": null,
   "metadata": {
    "collapsed": true
   },
   "outputs": [],
   "source": [
    "# Version 2 bis : on évite certains `else`,\n",
    "#  sachant que `return` fait sortir immédiatement de la fonction\n",
    "\n",
    "def bingo421(a, b, c):\n",
    "    if a == 4:\n",
    "        if b == 2: \n",
    "            if c == 1:\n",
    "                return True\n",
    "            return False\n",
    "        elif b == 1:\n",
    "            if c == 2:\n",
    "                return True\n",
    "            return False\n",
    "        return False\n",
    "    elif a == 2:\n",
    "        if b == 4: \n",
    "            if c == 1:\n",
    "                return True\n",
    "            return False\n",
    "        elif b == 1:\n",
    "            if c == 4:\n",
    "                return True\n",
    "            return False\n",
    "        return False\n",
    "    elif a == 1:\n",
    "        if b == 2: \n",
    "            if c == 4:\n",
    "                return True\n",
    "            return False\n",
    "        elif b == 4:\n",
    "            if c == 2:\n",
    "                return True\n",
    "            return False\n",
    "        return False\n",
    "    return False    "
   ]
  },
  {
   "cell_type": "code",
   "execution_count": null,
   "metadata": {
    "collapsed": true
   },
   "outputs": [],
   "source": [
    "# Version 2 ter : ici, on regroupe même tous les cas pour `False` à la fin\n",
    "\n",
    "def bingo421(a, b, c):\n",
    "    if a == 4:\n",
    "        if b == 2: \n",
    "            if c == 1:\n",
    "                return True\n",
    "        elif b == 1:\n",
    "            if c == 2:\n",
    "                return True\n",
    "    elif a == 2:\n",
    "        if b == 4: \n",
    "            if c == 1:\n",
    "                return True\n",
    "        elif b == 1:\n",
    "            if c == 4:\n",
    "                return True\n",
    "    elif a == 1:\n",
    "        if b == 2: \n",
    "            if c == 4:\n",
    "                return True\n",
    "        elif b == 4:\n",
    "            if c == 2:\n",
    "                return True\n",
    "    # Tous les cas pour `True` étant traités, \n",
    "    #  si l'on arrive ici, c'est `False`\n",
    "    return False "
   ]
  },
  {
   "cell_type": "code",
   "execution_count": null,
   "metadata": {
    "collapsed": true
   },
   "outputs": [],
   "source": [
    "# Version 3, en ordonnant d'abord les valeurs à tester\n",
    "\n",
    "def bingo421(a, b, c):\n",
    "    # On range a, b, c dans l'ordre décroissant\n",
    "    if a < b:\n",
    "        a, b = b, a\n",
    "    if b < c:\n",
    "        b, c = c, b\n",
    "    if a < b:\n",
    "        a, b = b, a\n",
    "        \n",
    "    # Du coup, un seul cas est `True`\n",
    "    return a == 4 and b == 2 and c == 1"
   ]
  },
  {
   "cell_type": "code",
   "execution_count": null,
   "metadata": {
    "collapsed": true
   },
   "outputs": [],
   "source": [
    "# Version 4, en comptant le nombre de 4, de 2, de 1 sur les dés tirés\n",
    "\n",
    "# On travaillera plus facilement une fois qu'on connaîtra les tableaux, les boucles...\n",
    "\n",
    "def bingo421(a, b, c):\n",
    "    for i in range(1,5):\n",
    "        # On saute la valeur 3, qui n'est pas à tester\n",
    "        #  pour cette valeur, on passe immédiatement à \n",
    "        #  la boucle suivante.\n",
    "        # On pouvait aussi insérer la suite dans un bloc \n",
    "        #  `if i!= 3:`...\n",
    "        if i == 3:\n",
    "            continue\n",
    "            \n",
    "        nb_de_i = 0\n",
    "        if a == i:\n",
    "            nb_de_i += 1\n",
    "        if b == i:\n",
    "            nb_de_i += 1\n",
    "        if c == i:\n",
    "            nb_de_i += 1\n",
    "        # Perdu, si l'une valeur 1, 2, 4 est répétée ou pas présente\n",
    "        if nb_de_i != 1:\n",
    "            return False\n",
    "        \n",
    "    # Si on arrive ici, les valeurs 1, 2 et 4 sont présentes une unique fois\n",
    "    return True        "
   ]
  },
  {
   "cell_type": "code",
   "execution_count": null,
   "metadata": {
    "collapsed": true
   },
   "outputs": [],
   "source": [
    "# Version 5 (+ variantes) : en étudiant les sommes et/ou produits associés au \"421\"\n",
    "\n",
    "def bingo421(a, b, c):\n",
    "    return (a + b + c == 7) and (a * b * c == 8)\n",
    "    # ou au choix\n",
    "    return (a * b * c == 8) and not (a == b and b == c)\n",
    "    return (a * b * c == 8) and (a != b or b != c)\n",
    "    return (a * b * c == 8) and not (a == b == c)\n",
    "\n",
    "# On voit, sur la dernière possibilité envisagée, \n",
    "#  que Python permet de tester plusieurs égalités\n",
    "#  \"enchaînées\". Idem pour des encadrements comme\n",
    "#                  0 < n < 10  \n",
    "#  (alors que dans pas mal d'autres langages, il \n",
    "#  faudrait écrire [et on peut le faire en Python]\n",
    "#              0 < n  and  n < 10  \n",
    "#  ou quelque chose de similaire)"
   ]
  },
  {
   "cell_type": "code",
   "execution_count": null,
   "metadata": {
    "collapsed": true
   },
   "outputs": [],
   "source": [
    "# Version 6 : en remarquant que le seul cas gagnant est quand\n",
    "#             la somme des carrés des valeurs vaut 21 !\n",
    "# (Ultra compact, mais du coup, ça mériterait une démonstration mathématique...)\n",
    "\n",
    "def bingo421(a, b, c):\n",
    "    return a**2 + b**2 + c**2 == 21"
   ]
  }
 ],
 "metadata": {
  "kernelspec": {
   "display_name": "Python 3",
   "language": "python",
   "name": "python3"
  },
  "language_info": {
   "codemirror_mode": {
    "name": "ipython",
    "version": 3
   },
   "file_extension": ".py",
   "mimetype": "text/x-python",
   "name": "python",
   "nbconvert_exporter": "python",
   "pygments_lexer": "ipython3",
   "version": "3.6.8"
  }
 },
 "nbformat": 4,
 "nbformat_minor": 2
}
