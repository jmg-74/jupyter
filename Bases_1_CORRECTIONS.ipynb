{
 "cells": [
  {
   "cell_type": "markdown",
   "metadata": {},
   "source": [
    "# Bases en Python - (1°) Les variables"
   ]
  },
  {
   "cell_type": "markdown",
   "metadata": {},
   "source": [
    "## Transtypage (conversion, *casting*)\n",
    "### On ne peut pas concaténer directement des chaînes avec des variables numériques."
   ]
  },
  {
   "cell_type": "code",
   "execution_count": null,
   "metadata": {},
   "outputs": [],
   "source": [
    "x = 42\n",
    "# La ligne suivante comportait une erreur :\n",
    "#  l'opérateur `+` n'est pas défini entre une chaîne et un nombre (entier ici)\n",
    "#texte = \"x vaut \" + x\n",
    "\n",
    "# On convertit donc l'entier en chaîne (string) avant la concaténation avec `+`\n",
    "texte = \"x vaut \" + str(x)\n",
    "\n",
    "# Python considère bien que `texte` est une chaîne\n",
    "texte"
   ]
  },
  {
   "cell_type": "markdown",
   "metadata": {},
   "source": [
    "Dans ses versions récentes, Python propose une alternative bien pratique avec les *fstrings* (*formatted strings*). *Pour en savoir plus, voir par exemple sur [le site de Pascal Ortiz](http://pascal.ortiz.free.fr/contents/python/chaines_formatees/index.html)*.\n",
    "\n",
    "L'exemple précédent se traiterait donc également ainsi :"
   ]
  },
  {
   "cell_type": "code",
   "execution_count": null,
   "metadata": {},
   "outputs": [],
   "source": [
    "x = 42\n",
    "texte =f\"x vaut {x}\"\n",
    "texte"
   ]
  },
  {
   "cell_type": "markdown",
   "metadata": {},
   "source": [
    "### Booléens et autres types\n",
    "On constante que `True` est automatiquement traduit en `1`, `False` en `0`, quand on le combine avec des entiers.\n",
    "\n",
    "Inversement, les nombres `0` ou `0.0`, la chaîne vide `\"\"`, sont considérés comme valant `False` (et les autres nombres ou chaînes comme `True`), si on les utilise dans un test attendant un booléen."
   ]
  },
  {
   "cell_type": "code",
   "execution_count": null,
   "metadata": {},
   "outputs": [],
   "source": [
    "# Exemples un peu «tordu», pour comprendre ce qui se cache \n",
    "#  derrière True et False...\n",
    "mon_booleen = True\n",
    "print(2 + mon_booleen)\n",
    "\n",
    "mon_booleen = False\n",
    "print(2 + mon_booleen)\n",
    "\n",
    "nbre = 0  # Teste avec d'autres nombres\n",
    "if nbre:\n",
    "    print(f\"Le nombre {nbre} est considéré comme `True`\")\n",
    "else:\n",
    "    print(f\"Le nombre {nbre} est considéré comme `False`\")\n",
    "    \n",
    "txt = \"\"  # Teste avec d'autres chaînes de caractères\n",
    "if txt:\n",
    "    print(f\"La chaîne «{txt}» est considérée comme `True`\")\n",
    "else:\n",
    "    print(f\"La chaîne «{txt}» est considérée comme `False`\")\n",
    "    "
   ]
  }
 ],
 "metadata": {
  "kernelspec": {
   "display_name": "Python 3",
   "language": "python",
   "name": "python3"
  },
  "language_info": {
   "codemirror_mode": {
    "name": "ipython",
    "version": 3
   },
   "file_extension": ".py",
   "mimetype": "text/x-python",
   "name": "python",
   "nbconvert_exporter": "python",
   "pygments_lexer": "ipython3",
   "version": "3.6.8"
  }
 },
 "nbformat": 4,
 "nbformat_minor": 2
}
