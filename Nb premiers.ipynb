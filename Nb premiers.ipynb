{
 "cells": [
  {
   "cell_type": "markdown",
   "metadata": {
    "nbgrader": {
     "grade": false,
     "grade_id": "cell-407fb52fc8501888",
     "locked": true,
     "schema_version": 1,
     "solution": false
    }
   },
   "source": [
    "## Exercice 1\n",
    "Ecrire une fonction **isPrime** qui teste si un nombre entier est premier"
   ]
  },
  {
   "cell_type": "code",
   "execution_count": 2,
   "metadata": {
    "nbgrader": {
     "grade": false,
     "grade_id": "cell-4e9946f987db9773",
     "locked": false,
     "schema_version": 1,
     "solution": true
    }
   },
   "outputs": [],
   "source": [
    "from math import sqrt\n",
    "def isPrime(n):\n",
    "    ### BEGIN SOLUTION\n",
    "    if n==2 or n==3:\n",
    "        return True\n",
    "    if n%2 == 0 or n<=1:\n",
    "        return False\n",
    "    d=3\n",
    "    while n%d!=0 and d <= sqrt(n):\n",
    "        d+=2\n",
    "    return n%d!=0\n",
    "    ### END SOLUTION"
   ]
  },
  {
   "cell_type": "markdown",
   "metadata": {},
   "source": [
    "Vérifications : La cellule ci-dessous doit s'exécuter sans erreur"
   ]
  },
  {
   "cell_type": "code",
   "execution_count": 4,
   "metadata": {
    "nbgrader": {
     "grade": true,
     "grade_id": "cell-a7acd19af3fad18b",
     "locked": true,
     "points": 2,
     "schema_version": 1,
     "solution": false
    }
   },
   "outputs": [],
   "source": [
    "assert isPrime(5) == True\n",
    "assert isPrime(9) == False\n",
    "### BEGIN HIDDEN TESTS\n",
    "assert isPrime(0) == False\n",
    "assert isPrime(1) == False\n",
    "assert isPrime(2) == True\n",
    "assert isPrime(3) == True\n",
    "### END HIDDEN TESTS"
   ]
  },
  {
   "cell_type": "markdown",
   "metadata": {
    "nbgrader": {
     "grade": false,
     "grade_id": "cell-3cb48dcef387073d",
     "locked": true,
     "schema_version": 1,
     "solution": false
    }
   },
   "source": [
    "## Exercice 2\n",
    "\n",
    "En utilisant la fonction précédente, écrire une fonction **nbPrimesBetween**\n",
    "- prenant en paramètres deux nombres $a$ et $b$\n",
    "- renvoyant le nombre de nombres premiers entre $a$ et $b$"
   ]
  },
  {
   "cell_type": "code",
   "execution_count": 9,
   "metadata": {
    "nbgrader": {
     "grade": false,
     "grade_id": "cell-9571a0f46c204c37",
     "locked": false,
     "schema_version": 1,
     "solution": true
    }
   },
   "outputs": [],
   "source": [
    "def nbPrimesBetween(a,b):\n",
    "    ### BEGIN SOLUTION\n",
    "    return len([i for i in range(a, b+1) if isPrime(i)])\n",
    "    ### END SOLUTION"
   ]
  },
  {
   "cell_type": "markdown",
   "metadata": {
    "nbgrader": {
     "grade": false,
     "grade_id": "cell-b35d7da5b0a7e787",
     "locked": true,
     "schema_version": 1,
     "solution": false
    }
   },
   "source": [
    "Vérifications : La cellule ci-dessous doit s'exécuter sans erreur"
   ]
  },
  {
   "cell_type": "code",
   "execution_count": 16,
   "metadata": {
    "nbgrader": {
     "grade": true,
     "grade_id": "cell-3dfa0207efa01593",
     "locked": true,
     "points": 0,
     "schema_version": 1,
     "solution": false
    }
   },
   "outputs": [],
   "source": [
    "assert nbPrimesBetween(100,1000) == 143\n",
    "### BEGIN HIDDEN TESTS\n",
    "assert nbPrimesBetween(0,100) == 25\n",
    "assert nbPrimesBetween(1000,100000) == 9424\n",
    "### END HIDDEN TESTS"
   ]
  }
 ],
 "metadata": {
  "celltoolbar": "Create Assignment",
  "kernelspec": {
   "display_name": "Python 3",
   "language": "python",
   "name": "python3"
  },
  "language_info": {
   "codemirror_mode": {
    "name": "ipython",
    "version": 3
   },
   "file_extension": ".py",
   "mimetype": "text/x-python",
   "name": "python",
   "nbconvert_exporter": "python",
   "pygments_lexer": "ipython3",
   "version": "3.6.7"
  }
 },
 "nbformat": 4,
 "nbformat_minor": 2
}
