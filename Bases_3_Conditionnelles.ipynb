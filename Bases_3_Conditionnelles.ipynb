{
 "cells": [
  {
   "cell_type": "markdown",
   "metadata": {},
   "source": [
    "# Bases en Python - (3°) Instructions conditionnelles\n",
    "Les instructions écrites les unes sous les autres sont exécutées dans l'ordre, on parle de **séquences** d'instructions, d'exécution séquentielle.\n",
    "\n",
    "On travaille ici avec les structures dites **conditionnelles**, qui traduisent les `SI... ALORS...` et autres variantes des algorithmes.\n",
    "\n",
    "## `SI... ALORS...`\n",
    "- Le «si» est traduit par `if` suivi d'une expression booléenne et enfin des **`:`**\n",
    "- Le «alors» est sous-entendu et le bloc d'instructions à exécuter quand l'expression est `True` est délimité par l'indentation\n",
    "- Que ce bloc indenté soit exécuté ou non, l'exécution continue ensuite juste après ce bloc.\n",
    "\n",
    "---\n",
    "**⇒** Devine ce qui va s'afficher et vérifie en exécutant la cellule suivante. Recommence en modifiant les valeurs des variables pour obtenir des résultats différents.\n",
    "> **Rappel** : on utilise **`==`**, `!=`, `<=`, `>=`,`<`, `>` pour comparer des nombres"
   ]
  },
  {
   "cell_type": "code",
   "execution_count": null,
   "metadata": {
    "collapsed": true
   },
   "outputs": [],
   "source": [
    "a = 3\n",
    "b = 2\n",
    "win = (b > a)  # Parenthèses facultatives\n",
    "\n",
    "# Utilisation d'expressions booléennes\n",
    "if a == 3:\n",
    "    print(\"-------------\")\n",
    "    print(\"a vaut bien 3\")\n",
    "    print(\"-------------\")\n",
    "if a <= b:\n",
    "    print(\"OK !\")\n",
    "\n",
    "# Utilisation d'une variable booléenne pour le test    \n",
    "if win:\n",
    "    print(\"C'est gagné !\")\n",
    "print(\"FINI !!\")"
   ]
  },
  {
   "cell_type": "markdown",
   "metadata": {},
   "source": [
    "On peut **imbriquer des instructions conditionnelles** (*en coder une dans un bloc d'instruction d'une autre instruction conditionnelle*) en cumulant les imbrications :"
   ]
  },
  {
   "cell_type": "code",
   "execution_count": null,
   "metadata": {
    "collapsed": true
   },
   "outputs": [],
   "source": [
    "# Teste aussi avec -2 ou 0...\n",
    "x = 123\n",
    "\n",
    "if x >= 0:\n",
    "    txt = f\"{x} est positif.\"\n",
    "    if x != 0:\n",
    "        txt = txt + \" Il est même strictement positif !\"\n",
    "    txt += \" Il n'est donc pas strictement négatif...\"\n",
    "\n",
    "# Verdict    \n",
    "txt"
   ]
  },
  {
   "cell_type": "markdown",
   "metadata": {},
   "source": [
    "## `SI... ALORS... ; SINON...`\n",
    "On ajoute un bloc qui est exécuté dans le cas où l'expression booléenne est fausse, là où il ne se passait rien avec la structure précédente:"
   ]
  },
  {
   "cell_type": "code",
   "execution_count": null,
   "metadata": {
    "collapsed": true
   },
   "outputs": [],
   "source": [
    "# Idem, teste avec 0 ou un nombre strictement négatif\n",
    "x = 123\n",
    "\n",
    "if x >= 0:\n",
    "    signe = \"positif\"\n",
    "else:\n",
    "    signe = \"négatif\"\n",
    "\n",
    "# Vérification\n",
    "signe"
   ]
  },
  {
   "cell_type": "markdown",
   "metadata": {},
   "source": [
    "## `SI... ALORS... ; SINON, SI... ALORS... ; SINON...`\n",
    "On ajoute diverses possiblités. Dès qu'un bloc est exécuté, on sort de l'ensemble. Le dernier `else` est facultatif, il vient toujours à la fin. \n",
    "\n",
    "L'instruction `elif` vient de la contraction de *else* et *if*. On peut avoir plusieurs `elif ... :` successifs. *Il n'y a pas d'instructions de type `switch / case` en Python, pour ceux qui viennent d'autres langages*..."
   ]
  },
  {
   "cell_type": "code",
   "execution_count": null,
   "metadata": {
    "collapsed": true
   },
   "outputs": [],
   "source": [
    "x = 123\n",
    "\n",
    "if x > 0:\n",
    "    signe = \"strictement positif\"\n",
    "# Avec `elif`, il faut une valeur booléenne comme après `if`\n",
    "elif x == 0:\n",
    "    signe = \"nul\"\n",
    "# Pas de test avec else (concerne tous les cas autres que ceux déjà traités)\n",
    "else:\n",
    "    signe = \"strictement négatif\"\n",
    "\n",
    "# Vérification\n",
    "signe"
   ]
  },
  {
   "cell_type": "markdown",
   "metadata": {},
   "source": [
    "## Opérateur conditionnel ternaire\n",
    "Il peut s'utiliser pour résumer une affectation avec 2 alternatives, qu'on peut schématiser par `SI ... ALORS VAUT ... ; SINON VAUT ...` \n",
    "\n",
    "À réserver aux expressions courtes, en évitant les imbrications, pour rester lisible."
   ]
  },
  {
   "cell_type": "code",
   "execution_count": null,
   "metadata": {
    "collapsed": true
   },
   "outputs": [],
   "source": [
    "x = 123 \n",
    "signe = \"positif\" if x >= 0 else \"strictement négatif\"\n",
    "\n",
    "# Validation\n",
    "signe"
   ]
  },
  {
   "cell_type": "markdown",
   "metadata": {},
   "source": [
    "---\n",
    "**⇒** Utilise cette structure pour que `point` prenne un `s` quand le score est supérieur à 1 :"
   ]
  },
  {
   "cell_type": "code",
   "execution_count": null,
   "metadata": {
    "collapsed": true
   },
   "outputs": [],
   "source": [
    "score = 1\n",
    "pluriel = \"s\" # À modifier !\n",
    "msg = f\"Tu as {score} point\" + pluriel\n",
    "\n",
    "msg"
   ]
  },
  {
   "cell_type": "markdown",
   "metadata": {},
   "source": [
    "## `and`, `or`, `not` et parenthèses dans les expressions booléennes\n",
    "### Notion d'évaluation paresseuse (*lazy evaluation*)\n",
    "L'idée est que l'évaluation d'une expression booléenne se fait de gauche à droite et s'arrête dès qu'on connaît la réponse:\n",
    "- `A and B` est forcément `False` si l'on sait que `A` est `False`.\n",
    "- `A or B` est forcément `True` si l'on sait que `A` est `True`.\n",
    "Dans les deux cas précédents, `B` ne sera pas évalué !\n",
    "\n",
    ">On rappelle que Python est un langage **interprété** : le code est lu et exécuté au fur et à mesure. \n",
    "\n",
    ">D'autres comme C++ sont **compilés**: l'ensemble du code source est d'abord traduit en langage machine (c'est la *compilation*) compréhensible par l'ordinateur (*voire une machine virtuelle, c'est-à-dire un programme qui lira un langage très primaire spécifique, comme dans le cas de Java*). Le résulat est un **fichier exécutable** (*comme les `.exe` sous Windows*), qu'on peut lancer sur le type de machines pour lequel il était prévu. \n",
    "\n",
    "Application : le premier test peut éviter un cas d'erreur dans l'évaluation du second, simplifiant ainsi le traitement par des instructions conditionnelles. \n",
    "\n",
    "---\n",
    "**⇒** Analyse le code suivant et teste-le avec différentes valeurs de `x` dont 0.1 et 0 :"
   ]
  },
  {
   "cell_type": "code",
   "execution_count": null,
   "metadata": {
    "collapsed": true
   },
   "outputs": [],
   "source": [
    "x = 10\n",
    "y = 2\n",
    "\n",
    "# On cherche à répondre à la question «`y` est supérieur à l'inverse de `x` ?»\n",
    "# (dans le cas où `x` vaut 0, la réponse est NON car l'inverse de `x` n'existe pas)\n",
    "\n",
    "# Pas d'erreur si `x` vaut 0, car la deuxième partie après `and` ne sera pas évaluée\n",
    "if x != 0 and y > 1/x:\n",
    "    res = True\n",
    "else:\n",
    "    res = False\n",
    "    \n",
    "# Ou encore\n",
    "#res = True if (x != 0 and y > 1/x) else False\n",
    "\n",
    "# Ou le plus simple\n",
    "res = (x != 0 and y > 1/x)\n",
    "    \n",
    "res"
   ]
  },
  {
   "cell_type": "markdown",
   "metadata": {},
   "source": [
    "### Travaux pratiques\n",
    "Tu travailles dans une équipe, donc le but est de programmer un jeu de 421 (*tirage simultané de trois dé cubiques «classiques» dans le but d'avoir un «421», à savoir un 4, un 2, un 1, sans tenir compte de l'ordre*). \n",
    "\n",
    "--- \n",
    "**⇒** Pour cela, la tâche qui t'es confiée consiste à définir une fonction qu'on notera `bingo421(a, b, c)`, qui prend en arguments les valeurs de chacun des trois dés, et qui renvoie `True` dans le cas où l'on a obtenu un «421» et `False` sinon. \n",
    "\n",
    "Par exemple `bingo421(1, 4, 2)` renvoie `True`, mais `bingo421(4, 2, 2)` ou `bingo421(5, 4, 6)` renvoient `False`.\n",
    "\n",
    "Tu peux proposer plusieurs versions avant de désigner celle qui te paraît la meilleure (en terme de lisiblité du code, de facilité à être vérifié, de nombre de calculs, par exemple).\n",
    "\n",
    "> **Astuce** si besoin : on évite d'écrirer des lignes trop longues en Python. \n",
    "\n",
    "> Mais si l'une d'elles peut difficilement être raccourcie, on peut revenir à la ligne sans que l'interpréteur Python ne le prenne en compte, en «échappant» le caractère de retour. Il suffit pour cela de terminer la ligne par un `\\`"
   ]
  },
  {
   "cell_type": "code",
   "execution_count": null,
   "metadata": {
    "collapsed": true
   },
   "outputs": [],
   "source": [
    "def bingo421(a, b, c):\n",
    "    \"\"\"Renvoie `True` si les trois valeurs sont composées d'un 4, d'un 2 et d'un 1 et `False` sinon\n",
    "    \n",
    "    L'ordre des valeurs n'a pas d'importance. \n",
    "    La fonction suppose que ces nombres sont des entiers de 1 à 6, mais ne le vérifie pas.\n",
    "    \"\"\"\n",
    "    # À toi de jouer !"
   ]
  }
 ],
 "metadata": {
  "kernelspec": {
   "display_name": "Python 3",
   "language": "python",
   "name": "python3"
  },
  "language_info": {
   "codemirror_mode": {
    "name": "ipython",
    "version": 3
   },
   "file_extension": ".py",
   "mimetype": "text/x-python",
   "name": "python",
   "nbconvert_exporter": "python",
   "pygments_lexer": "ipython3",
   "version": "3.6.8"
  }
 },
 "nbformat": 4,
 "nbformat_minor": 2
}
