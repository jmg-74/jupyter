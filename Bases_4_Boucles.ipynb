{
 "cells": [
  {
   "cell_type": "markdown",
   "metadata": {},
   "source": [
    "# Bases en Python - (4°) Boucles\n",
    "Leur but est de gérer les répétitions d'instructions similaires. On les classe en deux catégories, **à retenir sans aucune hésitation**:\n",
    "\n",
    "- **Boucles bornées** (ou **«boucles \"pour...\"»**) quand le nombre de répétitions est connu dès l'entrée dans la première «boucle» (lors de la première **itération**). On utilise l'instruction `for` en Python comme dans pas mal de langage (*mais pas toujours avec la même syntaxe...*).\n",
    "- **Boucles non bornées** (ou **«boucles \"tant que...\"»**) dans le cas général. En Python notamment, on utilise le `while`.\n",
    "\n",
    "---\n",
    "## -I- Boucles bornées : avec `for`\n",
    "Le `for` du Python permettra de parcourir des objets dits **itérables** de différents types, sur lesquels nous reviendrons. Pour l'instant, concentrons-nous sur les intervalles d'entiers naturels, renvoyés par `range()`.\n",
    "\n",
    "### Parcours des *n* premiers entiers (autrement dit de 0 à *n*-1)"
   ]
  },
  {
   "cell_type": "code",
   "execution_count": null,
   "metadata": {
    "collapsed": true
   },
   "outputs": [],
   "source": [
    "#On se contente ici d'afficher les valeurs entières parcourues par la variable `i`\n",
    "\n",
    "# VERSION DE range() À UN ARGUMENT\n",
    "# Attention : 4 premiers naturels, donc de 0 à 3 (et pas 4 !)\n",
    "for i in range(4):\n",
    "    print(\"Boucle numéro\", i)  # ou :   print(f\"Boucle numéro {i}\")\n",
    "    \n",
    "print(\"  Ou, idem :\")\n",
    "\n",
    "# VERSION DE range() À 2 ARGUMENTS (juste avant, le 0 était sous-entendu)\n",
    "for i in range(0, 4):\n",
    "    print(f\"Boucle numéro {i}\")"
   ]
  },
  {
   "cell_type": "markdown",
   "metadata": {},
   "source": [
    "### Parcours des entiers de *n* à *m*"
   ]
  },
  {
   "cell_type": "code",
   "execution_count": null,
   "metadata": {
    "collapsed": true
   },
   "outputs": [],
   "source": [
    "# ATTENTION, (pour rester cohérent avec l'exemple précédent)\n",
    "#  le premier argument donne la première valeur prise,\n",
    "#  mais le second donne la première valeur à exclure, \n",
    "#  celle qui une fois atteinte ou dépassée fait sortir de la boucle\n",
    "\n",
    "# EX. DE 2 COMPRIS À 5 NON COMPRIS, donc DE 2 À 4\n",
    "for i in range(2, 5):\n",
    "    print(f\"Boucle numéro {i}\")"
   ]
  },
  {
   "cell_type": "markdown",
   "metadata": {},
   "source": [
    "On peut même compter de 3 en 3, ou à reculons («de -1 en -1» par exemple), à voir sur les exemples suivants.\n",
    "\n",
    "Au final, **ON RETIENT**:\n",
    "- Structure:  **`for variable in range(a, b)`** [*ou avec* `range(b)`, *voire* `range(a, b, pas)`]\n",
    "\n",
    "\n",
    "- Pour `range(a, b, pas)` ou ses variantes:\n",
    "  - **premier argument**:  **valeur de départ** (*sous-entendu et vaut 0 quand un seul argument est donné*)\n",
    "  - **deuxième argument** (ou argument unique): **valeur «de sortie», non atteinte**. Le `range()` termine l'énumération juste avant d'atteindre ou dépasser cette valeur. \n",
    "  - **troisième argument** (*facultatif*, vaut 1 par défaut): **le pas**, augmentation de la variable à chaque étape."
   ]
  },
  {
   "cell_type": "code",
   "execution_count": null,
   "metadata": {
    "collapsed": true
   },
   "outputs": [],
   "source": [
    "somme = 0\n",
    "\n",
    "# VERSION DE range() À 3 ARGUMENTS\n",
    "for i in range(6, 3, -1):\n",
    "    print(\"On compte à reculons...\")\n",
    "    print(f\" Boucle numéro {i}\")\n",
    "    somme = somme + i\n",
    "    \n",
    "print(f\"La somme des valeurs énumérées vaut {somme}\")"
   ]
  },
  {
   "cell_type": "markdown",
   "metadata": {},
   "source": [
    "**Note**\n",
    "\n",
    "L'intervalle peut être vide, sans qu'il n'y ait de message d'erreur. Simplement, la boucle ne sera pas effectuée. Voici un exemple pour s'en rendre compte:\n",
    "\n",
    "---\n",
    "**⇒** Modifie les valeurs de `a`, `b` et `c`, devine ce qui va s'afficher et vérifie-le, jusqu'à bien comprendre le fonctionnement de l'itérable `range()`."
   ]
  },
  {
   "cell_type": "code",
   "execution_count": null,
   "metadata": {
    "collapsed": true
   },
   "outputs": [],
   "source": [
    "a, b, pas = 6, 3, 1\n",
    "\n",
    "for i in range(a, b, pas):\n",
    "    print(f\"Boucle numéro {i}\")\n",
    "\n",
    "print(\"Terminé !\")"
   ]
  },
  {
   "cell_type": "markdown",
   "metadata": {},
   "source": [
    "### Travaux Pratiques\n",
    "**⇒** Définis une fonction qui affiche la table de multiplication de l'entier `n` (de 1×n=... à 9×n=...).\n",
    "\n",
    "Puis utilise cette fonction pour faire afficher les tables de 2, puis 3, 4, etc. jusqu'à celle de 7, en évitant au maximum les répétitions d'instructions quasi-identiques (*habitude à conserver systématiquement en programmation*)."
   ]
  },
  {
   "cell_type": "code",
   "execution_count": null,
   "metadata": {
    "collapsed": true
   },
   "outputs": [],
   "source": [
    "def ecrit_table(n):\n",
    "    \"\"\"Affiche la table de n, ligne par ligne, de 1×n à 9×n\n",
    "    \"\"\"\n",
    "    # [TODO] À TOI DE COMPLÉTER !\n",
    "\n",
    "# Un exemple, pour vérifier, tu peux en essayer d'autres\n",
    "ecrit_table(5)\n",
    "\n",
    "# Et maintenant, affichage des tables de 2 à 7\n",
    "# [TODO] À TOI DE COMPLÉTER !"
   ]
  },
  {
   "cell_type": "markdown",
   "metadata": {},
   "source": [
    "**⇒** Définis une fonction qui prend en argument un entier `n` positif et renvoie la somme des carrés des entiers de 0 à `n`.\n",
    "\n",
    "**Bonus**\n",
    "\n",
    "Une formule mathématique indique que cette somme vaut n(n+1)(2n+1)/6. On ne la cherche pas à la démontrer, ici, mais tu peux construire une fonction `verif_fle_somme_carres(maxi)` qui vérifie que la formule est juste (en comparant avec le résultat renvoyé par la fonction précédente) pour les entiers de 0 à `maxi` : elle renverra `True` si c'est le cas, ou `False` sinon."
   ]
  },
  {
   "cell_type": "code",
   "execution_count": null,
   "metadata": {
    "collapsed": true
   },
   "outputs": [],
   "source": [
    "def somme_carres(n):\n",
    "    \"\"\"Renvoie la somme des carrés des entiers naturels de 0 à `n`\n",
    "    \n",
    "    On ne vérifie pas dans la fonction que `n` est un entier\n",
    "    \"\"\"\n",
    "    # [TODO] À TOI DE COMPLÉTER\n",
    "\n",
    "# BONUS\n",
    "def verif_fle_somme_carres(maxi):\n",
    "    \"\"\"Renvoie `True` si la formule suivante est vraie pour tout n de 0 à `maxi`, ou `False` sinon.\n",
    "    \n",
    "    . Formule à vérifier: \"la somme des carrés de 0 à n est égale à n(n+1)(2n+1)/6\"\n",
    "    . L'argument `maxi` doit être entier, mais cette fonction ne le vérifie pas.\n",
    "    \"\"\"\n",
    "    # [TODO] À TOI DE COMPLÉTER\n",
    "\n",
    "    \n",
    "# Exemple(s) pour vérifier\n",
    "somme_carres(42)\n",
    "#verif_fle_somme_carres(1000)"
   ]
  },
  {
   "cell_type": "markdown",
   "metadata": {},
   "source": [
    "### Parcours de chaîne de caractères\n",
    "Python permet également de parcourir une chaîne, caractère par caractère (la variable entre `for` et `in` prend successivement pour valeur une chaîne formée d'une unique lettre). Il s'agit aussi d'une boucle bornée, puisqu'on connaît dès le départ l'étendue des répétitions. *On verra plus tard qu'on peut parcourir ainsi un tableau de valeurs, un fichier ou d'autres types de données*."
   ]
  },
  {
   "cell_type": "code",
   "execution_count": null,
   "metadata": {
    "collapsed": true
   },
   "outputs": [],
   "source": [
    "txt = \"C'est \\\"geek\\\" !\"\n",
    "\n",
    "for lettre in txt:\n",
    "    # On précise la valeur de l'argument facultatif `end`\n",
    "    #  qui vaut par défaut \"\\n\" (retour à la ligne)\n",
    "    print(lettre, end= \" - \")\n",
    "    \n",
    "print(\"[FIN]\")"
   ]
  },
  {
   "cell_type": "markdown",
   "metadata": {},
   "source": [
    "## -II- Boucles bornées : avec `while`\n",
    "Prenons l'exemple suivant: on cherche le plus petit entier *n* tel que la somme des cubes des entiers naturels de 0 à *n* soit strictement supérieur à un nombre `seuil` donné. On va construire la somme de ces cubes, jusqu'à ce que l'objectif soit atteint. Autrement dit, **on boucle tant que l'objectif n'est pas atteint** (et on ne connaît pas le nombre d'étapes nécessaires à l'avance):"
   ]
  },
  {
   "cell_type": "code",
   "execution_count": null,
   "metadata": {
    "collapsed": true
   },
   "outputs": [],
   "source": [
    "def n_somme_cube_inf_a(seuil):\n",
    "    n, somme_cubes = 0, 0\n",
    "    \n",
    "    # Le contraire de `> seuil` est `<= seuil` \n",
    "    while somme_cubes <= seuil:\n",
    "        n = n + 1\n",
    "        somme_cubes = somme_cubes + n**3\n",
    "    return n\n",
    "\n",
    "# Exemple\n",
    "\n",
    "# Python permet (dans ses versions récentes) d'utiliser\n",
    "#  le `_` comme séparateur non pris en compte, dans les nombres,\n",
    "#  ce qui permet de gagner en lisibilité pour les grandes valeurs.\n",
    "mon_seuil = 1_000_000  # Ou 1e6 (mais qui serait flottant et non entier...)\n",
    "\n",
    "n_somme_cube_inf_a(mon_seuil)"
   ]
  },
  {
   "cell_type": "markdown",
   "metadata": {},
   "source": [
    "> **L'un des risques** avec ce type de boucle est que l'on entre dans une **boucle infinie**, (*cas où la condition booléenne qui suit le `while` ne devient jamais fausse*). C'est ce qui se passerait par exemple en supprimant l'instruction `n = n + 1` ci-dessus.\n",
    "> \n",
    "> (*Tu peux le tester ; pour interrompre de force le script, utilise le bouton carré «interrupt kernel» en haut de page.*)\n",
    "\n",
    "### Exemple (*à éviter*) de boucle bornée avec while\n",
    "Pour bien comprendre l'intérêt du `for`, reprenons l'énumération des entiers de 0 à *n*, mais avec `while` cette fois-ci, même si c'est déconseillé puisque moins adapté à la situation."
   ]
  },
  {
   "cell_type": "code",
   "execution_count": null,
   "metadata": {
    "collapsed": true
   },
   "outputs": [],
   "source": [
    "depart, arrivee = 0, 3\n",
    "\n",
    "# --- Rappel de la version conseillée, avec `for` ---\n",
    "for i in range(depart, arrivee + 1):\n",
    "    print(f\"Boucle numéro {i}\")\n",
    "\n",
    "print(\"  Équivaut à\")\n",
    "    \n",
    "# --- Version avec `while` ---\n",
    "# (1°) Il faut INITIALISER explicitement la variable \"compteur\" avant la boucle\n",
    "i = depart\n",
    "while i <= arrivee:\n",
    "    print(f\"Boucle numéro {i}\")\n",
    "    # (2°) il faut INCRÉMENTER explicitement la variable \"compteur\"\n",
    "    i = i + 1"
   ]
  },
  {
   "cell_type": "markdown",
   "metadata": {},
   "source": [
    "**Remarques**\n",
    "\n",
    "- Il y a en fait une différence subtile entre les deux exemples donnés (*tu peux le vérifier en faisant afficher les valeurs concernées, après chaque boucle, dans la cellule ci-dessus*):\n",
    "  - Dans certains langages, la variable \"compteur de boucle\" est locale, elle «disparaît» après la boucle. En Python, elle reste accesible après la boucle. Ici, elle vaut `arrivee` (*valeur prise lors de la dernière itération*).\n",
    "  - Dans la boucle while, l'incrémentation a lieu *avant* la vérification de la condition de bouclage de l'itération suivante. La variable \"compteur\" vaut donc ici `arrivee + 1` après la boucle, première valeur qui ne vérifie pas la condition.\n",
    "\n",
    "- Note également qu'il est plus sage de s'interdire de modifier la \"variable compteur\" dans une boucle `for`, même si Python est assez permissif.\n",
    "\n",
    "---\n",
    "### Travaux Pratiques\n",
    "**⇒** Complète le programme suivant, du jeu du «nombre mystère»: le programme choisit un entier aléatoire de 1 à 100, puis le joueur propose des valeurs. \n",
    "\n",
    "Quand ce nombre est deviné, le programme affiche «gagné !» (*en bonus, tu pourras faire afficher en combien de tentatives*). Sinon, il affiche «C'est plus» ou «C'est moins» selon le cas.\n",
    "\n",
    "Ici, la boucle doit s'effectuer au moins une fois. On a fait le choix d'utiliser une variable booléenne `continuer` initialisée à `True`. Il faudra donc la basculer à `False` pour stopper les itérations quand le nombre est deviné.\n",
    "\n",
    "> Note que l'on doit traduire la saisie renvoyée par `input()`, qui est toujours une chaîne de caractères, en un entier. \n",
    ">\n",
    "> Si l'utilisateur a la mauvaise idée de saisir autre chose, le programme sera arrêté avec un beau message d'erreur, tu peux le tester. On pourrait l'éviter et gérer cette éventualité, mais on laissera ceci de côté pour l'instant. *Les impatient·e·s pourront faire des recherches sur les «exceptions» en Python...*"
   ]
  },
  {
   "cell_type": "code",
   "execution_count": null,
   "metadata": {
    "collapsed": true
   },
   "outputs": [],
   "source": [
    "from random import randint\n",
    "\n",
    "# Avec `randint` du module `random`, les deux bornes sont \"comprises\", \n",
    "#  ne confonds pas avec `range()`...\n",
    "nb_mystere = randint(1, 100)\n",
    "\n",
    "continuer = True\n",
    "\n",
    "while continuer:\n",
    "    nb_essai = int(input(\"Ta valeur devinée = \"))\n",
    "    # [TODO] À TOI DE COMPLÉTER...\n",
    "    \n",
    "print(\"C'est terminé !\")"
   ]
  },
  {
   "cell_type": "markdown",
   "metadata": {},
   "source": [
    "**⇒** Complète la définition de la fonction suivante. Il peut être utile de construire d'abord une ou des fonctions qui répondent à un sous-problème, pour se simplifier la tâche.\n",
    "\n",
    "On s'intéresse à un jeu consistant à lancer deux dés simultanément, dans lequel le but est d'obtenir un double 6, autrement dit la valeur 6 sur chacun des deux dés."
   ]
  },
  {
   "cell_type": "code",
   "execution_count": 1,
   "metadata": {
    "collapsed": true
   },
   "outputs": [],
   "source": [
    "from random import randint\n",
    "\n",
    "def moy_double_six(n_essais):\n",
    "    \"\"\"Renvoie le nombre moyen de lancers de deux dés jusqu'à obtenir un double 6, sur `n_essais` essais.\n",
    "    \"\"\"\n",
    "    # [TODO] À TOI DE COMPLÉTER...\n",
    "\n",
    "# Exemple : moyenne du nombre de lancers pour otenir le double 6, sur une simulation de 2000 séries.\n",
    "moy_double_six(2000)"
   ]
  }
 ],
 "metadata": {
  "kernelspec": {
   "display_name": "Python 3",
   "language": "python",
   "name": "python3"
  },
  "language_info": {
   "codemirror_mode": {
    "name": "ipython",
    "version": 3
   },
   "file_extension": ".py",
   "mimetype": "text/x-python",
   "name": "python",
   "nbconvert_exporter": "python",
   "pygments_lexer": "ipython3",
   "version": "3.6.8"
  }
 },
 "nbformat": 4,
 "nbformat_minor": 2
}
